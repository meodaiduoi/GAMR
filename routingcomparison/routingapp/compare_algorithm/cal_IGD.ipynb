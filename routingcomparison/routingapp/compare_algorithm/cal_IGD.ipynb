{
 "cells": [
  {
   "cell_type": "code",
   "execution_count": 16,
   "metadata": {},
   "outputs": [],
   "source": [
    "from performance_indicator import *\n",
    "import json\n",
    "import numpy as np"
   ]
  },
  {
   "cell_type": "code",
   "execution_count": 17,
   "metadata": {},
   "outputs": [],
   "source": [
    "def cal_igd_result(topo_name, server_number):\n",
    "    # GAMR\n",
    "    gamr_path = 'result/gamr/' + topo_name + '_' + str(server_number) + '_server.json' \n",
    "    with open(gamr_path, 'r') as f:\n",
    "        gamr = json.load(f)\n",
    "\n",
    "    # NSGA-II\n",
    "    nsga2_path = 'result/nsga_ii/' + topo_name + '_' + str(server_number) + '_server.json'\n",
    "    with open(nsga2_path, 'r') as f:\n",
    "        nsga2 = json.load(f)\n",
    "    \n",
    "    # NSGA-III\n",
    "    nsga3_path = 'result/nsga_iii/' + topo_name + '_' + str(server_number) + '_server.json'\n",
    "    with open(nsga3_path, 'r') as f:\n",
    "        nsga3 = json.load(f)\n",
    "    \n",
    "    # MOEA/D\n",
    "    moead_path = 'result/moead/' + topo_name + '_' + str(server_number) + '_server.json'\n",
    "    with open(moead_path, 'r') as f:\n",
    "        moead = json.load(f)\n",
    "    \n",
    "    # AGE\n",
    "    age_path = 'result/age/' + topo_name + '_' + str(server_number) + '_server.json'\n",
    "    with open(age_path, 'r') as f:\n",
    "        age = json.load(f)\n",
    "\n",
    "    igd_gamr = []\n",
    "    igd_nsga2 = []\n",
    "    igd_nsga3 = []\n",
    "    igd_moead = []\n",
    "    igd_age = []\n",
    "\n",
    "    \n",
    "    for i in range(1, 51):\n",
    "        summaried_objective = []\n",
    "        summaried_objective.extend(gamr[str(i)])\n",
    "        summaried_objective.extend(nsga2[str(i)])\n",
    "        summaried_objective.extend(nsga3[str(i)])\n",
    "        summaried_objective.extend(moead[str(i)])\n",
    "        summaried_objective.extend(age[str(i)])\n",
    "        Pareto = nondominated_objectives(summaried_objective)\n",
    "    \n",
    "        igd_gamr.append(cal_igd(np.array(gamr[str(i)]), np.array(Pareto)))\n",
    "        igd_nsga2.append(cal_igd(np.array(nsga2[str(i)]), np.array(Pareto)))\n",
    "        igd_nsga3.append(cal_igd(np.array(nsga3[str(i)]), np.array(Pareto)))\n",
    "        igd_moead.append(cal_igd(np.array(moead[str(i)]), np.array(Pareto)))\n",
    "        igd_age.append(cal_igd(np.array(age[str(i)]), np.array(Pareto)))\n",
    "\n",
    "    print('IGD GAMR: ', np.mean(igd_gamr), np.std(igd_gamr))\n",
    "    print('IGD NSGA-II: ', np.mean(igd_nsga2), np.std(igd_nsga2))\n",
    "    print('IGD NSGA-III: ', np.mean(igd_nsga3), np.std(igd_nsga3))\n",
    "    print('IGD MOEA/D: ', np.mean(igd_moead), np.std(igd_moead))\n",
    "    print('IGD AGE: ', np.mean(igd_age), np.std(igd_age))\n",
    "\n",
    "\n",
    "\n",
    "def nondominated_objectives(objectives):\n",
    "    '''Lấy ra các objective không bị trội từ một danh sách các objective 3 chiều.'''\n",
    "    nondominated = []\n",
    "    for i, obj1 in enumerate(objectives):\n",
    "        is_dominated = False\n",
    "        for j, obj2 in enumerate(objectives):\n",
    "            if i != j:  # Không so sánh cùng một objective với chính nó\n",
    "                # Nếu objective obj1 bị trội bởi objective obj2\n",
    "                if all(o2 <= o1 for o1, o2 in zip(obj1, obj2)):\n",
    "                    # Tồn tại 1 giá trị nhỏ hơn\n",
    "                    if any(o2 < o1 for o1, o2 in zip(obj1, obj2)):\n",
    "                        is_dominated = True\n",
    "                        break\n",
    "        # Nếu objective obj1 không bị trội bởi bất kỳ objective nào khác\n",
    "        if not is_dominated:\n",
    "            nondominated.append(obj1)\n",
    "    return nondominated\n"
   ]
  },
  {
   "cell_type": "code",
   "execution_count": 18,
   "metadata": {},
   "outputs": [
    {
     "name": "stdout",
     "output_type": "stream",
     "text": [
      "IGD GAMR:  0.005505292131819366 0.008057498737209986\n",
      "IGD NSGA-II:  0.010897608157656452 0.013018796970279061\n",
      "IGD NSGA-III:  0.01875816885854439 0.017454760953839448\n",
      "IGD MOEA/D:  0.022614734455215602 0.021848117465443913\n",
      "IGD AGE:  0.039148974644052134 0.026629439068978862\n"
     ]
    }
   ],
   "source": [
    "cal_igd_result(\"oxford\", 2)"
   ]
  },
  {
   "cell_type": "code",
   "execution_count": 19,
   "metadata": {},
   "outputs": [
    {
     "name": "stdout",
     "output_type": "stream",
     "text": [
      "IGD GAMR:  0.0872517449372139 0.06351684450835512\n",
      "IGD NSGA-II:  0.041976938719354734 0.04382335587971412\n",
      "IGD NSGA-III:  0.033143540949359174 0.044944965762467\n",
      "IGD MOEA/D:  0.05215997000793876 0.046411382097979986\n",
      "IGD AGE:  0.06141125744957698 0.04541040445333457\n"
     ]
    }
   ],
   "source": [
    "cal_igd_result(\"oxford\", 5)"
   ]
  },
  {
   "cell_type": "code",
   "execution_count": 20,
   "metadata": {},
   "outputs": [
    {
     "name": "stdout",
     "output_type": "stream",
     "text": [
      "IGD GAMR:  0.024430547164922704 0.04379579168950798\n",
      "IGD NSGA-II:  0.03608520142662189 0.045130118324745325\n",
      "IGD NSGA-III:  0.10071670865440625 0.06135227247833361\n",
      "IGD MOEA/D:  0.04561205472447424 0.04718785708888818\n",
      "IGD AGE:  0.05393925846036215 0.04724550639498074\n"
     ]
    }
   ],
   "source": [
    "cal_igd_result(\"oxford\", 15)"
   ]
  },
  {
   "cell_type": "code",
   "execution_count": 21,
   "metadata": {},
   "outputs": [
    {
     "name": "stdout",
     "output_type": "stream",
     "text": [
      "IGD GAMR:  0.006766428999002393 0.010305731267434944\n",
      "IGD NSGA-II:  0.019604836991625966 0.014411201998861548\n",
      "IGD NSGA-III:  0.17812171306589264 0.07613197319737276\n",
      "IGD MOEA/D:  0.18507168783867523 0.07445516179974371\n",
      "IGD AGE:  0.04026974314725558 0.025732103091266282\n"
     ]
    }
   ],
   "source": [
    "cal_igd_result(\"chinanet\", 2)"
   ]
  },
  {
   "cell_type": "code",
   "execution_count": 22,
   "metadata": {},
   "outputs": [
    {
     "name": "stdout",
     "output_type": "stream",
     "text": [
      "IGD GAMR:  0.015062392894841646 0.01714532852856633\n",
      "IGD NSGA-II:  0.02532467285740278 0.018524643705897247\n",
      "IGD NSGA-III:  0.16011504431534354 0.06712539347493249\n",
      "IGD MOEA/D:  0.17977049629824754 0.07772898636611553\n",
      "IGD AGE:  0.033296063747010336 0.02105397333078325\n"
     ]
    }
   ],
   "source": [
    "cal_igd_result(\"chinanet\", 5)"
   ]
  },
  {
   "cell_type": "code",
   "execution_count": 23,
   "metadata": {},
   "outputs": [
    {
     "name": "stdout",
     "output_type": "stream",
     "text": [
      "IGD GAMR:  0.014595245382545287 0.014087702590962196\n",
      "IGD NSGA-II:  0.014996500430022121 0.01483514356999528\n",
      "IGD NSGA-III:  0.16928188377684325 0.07043043996179277\n",
      "IGD MOEA/D:  0.16118836254493174 0.07548654550997491\n",
      "IGD AGE:  0.03250837066471296 0.019523429044250484\n"
     ]
    }
   ],
   "source": [
    "cal_igd_result(\"chinanet\", 15)"
   ]
  }
 ],
 "metadata": {
  "kernelspec": {
   "display_name": "Python 3",
   "language": "python",
   "name": "python3"
  },
  "language_info": {
   "codemirror_mode": {
    "name": "ipython",
    "version": 3
   },
   "file_extension": ".py",
   "mimetype": "text/x-python",
   "name": "python",
   "nbconvert_exporter": "python",
   "pygments_lexer": "ipython3",
   "version": "3.12.0"
  }
 },
 "nbformat": 4,
 "nbformat_minor": 2
}
