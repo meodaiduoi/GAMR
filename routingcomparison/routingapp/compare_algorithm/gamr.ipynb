{
 "cells": [
  {
   "cell_type": "code",
   "execution_count": 1,
   "metadata": {},
   "outputs": [
    {
     "ename": "ModuleNotFoundError",
     "evalue": "No module named 'ga'",
     "output_type": "error",
     "traceback": [
      "\u001b[0;31m---------------------------------------------------------------------------\u001b[0m",
      "\u001b[0;31mModuleNotFoundError\u001b[0m                       Traceback (most recent call last)",
      "Cell \u001b[0;32mIn[1], line 2\u001b[0m\n\u001b[1;32m      1\u001b[0m \u001b[38;5;28;01mimport\u001b[39;00m \u001b[38;5;21;01mjson\u001b[39;00m\n\u001b[0;32m----> 2\u001b[0m \u001b[38;5;28;01mfrom\u001b[39;00m \u001b[38;5;21;01mga\u001b[39;00m\u001b[38;5;21;01m.\u001b[39;00m\u001b[38;5;21;01mmodule_function\u001b[39;00m \u001b[38;5;28;01mimport\u001b[39;00m \u001b[38;5;241m*\u001b[39m\n\u001b[1;32m      3\u001b[0m \u001b[38;5;28;01mfrom\u001b[39;00m \u001b[38;5;21;01mga\u001b[39;00m\u001b[38;5;21;01m.\u001b[39;00m\u001b[38;5;21;01mmodule_graph\u001b[39;00m \u001b[38;5;28;01mimport\u001b[39;00m \u001b[38;5;241m*\u001b[39m\n\u001b[1;32m      4\u001b[0m \u001b[38;5;28;01mfrom\u001b[39;00m \u001b[38;5;21;01mga\u001b[39;00m\u001b[38;5;21;01m.\u001b[39;00m\u001b[38;5;21;01mmodule_population\u001b[39;00m \u001b[38;5;28;01mimport\u001b[39;00m \u001b[38;5;241m*\u001b[39m\n",
      "\u001b[0;31mModuleNotFoundError\u001b[0m: No module named 'ga'"
     ]
    }
   ],
   "source": [
    "import json\n",
    "from ga.module_function import *\n",
    "from ga.module_graph import *\n",
    "from ga.module_population import *\n",
    "from ga.module_individual import *\n",
    "from ga.module_memset import *\n",
    "from ga.module_evole import *\n",
    "\n",
    "def read_data(filename):\n",
    "    with open(filename) as f:\n",
    "        data = json.load(f)\n",
    "    return data\n",
    "\n",
    "def run_ga(data_path,result_store, population_size, generations, mutation_rate, crossover_rate, run_time_def):\n",
    "    data = read_data(data_path)\n",
    "    nodes = data['nodes']\n",
    "    servers = data['server']\n",
    "    clients = data['client']\n",
    "    edges = data['edges']\n",
    "    adj_matrix = [[] for _ in range(len(nodes))]\n",
    "    for edge in edges:\n",
    "        adj_matrix[edge[0]].append(edge[1])\n",
    "        adj_matrix[edge[1]].append(edge[0])\n",
    "    graph = Graph(len(nodes), len(clients), len(servers), len(clients), clients, servers, adj_matrix)\n",
    "    func = Function()\n",
    "    scenario_list = data['scenario']\n",
    "    memSet = MemSet()\n",
    "    result = {}\n",
    "    run_time = 1\n",
    "    for scenario in scenario_list:\n",
    "        sum_delay_topo = 0\n",
    "        delay_update = scenario[\"delay\"]\n",
    "        for delay in delay_update:\n",
    "            sum_delay_topo  = sum_delay_topo + delay[2]\n",
    "        bandwidth_update = scenario[\"bandwidth\"]\n",
    "        loss_update = scenario[\"loss\"]\n",
    "        request = scenario[\"request\"]\n",
    "\n",
    "        graph.updateGraph(delay_update, loss_update, bandwidth_update)\n",
    "\n",
    "        pop = Population()\n",
    "        pop.generate_population(graph, func, population_size, len(request), request, memSet)\n",
    "        evole = Evolutionary()\n",
    "        solutions = evole.evolve(pop, func, graph, generations, population_size, mutation_rate, crossover_rate, 2, 300)\n",
    "\n",
    "        memSet.addAllPath(solutions, request)\n",
    "        # print(solutions)\n",
    "        Pareto = []\n",
    "\n",
    "        for indi in solutions:\n",
    "            objective = []\n",
    "            objective.append(indi.objectives[0]/sum_delay_topo)\n",
    "            objective.append(1+ indi.objectives[1]/200)\n",
    "            objective.append(indi.objectives[2])\n",
    "            Pareto.append(objective)\n",
    "        result[run_time] = Pareto\n",
    "        run_time = run_time + 1\n",
    "        if run_time == run_time_def + 1:\n",
    "            break\n",
    "    with open(result_store, 'w') as f:\n",
    "        json.dump(result, f)"
   ]
  },
  {
   "cell_type": "code",
   "execution_count": 4,
   "metadata": {},
   "outputs": [],
   "source": [
    "run_ga(r\"data\\oxford\\2_server.json\",r'result\\gamr\\oxford_2_server_2.json', 300, 100, 0.1, 0.8, 50)"
   ]
  },
  {
   "cell_type": "code",
   "execution_count": 5,
   "metadata": {},
   "outputs": [],
   "source": [
    "run_ga(r\"data\\oxford\\5_server.json\",r'result\\gamr\\oxford_5_server_2.json', 300, 100, 0.1, 0.8, 50)"
   ]
  },
  {
   "cell_type": "code",
   "execution_count": 6,
   "metadata": {},
   "outputs": [
    {
     "ename": "KeyboardInterrupt",
     "evalue": "",
     "output_type": "error",
     "traceback": [
      "\u001b[1;31m---------------------------------------------------------------------------\u001b[0m",
      "\u001b[1;31mKeyboardInterrupt\u001b[0m                         Traceback (most recent call last)",
      "Cell \u001b[1;32mIn[6], line 1\u001b[0m\n\u001b[1;32m----> 1\u001b[0m \u001b[43mrun_ga\u001b[49m\u001b[43m(\u001b[49m\u001b[38;5;124;43mr\u001b[39;49m\u001b[38;5;124;43m\"\u001b[39;49m\u001b[38;5;124;43mdata\u001b[39;49m\u001b[38;5;124;43m\\\u001b[39;49m\u001b[38;5;124;43moxford\u001b[39;49m\u001b[38;5;124;43m\\\u001b[39;49m\u001b[38;5;124;43m15_server.json\u001b[39;49m\u001b[38;5;124;43m\"\u001b[39;49m\u001b[43m,\u001b[49m\u001b[38;5;124;43mr\u001b[39;49m\u001b[38;5;124;43m'\u001b[39;49m\u001b[38;5;124;43mresult\u001b[39;49m\u001b[38;5;124;43m\\\u001b[39;49m\u001b[38;5;124;43mgamr\u001b[39;49m\u001b[38;5;124;43m\\\u001b[39;49m\u001b[38;5;124;43moxford_15_server_2.json\u001b[39;49m\u001b[38;5;124;43m'\u001b[39;49m\u001b[43m,\u001b[49m\u001b[43m \u001b[49m\u001b[38;5;241;43m300\u001b[39;49m\u001b[43m,\u001b[49m\u001b[43m \u001b[49m\u001b[38;5;241;43m100\u001b[39;49m\u001b[43m,\u001b[49m\u001b[43m \u001b[49m\u001b[38;5;241;43m0.1\u001b[39;49m\u001b[43m,\u001b[49m\u001b[43m \u001b[49m\u001b[38;5;241;43m0.8\u001b[39;49m\u001b[43m,\u001b[49m\u001b[43m \u001b[49m\u001b[38;5;241;43m50\u001b[39;49m\u001b[43m)\u001b[49m\n",
      "Cell \u001b[1;32mIn[3], line 44\u001b[0m, in \u001b[0;36mrun_ga\u001b[1;34m(data_path, result_store, population_size, generations, mutation_rate, crossover_rate, run_time_def)\u001b[0m\n\u001b[0;32m     42\u001b[0m pop\u001b[38;5;241m.\u001b[39mgenerate_population(graph, func, population_size, \u001b[38;5;28mlen\u001b[39m(request), request, memSet)\n\u001b[0;32m     43\u001b[0m evole \u001b[38;5;241m=\u001b[39m Evolutionary()\n\u001b[1;32m---> 44\u001b[0m solutions \u001b[38;5;241m=\u001b[39m \u001b[43mevole\u001b[49m\u001b[38;5;241;43m.\u001b[39;49m\u001b[43mevolve\u001b[49m\u001b[43m(\u001b[49m\u001b[43mpop\u001b[49m\u001b[43m,\u001b[49m\u001b[43m \u001b[49m\u001b[43mfunc\u001b[49m\u001b[43m,\u001b[49m\u001b[43m \u001b[49m\u001b[43mgraph\u001b[49m\u001b[43m,\u001b[49m\u001b[43m \u001b[49m\u001b[43mgenerations\u001b[49m\u001b[43m,\u001b[49m\u001b[43m \u001b[49m\u001b[43mpopulation_size\u001b[49m\u001b[43m,\u001b[49m\u001b[43m \u001b[49m\u001b[43mmutation_rate\u001b[49m\u001b[43m,\u001b[49m\u001b[43m \u001b[49m\u001b[43mcrossover_rate\u001b[49m\u001b[43m,\u001b[49m\u001b[43m \u001b[49m\u001b[38;5;241;43m2\u001b[39;49m\u001b[43m,\u001b[49m\u001b[43m \u001b[49m\u001b[38;5;241;43m300\u001b[39;49m\u001b[43m)\u001b[49m\n\u001b[0;32m     46\u001b[0m memSet\u001b[38;5;241m.\u001b[39maddAllPath(solutions, request)\n\u001b[0;32m     47\u001b[0m \u001b[38;5;66;03m# print(solutions)\u001b[39;00m\n",
      "File \u001b[1;32md:\\LAB\\SDN\\Code\\compare_algorithm_develope\\ga\\module_evole.py:30\u001b[0m, in \u001b[0;36mEvolutionary.evolve\u001b[1;34m(self, population, function, graph, number_generation, number_indi, pm, pc, number_particips, number_stop)\u001b[0m\n\u001b[0;32m     28\u001b[0m         off_list\u001b[38;5;241m.\u001b[39mappend(off2)\n\u001b[0;32m     29\u001b[0m population\u001b[38;5;241m.\u001b[39mindi_list\u001b[38;5;241m.\u001b[39mextend(off_list)\n\u001b[1;32m---> 30\u001b[0m \u001b[43mpopulation\u001b[49m\u001b[38;5;241;43m.\u001b[39;49m\u001b[43mfast_nondominated_sort\u001b[49m\u001b[43m(\u001b[49m\u001b[43m)\u001b[49m\n\u001b[0;32m     31\u001b[0m population\u001b[38;5;241m.\u001b[39msort_indi_list()\n\u001b[0;32m     32\u001b[0m \u001b[38;5;28;01mdel\u001b[39;00m population\u001b[38;5;241m.\u001b[39mindi_list[number_indi:]\n",
      "File \u001b[1;32md:\\LAB\\SDN\\Code\\compare_algorithm_develope\\ga\\module_population.py:109\u001b[0m, in \u001b[0;36mPopulation.fast_nondominated_sort\u001b[1;34m(self)\u001b[0m\n\u001b[0;32m    107\u001b[0m individual\u001b[38;5;241m.\u001b[39mdominated_solutions \u001b[38;5;241m=\u001b[39m []\n\u001b[0;32m    108\u001b[0m \u001b[38;5;28;01mfor\u001b[39;00m other_individual \u001b[38;5;129;01min\u001b[39;00m \u001b[38;5;28mself\u001b[39m\u001b[38;5;241m.\u001b[39mindi_list:\n\u001b[1;32m--> 109\u001b[0m     \u001b[38;5;28;01mif\u001b[39;00m \u001b[43mindividual\u001b[49m\u001b[38;5;241;43m.\u001b[39;49m\u001b[43mdominates\u001b[49m\u001b[43m(\u001b[49m\u001b[43mother_individual\u001b[49m\u001b[43m)\u001b[49m:\n\u001b[0;32m    110\u001b[0m         individual\u001b[38;5;241m.\u001b[39mdominated_solutions\u001b[38;5;241m.\u001b[39mappend(other_individual)\n\u001b[0;32m    111\u001b[0m     \u001b[38;5;28;01melif\u001b[39;00m other_individual\u001b[38;5;241m.\u001b[39mdominates(individual):\n",
      "File \u001b[1;32md:\\LAB\\SDN\\Code\\compare_algorithm_develope\\ga\\module_individual.py:95\u001b[0m, in \u001b[0;36mIndividual.dominates\u001b[1;34m(self, other_individual)\u001b[0m\n\u001b[0;32m     92\u001b[0m     \u001b[38;5;28mself\u001b[39m\u001b[38;5;241m.\u001b[39mobjectives\u001b[38;5;241m.\u001b[39mextend([delay_mean, bandwidth_mean, loss_mean])\n\u001b[0;32m     94\u001b[0m \u001b[38;5;66;03m#Check indi1 dominates indi2\u001b[39;00m\n\u001b[1;32m---> 95\u001b[0m \u001b[38;5;28;01mdef\u001b[39;00m \u001b[38;5;21mdominates\u001b[39m(\u001b[38;5;28mself\u001b[39m, other_individual):\n\u001b[0;32m     96\u001b[0m     and_condition \u001b[38;5;241m=\u001b[39m \u001b[38;5;28;01mTrue\u001b[39;00m\n\u001b[0;32m     97\u001b[0m     or_condition \u001b[38;5;241m=\u001b[39m \u001b[38;5;28;01mFalse\u001b[39;00m\n",
      "\u001b[1;31mKeyboardInterrupt\u001b[0m: "
     ]
    }
   ],
   "source": [
    "run_ga(r\"data\\oxford\\15_server.json\",r'result\\gamr\\oxford_15_server_2.json', 300, 100, 0.1, 0.8, 50)"
   ]
  },
  {
   "cell_type": "code",
   "execution_count": 2,
   "metadata": {},
   "outputs": [],
   "source": [
    "run_ga(r\"data\\chinanet\\2_server.json\",r'result\\gamr\\chinanet_2_server_2.json', 300, 100, 0.1, 0.8, 50)"
   ]
  },
  {
   "cell_type": "code",
   "execution_count": 7,
   "metadata": {},
   "outputs": [],
   "source": [
    "run_ga(r\"data\\chinanet\\5_server.json\",r'result\\gamr\\chinanet_5_server_2.json', 200, 100, 0.1, 0.8, 50)"
   ]
  },
  {
   "cell_type": "code",
   "execution_count": null,
   "metadata": {},
   "outputs": [],
   "source": [
    "run_ga(r\"data\\chinanet\\15_server.json\",r'result\\gamr\\chinanet_15_server_2.json', 200, 100, 0.1, 0.8, 50)"
   ]
  }
 ],
 "metadata": {
  "kernelspec": {
   "display_name": "Python 3",
   "language": "python",
   "name": "python3"
  },
  "language_info": {
   "codemirror_mode": {
    "name": "ipython",
    "version": 3
   },
   "file_extension": ".py",
   "mimetype": "text/x-python",
   "name": "python",
   "nbconvert_exporter": "python",
   "pygments_lexer": "ipython3",
   "version": "3.11.7"
  }
 },
 "nbformat": 4,
 "nbformat_minor": 2
}
