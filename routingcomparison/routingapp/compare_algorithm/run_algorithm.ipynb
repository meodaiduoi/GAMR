{
 "cells": [
  {
   "cell_type": "code",
   "execution_count": 4,
   "metadata": {},
   "outputs": [],
   "source": [
    "import json\n",
    "\n",
    "from nsga_ii_origin.graph_nsga_ii_origin import *\n",
    "from nsga_ii_origin.function_nsga_ii_origin import *\n",
    "from nsga_ii_origin.population_nsga_ii_origin import *\n",
    "from nsga_ii_origin.evole_nsga_ii_origin import *\n",
    "from nsga_ii_origin.individual_nsga_ii_origin import *\n",
    "\n",
    "def read_data(filename):\n",
    "    with open(filename) as f:\n",
    "        data = json.load(f)\n",
    "    return data\n",
    "\n",
    "def run_nsga_ii(data_path,result_store, population_size, generations, mutation_rate, crossover_rate, run_time_def):\n",
    "    data = read_data(data_path)\n",
    "    nodes = data['nodes']\n",
    "    servers = data['server']\n",
    "    clients = data['client']\n",
    "    edges = data['edges']\n",
    "    adj_matrix = [[] for _ in range(len(nodes))]\n",
    "    for edge in edges:\n",
    "        adj_matrix[edge[0]].append(edge[1])\n",
    "        adj_matrix[edge[1]].append(edge[0])\n",
    "    graph = Graph(len(nodes), len(clients), len(servers), len(clients), clients, servers, adj_matrix)\n",
    "    func = Function()\n",
    "    scenario_list = data['scenario']\n",
    "    result = {}\n",
    "    run_time = 1\n",
    "    for scenario in scenario_list:\n",
    "        sum_delay_topo = 0\n",
    "        delay_update = scenario[\"delay\"]\n",
    "        for delay in delay_update:\n",
    "            sum_delay_topo  = sum_delay_topo + delay[2]\n",
    "        bandwidth_update = scenario[\"bandwidth\"]\n",
    "        loss_update = scenario[\"loss\"]\n",
    "        request = scenario[\"request\"]\n",
    "\n",
    "        graph.updateGraph(delay_update, loss_update, bandwidth_update)\n",
    "\n",
    "        pop = Population()\n",
    "        pop.generate_population(graph, func, population_size, len(request), request)\n",
    "        evole = Evolutionary()\n",
    "        solutions = evole.evolve(pop, func, graph, generations, population_size, mutation_rate, crossover_rate, 2, 10)\n",
    "        # print(solutions)\n",
    "        Pareto = []\n",
    "\n",
    "        for indi in solutions:\n",
    "            objective = []\n",
    "            objective.append(indi.objectives[0]/sum_delay_topo)\n",
    "            objective.append(1+ indi.objectives[1]/200)\n",
    "            objective.append(indi.objectives[2])\n",
    "            Pareto.append(objective)\n",
    "        result[run_time] = Pareto\n",
    "        run_time = run_time + 1\n",
    "        if run_time == run_time_def + 1:\n",
    "            break\n",
    "    with open(result_store, 'w') as f:\n",
    "        json.dump(result, f)\n",
    "\n",
    "\n"
   ]
  },
  {
   "cell_type": "code",
   "execution_count": 5,
   "metadata": {},
   "outputs": [],
   "source": [
    "run_nsga_ii(r\"/home/ad/RoutingComparasion/RoutingComparation/routingcomparison/routingapp/compare_algorithm/data/chinanet/2_server.json\",r'result\\nsga_ii\\oxford_2_server.json', 100, 100, 0.1, 0.8, 50)"
   ]
  },
  {
   "cell_type": "code",
   "execution_count": 6,
   "metadata": {},
   "outputs": [
    {
     "ename": "FileNotFoundError",
     "evalue": "[Errno 2] No such file or directory: 'data\\\\oxford\\\\5_server.json'",
     "output_type": "error",
     "traceback": [
      "\u001b[0;31m---------------------------------------------------------------------------\u001b[0m",
      "\u001b[0;31mFileNotFoundError\u001b[0m                         Traceback (most recent call last)",
      "Cell \u001b[0;32mIn[6], line 1\u001b[0m\n\u001b[0;32m----> 1\u001b[0m \u001b[43mrun_nsga_ii\u001b[49m\u001b[43m(\u001b[49m\u001b[38;5;124;43mr\u001b[39;49m\u001b[38;5;124;43m\"\u001b[39;49m\u001b[38;5;124;43mdata\u001b[39;49m\u001b[38;5;124;43m\\\u001b[39;49m\u001b[38;5;124;43moxford\u001b[39;49m\u001b[38;5;124;43m\\\u001b[39;49m\u001b[38;5;124;43m5_server.json\u001b[39;49m\u001b[38;5;124;43m\"\u001b[39;49m\u001b[43m,\u001b[49m\u001b[38;5;124;43mr\u001b[39;49m\u001b[38;5;124;43m'\u001b[39;49m\u001b[38;5;124;43mresult\u001b[39;49m\u001b[38;5;124;43m\\\u001b[39;49m\u001b[38;5;124;43mnsga_ii\u001b[39;49m\u001b[38;5;124;43m\\\u001b[39;49m\u001b[38;5;124;43moxford_5_server.json\u001b[39;49m\u001b[38;5;124;43m'\u001b[39;49m\u001b[43m,\u001b[49m\u001b[43m \u001b[49m\u001b[38;5;241;43m100\u001b[39;49m\u001b[43m,\u001b[49m\u001b[43m \u001b[49m\u001b[38;5;241;43m100\u001b[39;49m\u001b[43m,\u001b[49m\u001b[43m \u001b[49m\u001b[38;5;241;43m0.1\u001b[39;49m\u001b[43m,\u001b[49m\u001b[43m \u001b[49m\u001b[38;5;241;43m0.8\u001b[39;49m\u001b[43m,\u001b[49m\u001b[43m \u001b[49m\u001b[38;5;241;43m50\u001b[39;49m\u001b[43m)\u001b[49m\n",
      "Cell \u001b[0;32mIn[4], line 15\u001b[0m, in \u001b[0;36mrun_nsga_ii\u001b[0;34m(data_path, result_store, population_size, generations, mutation_rate, crossover_rate, run_time_def)\u001b[0m\n\u001b[1;32m     14\u001b[0m \u001b[38;5;28;01mdef\u001b[39;00m \u001b[38;5;21mrun_nsga_ii\u001b[39m(data_path,result_store, population_size, generations, mutation_rate, crossover_rate, run_time_def):\n\u001b[0;32m---> 15\u001b[0m     data \u001b[38;5;241m=\u001b[39m \u001b[43mread_data\u001b[49m\u001b[43m(\u001b[49m\u001b[43mdata_path\u001b[49m\u001b[43m)\u001b[49m\n\u001b[1;32m     16\u001b[0m     nodes \u001b[38;5;241m=\u001b[39m data[\u001b[38;5;124m'\u001b[39m\u001b[38;5;124mnodes\u001b[39m\u001b[38;5;124m'\u001b[39m]\n\u001b[1;32m     17\u001b[0m     servers \u001b[38;5;241m=\u001b[39m data[\u001b[38;5;124m'\u001b[39m\u001b[38;5;124mserver\u001b[39m\u001b[38;5;124m'\u001b[39m]\n",
      "Cell \u001b[0;32mIn[4], line 10\u001b[0m, in \u001b[0;36mread_data\u001b[0;34m(filename)\u001b[0m\n\u001b[1;32m      9\u001b[0m \u001b[38;5;28;01mdef\u001b[39;00m \u001b[38;5;21mread_data\u001b[39m(filename):\n\u001b[0;32m---> 10\u001b[0m     \u001b[38;5;28;01mwith\u001b[39;00m \u001b[38;5;28;43mopen\u001b[39;49m\u001b[43m(\u001b[49m\u001b[43mfilename\u001b[49m\u001b[43m)\u001b[49m \u001b[38;5;28;01mas\u001b[39;00m f:\n\u001b[1;32m     11\u001b[0m         data \u001b[38;5;241m=\u001b[39m json\u001b[38;5;241m.\u001b[39mload(f)\n\u001b[1;32m     12\u001b[0m     \u001b[38;5;28;01mreturn\u001b[39;00m data\n",
      "File \u001b[0;32m~/RoutingComparasion/venv11/lib/python3.11/site-packages/IPython/core/interactiveshell.py:324\u001b[0m, in \u001b[0;36m_modified_open\u001b[0;34m(file, *args, **kwargs)\u001b[0m\n\u001b[1;32m    317\u001b[0m \u001b[38;5;28;01mif\u001b[39;00m file \u001b[38;5;129;01min\u001b[39;00m {\u001b[38;5;241m0\u001b[39m, \u001b[38;5;241m1\u001b[39m, \u001b[38;5;241m2\u001b[39m}:\n\u001b[1;32m    318\u001b[0m     \u001b[38;5;28;01mraise\u001b[39;00m \u001b[38;5;167;01mValueError\u001b[39;00m(\n\u001b[1;32m    319\u001b[0m         \u001b[38;5;124mf\u001b[39m\u001b[38;5;124m\"\u001b[39m\u001b[38;5;124mIPython won\u001b[39m\u001b[38;5;124m'\u001b[39m\u001b[38;5;124mt let you open fd=\u001b[39m\u001b[38;5;132;01m{\u001b[39;00mfile\u001b[38;5;132;01m}\u001b[39;00m\u001b[38;5;124m by default \u001b[39m\u001b[38;5;124m\"\u001b[39m\n\u001b[1;32m    320\u001b[0m         \u001b[38;5;124m\"\u001b[39m\u001b[38;5;124mas it is likely to crash IPython. If you know what you are doing, \u001b[39m\u001b[38;5;124m\"\u001b[39m\n\u001b[1;32m    321\u001b[0m         \u001b[38;5;124m\"\u001b[39m\u001b[38;5;124myou can use builtins\u001b[39m\u001b[38;5;124m'\u001b[39m\u001b[38;5;124m open.\u001b[39m\u001b[38;5;124m\"\u001b[39m\n\u001b[1;32m    322\u001b[0m     )\n\u001b[0;32m--> 324\u001b[0m \u001b[38;5;28;01mreturn\u001b[39;00m \u001b[43mio_open\u001b[49m\u001b[43m(\u001b[49m\u001b[43mfile\u001b[49m\u001b[43m,\u001b[49m\u001b[43m \u001b[49m\u001b[38;5;241;43m*\u001b[39;49m\u001b[43margs\u001b[49m\u001b[43m,\u001b[49m\u001b[43m \u001b[49m\u001b[38;5;241;43m*\u001b[39;49m\u001b[38;5;241;43m*\u001b[39;49m\u001b[43mkwargs\u001b[49m\u001b[43m)\u001b[49m\n",
      "\u001b[0;31mFileNotFoundError\u001b[0m: [Errno 2] No such file or directory: 'data\\\\oxford\\\\5_server.json'"
     ]
    }
   ],
   "source": [
    "run_nsga_ii(r\"data\\oxford\\5_server.json\",r'result\\nsga_ii\\oxford_5_server.json', 100, 100, 0.1, 0.8, 50)"
   ]
  },
  {
   "cell_type": "code",
   "execution_count": null,
   "metadata": {},
   "outputs": [],
   "source": [
    "run_nsga_ii(r\"data\\oxford\\15_server.json\",r'result\\nsga_ii\\oxford_15_server.json', 100, 100, 0.1, 0.8, 50)"
   ]
  },
  {
   "cell_type": "code",
   "execution_count": null,
   "metadata": {},
   "outputs": [],
   "source": [
    "run_nsga_ii(r\"data\\chinanet\\2_server.json\",r'result\\nsga_ii\\chinanet_2_server.json', 100, 100, 0.1, 0.8, 50)"
   ]
  },
  {
   "cell_type": "code",
   "execution_count": null,
   "metadata": {},
   "outputs": [],
   "source": [
    "run_nsga_ii(r\"data\\chinanet\\5_server.json\",r'result\\nsga_ii\\chinanet_5_server.json', 100, 100, 0.1, 0.8, 50)"
   ]
  },
  {
   "cell_type": "code",
   "execution_count": null,
   "metadata": {},
   "outputs": [],
   "source": [
    "run_nsga_ii(r\"data\\chinanet\\15_server.json\",r'result\\nsga_ii\\chinanet_15_server.json', 100, 100, 0.1, 0.8, 50)"
   ]
  },
  {
   "cell_type": "code",
   "execution_count": null,
   "metadata": {},
   "outputs": [],
   "source": [
    "import json\n",
    "from ga.module_function import *\n",
    "from ga.module_graph import *\n",
    "from ga.module_population import *\n",
    "from ga.module_individual import *\n",
    "from ga.module_memset import *\n",
    "from ga.module_evole import *\n",
    "\n",
    "def read_data(filename):\n",
    "    with open(filename) as f:\n",
    "        data = json.load(f)\n",
    "    return data\n",
    "\n",
    "def run_ga(data_path,result_store, population_size, generations, mutation_rate, crossover_rate, run_time_def):\n",
    "    data = read_data(data_path)\n",
    "    nodes = data['nodes']\n",
    "    servers = data['server']\n",
    "    clients = data['client']\n",
    "    edges = data['edges']\n",
    "    adj_matrix = [[] for _ in range(len(nodes))]\n",
    "    for edge in edges:\n",
    "        adj_matrix[edge[0]].append(edge[1])\n",
    "        adj_matrix[edge[1]].append(edge[0])\n",
    "    graph = Graph(len(nodes), len(clients), len(servers), len(clients), clients, servers, adj_matrix)\n",
    "    func = Function()\n",
    "    scenario_list = data['scenario']\n",
    "    memSet = MemSet()\n",
    "    result = {}\n",
    "    run_time = 1\n",
    "    for scenario in scenario_list:\n",
    "        sum_delay_topo = 0\n",
    "        delay_update = scenario[\"delay\"]\n",
    "        for delay in delay_update:\n",
    "            sum_delay_topo  = sum_delay_topo + delay[2]\n",
    "        bandwidth_update = scenario[\"bandwidth\"]\n",
    "        loss_update = scenario[\"loss\"]\n",
    "        request = scenario[\"request\"]\n",
    "\n",
    "        graph.updateGraph(delay_update, loss_update, bandwidth_update)\n",
    "\n",
    "        pop = Population()\n",
    "        pop.generate_population(graph, func, population_size, len(request), request, memSet)\n",
    "        evole = Evolutionary()\n",
    "        solutions = evole.evolve(pop, func, graph, generations, population_size, mutation_rate, crossover_rate, 2, 10)\n",
    "\n",
    "        memSet.addAllPath(solutions, request)\n",
    "        # print(solutions)\n",
    "        Pareto = []\n",
    "\n",
    "        for indi in solutions:\n",
    "            objective = []\n",
    "            objective.append(indi.objectives[0]/sum_delay_topo)\n",
    "            objective.append(1+ indi.objectives[1]/200)\n",
    "            objective.append(indi.objectives[2])\n",
    "            Pareto.append(objective)\n",
    "        result[run_time] = Pareto\n",
    "        run_time = run_time + 1\n",
    "        if run_time == run_time_def + 1:\n",
    "            break\n",
    "    with open(result_store, 'w') as f:\n",
    "        json.dump(result, f)\n",
    "\n"
   ]
  },
  {
   "cell_type": "code",
   "execution_count": null,
   "metadata": {},
   "outputs": [
    {
     "ename": "KeyboardInterrupt",
     "evalue": "",
     "output_type": "error",
     "traceback": [
      "\u001b[1;31m---------------------------------------------------------------------------\u001b[0m",
      "\u001b[1;31mKeyboardInterrupt\u001b[0m                         Traceback (most recent call last)",
      "Cell \u001b[1;32mIn[2], line 1\u001b[0m\n\u001b[1;32m----> 1\u001b[0m \u001b[43mrun_ga\u001b[49m\u001b[43m(\u001b[49m\u001b[38;5;124;43mr\u001b[39;49m\u001b[38;5;124;43m\"\u001b[39;49m\u001b[38;5;124;43mdata\u001b[39;49m\u001b[38;5;124;43m\\\u001b[39;49m\u001b[38;5;124;43moxford\u001b[39;49m\u001b[38;5;124;43m\\\u001b[39;49m\u001b[38;5;124;43m2_server.json\u001b[39;49m\u001b[38;5;124;43m\"\u001b[39;49m\u001b[43m,\u001b[49m\u001b[38;5;124;43mr\u001b[39;49m\u001b[38;5;124;43m'\u001b[39;49m\u001b[38;5;124;43mresult\u001b[39;49m\u001b[38;5;124;43m\\\u001b[39;49m\u001b[38;5;124;43mgamr\u001b[39;49m\u001b[38;5;124;43m\\\u001b[39;49m\u001b[38;5;124;43moxford_2_server.json\u001b[39;49m\u001b[38;5;124;43m'\u001b[39;49m\u001b[43m,\u001b[49m\u001b[43m \u001b[49m\u001b[38;5;241;43m100\u001b[39;49m\u001b[43m,\u001b[49m\u001b[43m \u001b[49m\u001b[38;5;241;43m100\u001b[39;49m\u001b[43m,\u001b[49m\u001b[43m \u001b[49m\u001b[38;5;241;43m0.1\u001b[39;49m\u001b[43m,\u001b[49m\u001b[43m \u001b[49m\u001b[38;5;241;43m0.8\u001b[39;49m\u001b[43m,\u001b[49m\u001b[43m \u001b[49m\u001b[38;5;241;43m50\u001b[39;49m\u001b[43m)\u001b[49m\n",
      "Cell \u001b[1;32mIn[1], line 44\u001b[0m, in \u001b[0;36mrun_ga\u001b[1;34m(data_path, result_store, population_size, generations, mutation_rate, crossover_rate, run_time_def)\u001b[0m\n\u001b[0;32m     42\u001b[0m pop\u001b[38;5;241m.\u001b[39mgenerate_population(graph, func, population_size, \u001b[38;5;28mlen\u001b[39m(request), request, memSet)\n\u001b[0;32m     43\u001b[0m evole \u001b[38;5;241m=\u001b[39m Evolutionary()\n\u001b[1;32m---> 44\u001b[0m solutions \u001b[38;5;241m=\u001b[39m \u001b[43mevole\u001b[49m\u001b[38;5;241;43m.\u001b[39;49m\u001b[43mevolve\u001b[49m\u001b[43m(\u001b[49m\u001b[43mpop\u001b[49m\u001b[43m,\u001b[49m\u001b[43m \u001b[49m\u001b[43mfunc\u001b[49m\u001b[43m,\u001b[49m\u001b[43m \u001b[49m\u001b[43mgraph\u001b[49m\u001b[43m,\u001b[49m\u001b[43m \u001b[49m\u001b[43mgenerations\u001b[49m\u001b[43m,\u001b[49m\u001b[43m \u001b[49m\u001b[43mpopulation_size\u001b[49m\u001b[43m,\u001b[49m\u001b[43m \u001b[49m\u001b[43mmutation_rate\u001b[49m\u001b[43m,\u001b[49m\u001b[43m \u001b[49m\u001b[43mcrossover_rate\u001b[49m\u001b[43m,\u001b[49m\u001b[43m \u001b[49m\u001b[38;5;241;43m2\u001b[39;49m\u001b[43m,\u001b[49m\u001b[43m \u001b[49m\u001b[38;5;241;43m10\u001b[39;49m\u001b[43m)\u001b[49m\n\u001b[0;32m     46\u001b[0m memSet\u001b[38;5;241m.\u001b[39maddAllPath(solutions, request)\n\u001b[0;32m     47\u001b[0m \u001b[38;5;66;03m# print(solutions)\u001b[39;00m\n",
      "File \u001b[1;32md:\\LAB\\SDN\\Code\\compare_algorithm_develope\\ga\\module_evole.py:30\u001b[0m, in \u001b[0;36mEvolutionary.evolve\u001b[1;34m(self, population, function, graph, number_generation, number_indi, pm, pc, number_particips, number_stop)\u001b[0m\n\u001b[0;32m     28\u001b[0m         off_list\u001b[38;5;241m.\u001b[39mappend(off2)\n\u001b[0;32m     29\u001b[0m population\u001b[38;5;241m.\u001b[39mindi_list\u001b[38;5;241m.\u001b[39mextend(off_list)\n\u001b[1;32m---> 30\u001b[0m \u001b[43mpopulation\u001b[49m\u001b[38;5;241;43m.\u001b[39;49m\u001b[43mfast_nondominated_sort\u001b[49m\u001b[43m(\u001b[49m\u001b[43m)\u001b[49m\n\u001b[0;32m     31\u001b[0m population\u001b[38;5;241m.\u001b[39msort_indi_list()\n\u001b[0;32m     32\u001b[0m \u001b[38;5;28;01mdel\u001b[39;00m population\u001b[38;5;241m.\u001b[39mindi_list[number_indi:]\n",
      "File \u001b[1;32md:\\LAB\\SDN\\Code\\compare_algorithm_develope\\ga\\module_population.py:109\u001b[0m, in \u001b[0;36mPopulation.fast_nondominated_sort\u001b[1;34m(self)\u001b[0m\n\u001b[0;32m    107\u001b[0m individual\u001b[38;5;241m.\u001b[39mdominated_solutions \u001b[38;5;241m=\u001b[39m []\n\u001b[0;32m    108\u001b[0m \u001b[38;5;28;01mfor\u001b[39;00m other_individual \u001b[38;5;129;01min\u001b[39;00m \u001b[38;5;28mself\u001b[39m\u001b[38;5;241m.\u001b[39mindi_list:\n\u001b[1;32m--> 109\u001b[0m     \u001b[38;5;28;01mif\u001b[39;00m \u001b[43mindividual\u001b[49m\u001b[38;5;241;43m.\u001b[39;49m\u001b[43mdominates\u001b[49m\u001b[43m(\u001b[49m\u001b[43mother_individual\u001b[49m\u001b[43m)\u001b[49m:\n\u001b[0;32m    110\u001b[0m         individual\u001b[38;5;241m.\u001b[39mdominated_solutions\u001b[38;5;241m.\u001b[39mappend(other_individual)\n\u001b[0;32m    111\u001b[0m     \u001b[38;5;28;01melif\u001b[39;00m other_individual\u001b[38;5;241m.\u001b[39mdominates(individual):\n",
      "File \u001b[1;32md:\\LAB\\SDN\\Code\\compare_algorithm_develope\\ga\\module_individual.py:99\u001b[0m, in \u001b[0;36mIndividual.dominates\u001b[1;34m(self, other_individual)\u001b[0m\n\u001b[0;32m     97\u001b[0m \u001b[38;5;28;01mfor\u001b[39;00m first, second \u001b[38;5;129;01min\u001b[39;00m \u001b[38;5;28mzip\u001b[39m(\u001b[38;5;28mself\u001b[39m\u001b[38;5;241m.\u001b[39mobjectives, other_individual\u001b[38;5;241m.\u001b[39mobjectives):\n\u001b[0;32m     98\u001b[0m     and_condition \u001b[38;5;241m=\u001b[39m and_condition \u001b[38;5;129;01mand\u001b[39;00m first \u001b[38;5;241m<\u001b[39m\u001b[38;5;241m=\u001b[39m second\n\u001b[1;32m---> 99\u001b[0m     or_condition \u001b[38;5;241m=\u001b[39m or_condition \u001b[38;5;129;01mor\u001b[39;00m first \u001b[38;5;241m<\u001b[39m second\n\u001b[0;32m    100\u001b[0m \u001b[38;5;28;01mreturn\u001b[39;00m (and_condition \u001b[38;5;129;01mand\u001b[39;00m or_condition)\n",
      "\u001b[1;31mKeyboardInterrupt\u001b[0m: "
     ]
    }
   ],
   "source": [
    "run_ga(r\"data\\oxford\\2_server.json\",r'result\\gamr\\oxford_2_server.json', 100, 100, 0.1, 0.8, 50)\n"
   ]
  },
  {
   "cell_type": "code",
   "execution_count": null,
   "metadata": {},
   "outputs": [],
   "source": [
    "run_ga(r\"data\\oxford\\5_server.json\",r'result\\gamr\\oxford_5_server.json', 100, 100, 0.1, 0.8, 50)\n"
   ]
  },
  {
   "cell_type": "code",
   "execution_count": null,
   "metadata": {},
   "outputs": [],
   "source": [
    "run_ga(r\"data\\oxford\\15_server.json\",r'result\\gamr\\oxford_15_server.json', 100, 100, 0.1, 0.8, 50)\n"
   ]
  },
  {
   "cell_type": "code",
   "execution_count": null,
   "metadata": {},
   "outputs": [],
   "source": [
    "run_ga(r\"data\\chinanet\\2_server.json\",r'result\\gamr\\chinanet_2_server.json', 100, 100, 0.1, 0.8, 50)\n"
   ]
  },
  {
   "cell_type": "code",
   "execution_count": null,
   "metadata": {},
   "outputs": [],
   "source": [
    "run_ga(r\"data\\chinanet\\5_server.json\",r'result\\gamr\\chinanet_5_server.json', 100, 100, 0.1, 0.8, 50)\n"
   ]
  },
  {
   "cell_type": "code",
   "execution_count": null,
   "metadata": {},
   "outputs": [],
   "source": [
    "run_ga(r\"data\\chinanet\\15_server.json\",r'result\\gamr\\chinanet_15_server.json', 100, 100, 0.1, 0.8, 50)"
   ]
  },
  {
   "cell_type": "code",
   "execution_count": null,
   "metadata": {},
   "outputs": [],
   "source": [
    "import json\n",
    "from moea_d.evole_moead import *\n",
    "from moea_d.graph_moead import *\n",
    "from moea_d.function_moead import *\n",
    "from moea_d.individual_moead import *\n",
    "from moea_d.population_moead import *\n",
    "\n",
    "def read_data(filename):\n",
    "    with open(filename) as f:\n",
    "        data = json.load(f)\n",
    "    return data\n",
    "\n",
    "def run_moead(data_path,result_store, population_size, generations, mutation_rate, crossover_rate, run_time_def):\n",
    "    data = read_data(data_path)\n",
    "    nodes = data['nodes']\n",
    "    servers = data['server']\n",
    "    clients = data['client']\n",
    "    edges = data['edges']\n",
    "    adj_matrix = [[] for _ in range(len(nodes))]\n",
    "    for edge in edges:\n",
    "        adj_matrix[edge[0]].append(edge[1])\n",
    "        adj_matrix[edge[1]].append(edge[0])\n",
    "    graph = Graph(len(nodes), len(clients), len(servers), len(clients), clients, servers, adj_matrix)\n",
    "    func = Function()\n",
    "    scenario_list = data['scenario']\n",
    "    result = {}\n",
    "    run_time = 1\n",
    "    for scenario in scenario_list:\n",
    "        sum_delay_topo = 0\n",
    "        delay_update = scenario[\"delay\"]\n",
    "        for delay in delay_update:\n",
    "            sum_delay_topo  = sum_delay_topo + delay[2]\n",
    "        bandwidth_update = scenario[\"bandwidth\"]\n",
    "        loss_update = scenario[\"loss\"]\n",
    "        request = scenario[\"request\"]\n",
    "\n",
    "        graph.updateGraph(delay_update, loss_update, bandwidth_update)\n",
    "\n",
    "        pop = Population(3, 100)\n",
    "        pop.generate_population(graph, func, population_size, len(request), request)\n",
    "        evole = Evolutionary()\n",
    "        solutions = evole.evolve(pop, func, graph, generations, population_size, mutation_rate, crossover_rate, 2, 10)\n",
    "        # print(solutions)\n",
    "        Pareto = []\n",
    "\n",
    "        for indi in solutions:\n",
    "            objective = []\n",
    "            objective.append(indi.objectives[0]/sum_delay_topo)\n",
    "            objective.append(1+ indi.objectives[1]/200)\n",
    "            objective.append(indi.objectives[2])\n",
    "            Pareto.append(objective)\n",
    "        result[run_time] = Pareto\n",
    "        run_time = run_time + 1\n",
    "        if run_time == run_time_def + 1:\n",
    "            break\n",
    "    with open(result_store, 'w') as f:\n",
    "        json.dump(result, f)\n",
    "\n"
   ]
  },
  {
   "cell_type": "code",
   "execution_count": null,
   "metadata": {},
   "outputs": [],
   "source": [
    "run_moead(r\"data\\oxford\\2_server.json\",r'result\\moead\\oxford_2_server.json', 100, 100, 0.1, 0.8, 1)\n"
   ]
  }
 ],
 "metadata": {
  "kernelspec": {
   "display_name": "Python 3",
   "language": "python",
   "name": "python3"
  },
  "language_info": {
   "codemirror_mode": {
    "name": "ipython",
    "version": 3
   },
   "file_extension": ".py",
   "mimetype": "text/x-python",
   "name": "python",
   "nbconvert_exporter": "python",
   "pygments_lexer": "ipython3",
   "version": "3.11.7"
  }
 },
 "nbformat": 4,
 "nbformat_minor": 2
}
