{
 "cells": [
  {
   "cell_type": "code",
   "execution_count": 2,
   "metadata": {},
   "outputs": [
    {
     "ename": "AttributeError",
     "evalue": "'NoneType' object has no attribute 'get'",
     "output_type": "error",
     "traceback": [
      "\u001b[0;31m---------------------------------------------------------------------------\u001b[0m",
      "\u001b[0;31mAttributeError\u001b[0m                            Traceback (most recent call last)",
      "Cell \u001b[0;32mIn[2], line 46\u001b[0m\n\u001b[1;32m     34\u001b[0m         link_quality\u001b[39m.\u001b[39mappend({\n\u001b[1;32m     35\u001b[0m             \u001b[39m'\u001b[39m\u001b[39msrc.dpid\u001b[39m\u001b[39m'\u001b[39m: key[\u001b[39m0\u001b[39m],\n\u001b[1;32m     36\u001b[0m             \u001b[39m'\u001b[39m\u001b[39mdst.dpid\u001b[39m\u001b[39m'\u001b[39m: key[\u001b[39m1\u001b[39m],\n\u001b[0;32m   (...)\u001b[0m\n\u001b[1;32m     41\u001b[0m             \u001b[39m'\u001b[39m\u001b[39mlink_utilization\u001b[39m\u001b[39m'\u001b[39m: lqc_value\u001b[39m.\u001b[39mget(\u001b[39m'\u001b[39m\u001b[39mlink_usage\u001b[39m\u001b[39m'\u001b[39m, \u001b[39m0\u001b[39m) \u001b[39m/\u001b[39m lqm_value\u001b[39m.\u001b[39mget(\u001b[39m'\u001b[39m\u001b[39mbandwidth\u001b[39m\u001b[39m'\u001b[39m, \u001b[39m1\u001b[39m) \u001b[39m*\u001b[39m \u001b[39m100\u001b[39m,\n\u001b[1;32m     42\u001b[0m         })\n\u001b[1;32m     44\u001b[0m     \u001b[39mreturn\u001b[39;00m link_quality\n\u001b[0;32m---> 46\u001b[0m get_link_quality()\n",
      "Cell \u001b[0;32mIn[2], line 37\u001b[0m, in \u001b[0;36mget_link_quality\u001b[0;34m()\u001b[0m\n\u001b[1;32m     32\u001b[0m     lps_value \u001b[39m=\u001b[39m lps_hmap\u001b[39m.\u001b[39mget(key)\n\u001b[1;32m     33\u001b[0m     \u001b[39mif\u001b[39;00m lqm_value \u001b[39m==\u001b[39m \u001b[39mNone\u001b[39;00m: \u001b[39mcontinue\u001b[39;00m  \n\u001b[1;32m     34\u001b[0m     link_quality\u001b[39m.\u001b[39mappend({\n\u001b[1;32m     35\u001b[0m         \u001b[39m'\u001b[39m\u001b[39msrc.dpid\u001b[39m\u001b[39m'\u001b[39m: key[\u001b[39m0\u001b[39m],\n\u001b[1;32m     36\u001b[0m         \u001b[39m'\u001b[39m\u001b[39mdst.dpid\u001b[39m\u001b[39m'\u001b[39m: key[\u001b[39m1\u001b[39m],\n\u001b[0;32m---> 37\u001b[0m         \u001b[39m'\u001b[39m\u001b[39mpacket_loss\u001b[39m\u001b[39m'\u001b[39m: lps_value\u001b[39m.\u001b[39;49mget(\u001b[39m'\u001b[39m\u001b[39mpacket_loss\u001b[39m\u001b[39m'\u001b[39m, \u001b[39mNone\u001b[39;00m),\n\u001b[1;32m     38\u001b[0m         \u001b[39m'\u001b[39m\u001b[39mdelay\u001b[39m\u001b[39m'\u001b[39m: lps_value\u001b[39m.\u001b[39mget(\u001b[39m'\u001b[39m\u001b[39mdelay\u001b[39m\u001b[39m'\u001b[39m, \u001b[39mNone\u001b[39;00m),\n\u001b[1;32m     39\u001b[0m         \u001b[39m'\u001b[39m\u001b[39mbandwidth\u001b[39m\u001b[39m'\u001b[39m: lqm_value\u001b[39m.\u001b[39mget(\u001b[39m'\u001b[39m\u001b[39mbandwidth\u001b[39m\u001b[39m'\u001b[39m, \u001b[39m1\u001b[39m),\n\u001b[1;32m     40\u001b[0m         \u001b[39m'\u001b[39m\u001b[39mlink_usage\u001b[39m\u001b[39m'\u001b[39m: lqc_value\u001b[39m.\u001b[39mget(\u001b[39m'\u001b[39m\u001b[39mlink_usage\u001b[39m\u001b[39m'\u001b[39m, \u001b[39m0\u001b[39m),\n\u001b[1;32m     41\u001b[0m         \u001b[39m'\u001b[39m\u001b[39mlink_utilization\u001b[39m\u001b[39m'\u001b[39m: lqc_value\u001b[39m.\u001b[39mget(\u001b[39m'\u001b[39m\u001b[39mlink_usage\u001b[39m\u001b[39m'\u001b[39m, \u001b[39m0\u001b[39m) \u001b[39m/\u001b[39m lqm_value\u001b[39m.\u001b[39mget(\u001b[39m'\u001b[39m\u001b[39mbandwidth\u001b[39m\u001b[39m'\u001b[39m, \u001b[39m1\u001b[39m) \u001b[39m*\u001b[39m \u001b[39m100\u001b[39m,\n\u001b[1;32m     42\u001b[0m     })\n\u001b[1;32m     44\u001b[0m \u001b[39mreturn\u001b[39;00m link_quality\n",
      "\u001b[0;31mAttributeError\u001b[0m: 'NoneType' object has no attribute 'get'"
     ]
    }
   ],
   "source": [
    "import requests as rq\n",
    "def get_link_quality():\n",
    "    '''\n",
    "        Get from data from /link_quality\n",
    "        currently working as a workaround \n",
    "        for link utilization\n",
    "    '''\n",
    "\n",
    "    link_quality_controller = rq.get('http://0.0.0.0:8080/link_quality').json()\n",
    "    link_quality_mininet = rq.get('http://0.0.0.0:8000/link_quality').json()\n",
    "    link_ping_stat = rq.get('http://0.0.0.0:8000/link_ping_stat').json()\n",
    "    \n",
    "    lqc_hmap = {}\n",
    "    lqm_hmap = {}\n",
    "    lps_hmap = {}\n",
    "    \n",
    "    for d in link_quality_controller:\n",
    "        key = (d['src.dpid'], d['dst.dpid'])\n",
    "        lqc_hmap[key] = d\n",
    "\n",
    "    for d in link_quality_mininet:\n",
    "        key = (d['src.dpid'], d['dst.dpid'])\n",
    "        lqm_hmap[key] = d\n",
    "    \n",
    "    for d in link_ping_stat:\n",
    "        key = (d['src.host'], d['dst.host'])\n",
    "        lps_hmap[key] = d\n",
    "\n",
    "    link_quality = []\n",
    "    for key, lqc_value in lqc_hmap.items():\n",
    "        lqm_value = lqm_hmap.get(key)\n",
    "        lps_value = lps_hmap.get(key)\n",
    "        if lqm_value == None: continue  \n",
    "        link_quality.append({\n",
    "            'src.dpid': key[0],\n",
    "            'dst.dpid': key[1],\n",
    "            'packet_loss': lps_value.get('packet_loss', None),\n",
    "            'delay': lps_value.get('delay', None),\n",
    "            'bandwidth': lqm_value.get('bandwidth', 1),\n",
    "            'link_usage': lqc_value.get('link_usage', 0),\n",
    "            'link_utilization': lqc_value.get('link_usage', 0) / lqm_value.get('bandwidth', 1) * 100,\n",
    "        })\n",
    "        \n",
    "    return link_quality\n",
    "\n",
    "get_link_quality()"
   ]
  },
  {
   "cell_type": "code",
   "execution_count": 4,
   "metadata": {},
   "outputs": [
    {
     "data": {
      "text/plain": [
       "(1, 2)"
      ]
     },
     "execution_count": 4,
     "metadata": {},
     "output_type": "execute_result"
    }
   ],
   "source": [
    "from extras.utils import get_endpoint_info, get_host\n",
    "# 00:00:00:00:03:e8 00:00:00:00:0f:a0\n",
    "host_json = get_host()\n",
    "get_endpoint_info('00:00:00:00:03:e8', host_json)"
   ]
  },
  {
   "cell_type": "code",
   "execution_count": 2,
   "metadata": {},
   "outputs": [
    {
     "ename": "JSONDecodeError",
     "evalue": "Expecting value: line 1 column 1 (char 0)",
     "output_type": "error",
     "traceback": [
      "\u001b[0;31m---------------------------------------------------------------------------\u001b[0m",
      "\u001b[0;31mJSONDecodeError\u001b[0m                           Traceback (most recent call last)",
      "File \u001b[0;32m~/Desktop/ryu/venv11/lib/python3.11/site-packages/requests/models.py:971\u001b[0m, in \u001b[0;36mResponse.json\u001b[0;34m(self, **kwargs)\u001b[0m\n\u001b[1;32m    970\u001b[0m \u001b[38;5;28;01mtry\u001b[39;00m:\n\u001b[0;32m--> 971\u001b[0m     \u001b[38;5;28;01mreturn\u001b[39;00m \u001b[43mcomplexjson\u001b[49m\u001b[38;5;241;43m.\u001b[39;49m\u001b[43mloads\u001b[49m\u001b[43m(\u001b[49m\u001b[38;5;28;43mself\u001b[39;49m\u001b[38;5;241;43m.\u001b[39;49m\u001b[43mtext\u001b[49m\u001b[43m,\u001b[49m\u001b[43m \u001b[49m\u001b[38;5;241;43m*\u001b[39;49m\u001b[38;5;241;43m*\u001b[39;49m\u001b[43mkwargs\u001b[49m\u001b[43m)\u001b[49m\n\u001b[1;32m    972\u001b[0m \u001b[38;5;28;01mexcept\u001b[39;00m JSONDecodeError \u001b[38;5;28;01mas\u001b[39;00m e:\n\u001b[1;32m    973\u001b[0m     \u001b[38;5;66;03m# Catch JSON-related errors and raise as requests.JSONDecodeError\u001b[39;00m\n\u001b[1;32m    974\u001b[0m     \u001b[38;5;66;03m# This aliases json.JSONDecodeError and simplejson.JSONDecodeError\u001b[39;00m\n",
      "File \u001b[0;32m/usr/lib/python3.11/json/__init__.py:346\u001b[0m, in \u001b[0;36mloads\u001b[0;34m(s, cls, object_hook, parse_float, parse_int, parse_constant, object_pairs_hook, **kw)\u001b[0m\n\u001b[1;32m    343\u001b[0m \u001b[38;5;28;01mif\u001b[39;00m (\u001b[38;5;28mcls\u001b[39m \u001b[38;5;129;01mis\u001b[39;00m \u001b[38;5;28;01mNone\u001b[39;00m \u001b[38;5;129;01mand\u001b[39;00m object_hook \u001b[38;5;129;01mis\u001b[39;00m \u001b[38;5;28;01mNone\u001b[39;00m \u001b[38;5;129;01mand\u001b[39;00m\n\u001b[1;32m    344\u001b[0m         parse_int \u001b[38;5;129;01mis\u001b[39;00m \u001b[38;5;28;01mNone\u001b[39;00m \u001b[38;5;129;01mand\u001b[39;00m parse_float \u001b[38;5;129;01mis\u001b[39;00m \u001b[38;5;28;01mNone\u001b[39;00m \u001b[38;5;129;01mand\u001b[39;00m\n\u001b[1;32m    345\u001b[0m         parse_constant \u001b[38;5;129;01mis\u001b[39;00m \u001b[38;5;28;01mNone\u001b[39;00m \u001b[38;5;129;01mand\u001b[39;00m object_pairs_hook \u001b[38;5;129;01mis\u001b[39;00m \u001b[38;5;28;01mNone\u001b[39;00m \u001b[38;5;129;01mand\u001b[39;00m \u001b[38;5;129;01mnot\u001b[39;00m kw):\n\u001b[0;32m--> 346\u001b[0m     \u001b[38;5;28;01mreturn\u001b[39;00m \u001b[43m_default_decoder\u001b[49m\u001b[38;5;241;43m.\u001b[39;49m\u001b[43mdecode\u001b[49m\u001b[43m(\u001b[49m\u001b[43ms\u001b[49m\u001b[43m)\u001b[49m\n\u001b[1;32m    347\u001b[0m \u001b[38;5;28;01mif\u001b[39;00m \u001b[38;5;28mcls\u001b[39m \u001b[38;5;129;01mis\u001b[39;00m \u001b[38;5;28;01mNone\u001b[39;00m:\n",
      "File \u001b[0;32m/usr/lib/python3.11/json/decoder.py:337\u001b[0m, in \u001b[0;36mJSONDecoder.decode\u001b[0;34m(self, s, _w)\u001b[0m\n\u001b[1;32m    333\u001b[0m \u001b[38;5;124;03m\"\"\"Return the Python representation of ``s`` (a ``str`` instance\u001b[39;00m\n\u001b[1;32m    334\u001b[0m \u001b[38;5;124;03mcontaining a JSON document).\u001b[39;00m\n\u001b[1;32m    335\u001b[0m \n\u001b[1;32m    336\u001b[0m \u001b[38;5;124;03m\"\"\"\u001b[39;00m\n\u001b[0;32m--> 337\u001b[0m obj, end \u001b[38;5;241m=\u001b[39m \u001b[38;5;28;43mself\u001b[39;49m\u001b[38;5;241;43m.\u001b[39;49m\u001b[43mraw_decode\u001b[49m\u001b[43m(\u001b[49m\u001b[43ms\u001b[49m\u001b[43m,\u001b[49m\u001b[43m \u001b[49m\u001b[43midx\u001b[49m\u001b[38;5;241;43m=\u001b[39;49m\u001b[43m_w\u001b[49m\u001b[43m(\u001b[49m\u001b[43ms\u001b[49m\u001b[43m,\u001b[49m\u001b[43m \u001b[49m\u001b[38;5;241;43m0\u001b[39;49m\u001b[43m)\u001b[49m\u001b[38;5;241;43m.\u001b[39;49m\u001b[43mend\u001b[49m\u001b[43m(\u001b[49m\u001b[43m)\u001b[49m\u001b[43m)\u001b[49m\n\u001b[1;32m    338\u001b[0m end \u001b[38;5;241m=\u001b[39m _w(s, end)\u001b[38;5;241m.\u001b[39mend()\n",
      "File \u001b[0;32m/usr/lib/python3.11/json/decoder.py:355\u001b[0m, in \u001b[0;36mJSONDecoder.raw_decode\u001b[0;34m(self, s, idx)\u001b[0m\n\u001b[1;32m    354\u001b[0m \u001b[38;5;28;01mexcept\u001b[39;00m \u001b[38;5;167;01mStopIteration\u001b[39;00m \u001b[38;5;28;01mas\u001b[39;00m err:\n\u001b[0;32m--> 355\u001b[0m     \u001b[38;5;28;01mraise\u001b[39;00m JSONDecodeError(\u001b[38;5;124m\"\u001b[39m\u001b[38;5;124mExpecting value\u001b[39m\u001b[38;5;124m\"\u001b[39m, s, err\u001b[38;5;241m.\u001b[39mvalue) \u001b[38;5;28;01mfrom\u001b[39;00m \u001b[38;5;28mNone\u001b[39m\n\u001b[1;32m    356\u001b[0m \u001b[38;5;28;01mreturn\u001b[39;00m obj, end\n",
      "\u001b[0;31mJSONDecodeError\u001b[0m: Expecting value: line 1 column 1 (char 0)",
      "\nDuring handling of the above exception, another exception occurred:\n",
      "\u001b[0;31mJSONDecodeError\u001b[0m                           Traceback (most recent call last)",
      "Cell \u001b[0;32mIn [2], line 47\u001b[0m\n\u001b[1;32m     35\u001b[0m         link_quality\u001b[38;5;241m.\u001b[39mappend({\n\u001b[1;32m     36\u001b[0m             \u001b[38;5;124m'\u001b[39m\u001b[38;5;124msrc.dpid\u001b[39m\u001b[38;5;124m'\u001b[39m: key[\u001b[38;5;241m0\u001b[39m],\n\u001b[1;32m     37\u001b[0m             \u001b[38;5;124m'\u001b[39m\u001b[38;5;124mdst.dpid\u001b[39m\u001b[38;5;124m'\u001b[39m: key[\u001b[38;5;241m1\u001b[39m],\n\u001b[0;32m   (...)\u001b[0m\n\u001b[1;32m     42\u001b[0m             \u001b[38;5;124m'\u001b[39m\u001b[38;5;124mlink_utilization\u001b[39m\u001b[38;5;124m'\u001b[39m: lqc_value\u001b[38;5;241m.\u001b[39mget(\u001b[38;5;124m'\u001b[39m\u001b[38;5;124mlink_usage\u001b[39m\u001b[38;5;124m'\u001b[39m, \u001b[38;5;241m0\u001b[39m) \u001b[38;5;241m/\u001b[39m lqm_value\u001b[38;5;241m.\u001b[39mget(\u001b[38;5;124m'\u001b[39m\u001b[38;5;124mbandwidth\u001b[39m\u001b[38;5;124m'\u001b[39m, \u001b[38;5;241m1\u001b[39m) \u001b[38;5;241m*\u001b[39m \u001b[38;5;241m100\u001b[39m,\n\u001b[1;32m     43\u001b[0m         })\n\u001b[1;32m     45\u001b[0m     \u001b[38;5;28;01mreturn\u001b[39;00m link_quality\n\u001b[0;32m---> 47\u001b[0m \u001b[43mget_link_info\u001b[49m\u001b[43m(\u001b[49m\u001b[43m)\u001b[49m\n",
      "Cell \u001b[0;32mIn [2], line 11\u001b[0m, in \u001b[0;36mget_link_info\u001b[0;34m(mn_rest_addr)\u001b[0m\n\u001b[1;32m      4\u001b[0m \u001b[38;5;124;03m'''\u001b[39;00m\n\u001b[1;32m      5\u001b[0m \u001b[38;5;124;03m    Get from data from /link_quality\u001b[39;00m\n\u001b[1;32m      6\u001b[0m \u001b[38;5;124;03m    currently working as a workaround \u001b[39;00m\n\u001b[1;32m      7\u001b[0m \u001b[38;5;124;03m    for link utilization\u001b[39;00m\n\u001b[1;32m      8\u001b[0m \u001b[38;5;124;03m'''\u001b[39;00m\n\u001b[1;32m     10\u001b[0m link_quality_controller \u001b[38;5;241m=\u001b[39m rq\u001b[38;5;241m.\u001b[39mget(\u001b[38;5;124mf\u001b[39m\u001b[38;5;124m'\u001b[39m\u001b[38;5;124mhttp://\u001b[39m\u001b[38;5;132;01m{\u001b[39;00mmn_rest_addr\u001b[38;5;132;01m}\u001b[39;00m\u001b[38;5;124m/link_quality\u001b[39m\u001b[38;5;124m'\u001b[39m)\u001b[38;5;241m.\u001b[39mjson()\n\u001b[0;32m---> 11\u001b[0m link_quality_mininet \u001b[38;5;241m=\u001b[39m \u001b[43mrq\u001b[49m\u001b[38;5;241;43m.\u001b[39;49m\u001b[43mget\u001b[49m\u001b[43m(\u001b[49m\u001b[38;5;124;43mf\u001b[39;49m\u001b[38;5;124;43m'\u001b[39;49m\u001b[38;5;124;43mhttp://\u001b[39;49m\u001b[38;5;132;43;01m{\u001b[39;49;00m\u001b[43mmn_rest_addr\u001b[49m\u001b[38;5;132;43;01m}\u001b[39;49;00m\u001b[38;5;124;43m/link_info\u001b[39;49m\u001b[38;5;124;43m'\u001b[39;49m\u001b[43m)\u001b[49m\u001b[38;5;241;43m.\u001b[39;49m\u001b[43mjson\u001b[49m\u001b[43m(\u001b[49m\u001b[43m)\u001b[49m\n\u001b[1;32m     12\u001b[0m link_ping_stat \u001b[38;5;241m=\u001b[39m rq\u001b[38;5;241m.\u001b[39mget(\u001b[38;5;124mf\u001b[39m\u001b[38;5;124m'\u001b[39m\u001b[38;5;124mhttp://\u001b[39m\u001b[38;5;132;01m{\u001b[39;00mmn_rest_addr\u001b[38;5;132;01m}\u001b[39;00m\u001b[38;5;124m/link_ping_stat\u001b[39m\u001b[38;5;124m'\u001b[39m)\u001b[38;5;241m.\u001b[39mjson()\n\u001b[1;32m     14\u001b[0m lqc_hmap \u001b[38;5;241m=\u001b[39m {}\n",
      "File \u001b[0;32m~/Desktop/ryu/venv11/lib/python3.11/site-packages/requests/models.py:975\u001b[0m, in \u001b[0;36mResponse.json\u001b[0;34m(self, **kwargs)\u001b[0m\n\u001b[1;32m    971\u001b[0m     \u001b[38;5;28;01mreturn\u001b[39;00m complexjson\u001b[38;5;241m.\u001b[39mloads(\u001b[38;5;28mself\u001b[39m\u001b[38;5;241m.\u001b[39mtext, \u001b[38;5;241m*\u001b[39m\u001b[38;5;241m*\u001b[39mkwargs)\n\u001b[1;32m    972\u001b[0m \u001b[38;5;28;01mexcept\u001b[39;00m JSONDecodeError \u001b[38;5;28;01mas\u001b[39;00m e:\n\u001b[1;32m    973\u001b[0m     \u001b[38;5;66;03m# Catch JSON-related errors and raise as requests.JSONDecodeError\u001b[39;00m\n\u001b[1;32m    974\u001b[0m     \u001b[38;5;66;03m# This aliases json.JSONDecodeError and simplejson.JSONDecodeError\u001b[39;00m\n\u001b[0;32m--> 975\u001b[0m     \u001b[38;5;28;01mraise\u001b[39;00m RequestsJSONDecodeError(e\u001b[38;5;241m.\u001b[39mmsg, e\u001b[38;5;241m.\u001b[39mdoc, e\u001b[38;5;241m.\u001b[39mpos)\n",
      "\u001b[0;31mJSONDecodeError\u001b[0m: Expecting value: line 1 column 1 (char 0)"
     ]
    }
   ],
   "source": [
    "import requests as rq\n",
    "# Will be replacement for get_link_quality\n",
    "def get_link_info(mn_rest_addr: str = \"0.0.0.0:8080\"):\n",
    "    '''\n",
    "        Get from data from /link_quality\n",
    "        currently working as a workaround \n",
    "        for link utilization\n",
    "    '''\n",
    "\n",
    "    link_quality_controller = rq.get(f'http://{mn_rest_addr}/link_quality').json()\n",
    "    link_quality_mininet = rq.get(f'http://{mn_rest_addr}/link_info').json()\n",
    "    link_ping_stat = rq.get(f'http://{mn_rest_addr}/link_ping_stat').json()\n",
    "    \n",
    "    lqc_hmap = {}\n",
    "    lqm_hmap = {}\n",
    "    lps_hmap = {}\n",
    "    \n",
    "    for d in link_quality_controller:\n",
    "        key = (d['src.dpid'], d['dst.dpid'])\n",
    "        lqc_hmap[key] = d\n",
    "\n",
    "    for d in link_quality_mininet:\n",
    "        key = (d['src.dpid'], d['dst.dpid'])\n",
    "        lqm_hmap[key] = d\n",
    "    \n",
    "    for d in link_ping_stat:\n",
    "        key = (d['src.host'], d['dst.host'])\n",
    "        lps_hmap[key] = d\n",
    "\n",
    "    link_quality = []\n",
    "    for key, lqc_value in lqc_hmap.items():\n",
    "        lqm_value = lqm_hmap.get(key)\n",
    "        lps_value = lps_hmap.get(key)\n",
    "        if lqm_value == None: continue  \n",
    "        link_quality.append({\n",
    "            'src.dpid': key[0],\n",
    "            'dst.dpid': key[1],\n",
    "            'packet_loss': lps_value.get('packet_loss', None),\n",
    "            'delay': lps_value.get('delay', None),\n",
    "            'bandwidth': lqm_value.get('bandwidth', 1),\n",
    "            'link_usage': lqc_value.get('link_usage', 0),\n",
    "            'link_utilization': lqc_value.get('link_usage', 0) / lqm_value.get('bandwidth', 1) * 100,\n",
    "        })\n",
    "        \n",
    "    return link_quality\n",
    "\n",
    "get_link_info()"
   ]
  }
 ],
 "metadata": {
  "kernelspec": {
   "display_name": "venv11",
   "language": "python",
   "name": "python3"
  },
  "language_info": {
   "codemirror_mode": {
    "name": "ipython",
    "version": 3
   },
   "file_extension": ".py",
   "mimetype": "text/x-python",
   "name": "python",
   "nbconvert_exporter": "python",
   "pygments_lexer": "ipython3",
   "version": "3.11.7"
  },
  "orig_nbformat": 4
 },
 "nbformat": 4,
 "nbformat_minor": 2
}
