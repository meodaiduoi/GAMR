{
 "cells": [
  {
   "cell_type": "code",
   "execution_count": null,
   "metadata": {},
   "outputs": [],
   "source": [
    "from routingapp.common.routing_utils import *"
   ]
  },
  {
   "cell_type": "code",
   "execution_count": 13,
   "metadata": {},
   "outputs": [
    {
     "data": {
      "text/plain": [
       "[{'src.host': 1,\n",
       "  'dst.host': 5,\n",
       "  'packet_loss': 0.03902439024390244,\n",
       "  'delay': 82.054},\n",
       " {'src.host': 5,\n",
       "  'dst.host': 1,\n",
       "  'packet_loss': 0.03902439024390244,\n",
       "  'delay': 82.054},\n",
       " {'src.host': 1,\n",
       "  'dst.host': 2,\n",
       "  'packet_loss': 0.07804878048780488,\n",
       "  'delay': 130.039},\n",
       " {'src.host': 2,\n",
       "  'dst.host': 1,\n",
       "  'packet_loss': 0.07804878048780488,\n",
       "  'delay': 130.039},\n",
       " {'src.host': 5,\n",
       "  'dst.host': 4,\n",
       "  'packet_loss': 0.0902439024390244,\n",
       "  'delay': 70.043},\n",
       " {'src.host': 4,\n",
       "  'dst.host': 5,\n",
       "  'packet_loss': 0.0902439024390244,\n",
       "  'delay': 70.043},\n",
       " {'src.host': 2,\n",
       "  'dst.host': 6,\n",
       "  'packet_loss': 0.03170731707317073,\n",
       "  'delay': 78.042},\n",
       " {'src.host': 6,\n",
       "  'dst.host': 2,\n",
       "  'packet_loss': 0.03170731707317073,\n",
       "  'delay': 78.042},\n",
       " {'src.host': 3,\n",
       "  'dst.host': 4,\n",
       "  'packet_loss': 0.08048780487804878,\n",
       "  'delay': 96.043},\n",
       " {'src.host': 4,\n",
       "  'dst.host': 3,\n",
       "  'packet_loss': 0.08048780487804878,\n",
       "  'delay': 96.043},\n",
       " {'src.host': 1,\n",
       "  'dst.host': 3,\n",
       "  'packet_loss': 0.07804878048780488,\n",
       "  'delay': 138.051},\n",
       " {'src.host': 3,\n",
       "  'dst.host': 1,\n",
       "  'packet_loss': 0.07804878048780488,\n",
       "  'delay': 138.051},\n",
       " {'src.host': 5,\n",
       "  'dst.host': 6,\n",
       "  'packet_loss': 0.07560975609756097,\n",
       "  'delay': 148.035},\n",
       " {'src.host': 6,\n",
       "  'dst.host': 5,\n",
       "  'packet_loss': 0.07560975609756097,\n",
       "  'delay': 148.035}]"
      ]
     },
     "execution_count": 13,
     "metadata": {},
     "output_type": "execute_result"
    }
   ],
   "source": [
    "link_quality_controller = rq.get('http://0.0.0.0:8080/link_quality').json()\n",
    "link_quality_mininet = rq.get('http://0.0.0.0:8000/link_quality').json()\n",
    "link_ping_stat = rq.get('http://0.0.0.0:8000/link_ping_stat').json()\n",
    "\n",
    "link_ping_stat"
   ]
  },
  {
   "cell_type": "code",
   "execution_count": 5,
   "metadata": {},
   "outputs": [
    {
     "data": {
      "text/plain": [
       "{'hosts': [{'mac': '00:00:00:00:0b:b8',\n",
       "   'ipv4': [],\n",
       "   'ipv6': ['::', 'fe80::200:ff:fe00:bb8'],\n",
       "   'port': {'dpid': '0000000000000003',\n",
       "    'port_no': '00000002',\n",
       "    'hw_addr': '9a:74:62:a9:42:d1',\n",
       "    'name': 's3-eth2'}},\n",
       "  {'mac': '00:00:00:00:03:e8',\n",
       "   'ipv4': [],\n",
       "   'ipv6': ['::', 'fe80::200:ff:fe00:3e8'],\n",
       "   'port': {'dpid': '0000000000000001',\n",
       "    'port_no': '00000002',\n",
       "    'hw_addr': '7e:cc:b6:ca:e0:ca',\n",
       "    'name': 's1-eth2'}},\n",
       "  {'mac': '00:00:00:00:17:70',\n",
       "   'ipv4': [],\n",
       "   'ipv6': ['::', 'fe80::200:ff:fe00:1770'],\n",
       "   'port': {'dpid': '0000000000000006',\n",
       "    'port_no': '00000002',\n",
       "    'hw_addr': 'd2:24:03:88:27:bf',\n",
       "    'name': 's6-eth2'}},\n",
       "  {'mac': '00:00:00:00:00:03',\n",
       "   'ipv4': [],\n",
       "   'ipv6': ['::', 'fe80::200:ff:fe00:3'],\n",
       "   'port': {'dpid': '0000000000000003',\n",
       "    'port_no': '00000001',\n",
       "    'hw_addr': '4e:ac:db:60:17:3f',\n",
       "    'name': 's3-eth1'}},\n",
       "  {'mac': '00:00:00:00:07:d0',\n",
       "   'ipv4': [],\n",
       "   'ipv6': ['::', 'fe80::200:ff:fe00:7d0'],\n",
       "   'port': {'dpid': '0000000000000002',\n",
       "    'port_no': '00000002',\n",
       "    'hw_addr': '92:fe:73:d8:8d:80',\n",
       "    'name': 's2-eth2'}},\n",
       "  {'mac': '00:00:00:00:13:88',\n",
       "   'ipv4': [],\n",
       "   'ipv6': ['::', 'fe80::200:ff:fe00:1388'],\n",
       "   'port': {'dpid': '0000000000000005',\n",
       "    'port_no': '00000002',\n",
       "    'hw_addr': 'd2:f0:63:41:8a:2b',\n",
       "    'name': 's5-eth2'}},\n",
       "  {'mac': '00:00:00:00:00:01',\n",
       "   'ipv4': [],\n",
       "   'ipv6': ['::', 'fe80::200:ff:fe00:1'],\n",
       "   'port': {'dpid': '0000000000000001',\n",
       "    'port_no': '00000001',\n",
       "    'hw_addr': 'b6:61:30:c9:b5:ff',\n",
       "    'name': 's1-eth1'}},\n",
       "  {'mac': '00:00:00:00:00:05',\n",
       "   'ipv4': [],\n",
       "   'ipv6': ['::', 'fe80::200:ff:fe00:5'],\n",
       "   'port': {'dpid': '0000000000000005',\n",
       "    'port_no': '00000001',\n",
       "    'hw_addr': '8a:ef:82:3e:19:a7',\n",
       "    'name': 's5-eth1'}},\n",
       "  {'mac': '00:00:00:00:00:06',\n",
       "   'ipv4': [],\n",
       "   'ipv6': ['::', 'fe80::200:ff:fe00:6'],\n",
       "   'port': {'dpid': '0000000000000006',\n",
       "    'port_no': '00000001',\n",
       "    'hw_addr': '76:48:04:b3:23:87',\n",
       "    'name': 's6-eth1'}},\n",
       "  {'mac': '00:00:00:00:00:04',\n",
       "   'ipv4': [],\n",
       "   'ipv6': ['::', 'fe80::200:ff:fe00:4'],\n",
       "   'port': {'dpid': '0000000000000004',\n",
       "    'port_no': '00000001',\n",
       "    'hw_addr': '9a:07:eb:fa:1d:10',\n",
       "    'name': 's4-eth1'}},\n",
       "  {'mac': '00:00:00:00:00:02',\n",
       "   'ipv4': [],\n",
       "   'ipv6': ['fe80::200:ff:fe00:2'],\n",
       "   'port': {'dpid': '0000000000000002',\n",
       "    'port_no': '00000001',\n",
       "    'hw_addr': '26:c0:6b:30:00:ac',\n",
       "    'name': 's2-eth1'}},\n",
       "  {'mac': '00:00:00:00:0f:a0',\n",
       "   'ipv4': [],\n",
       "   'ipv6': ['fe80::200:ff:fe00:fa0'],\n",
       "   'port': {'dpid': '0000000000000004',\n",
       "    'port_no': '00000002',\n",
       "    'hw_addr': 'fa:18:03:3d:12:76',\n",
       "    'name': 's4-eth2'}}]}"
      ]
     },
     "execution_count": 5,
     "metadata": {},
     "output_type": "execute_result"
    }
   ],
   "source": [
    "_, graph = get_topo()\n",
    "host_json = get_host()\n",
    "link_info = get_link_quality()"
   ]
  },
  {
   "cell_type": "code",
   "execution_count": 14,
   "metadata": {},
   "outputs": [
    {
     "name": "stdout",
     "output_type": "stream",
     "text": [
      "{4: 1, 3: 2, 2: 3, 5: 4, 6: 5, 1: 6, 'h6000': 7, 'h2': 8, 'h5000': 9, 'h1000': 10, 'h2000': 11, 'h3000': 12, 'h4000': 13, 'h4': 14, 'h6': 15, 'h5': 16, 'h1': 17, 'h3': 18}\n"
     ]
    }
   ],
   "source": [
    "_, graph = get_topo()\n",
    "host_json = get_host()\n",
    "link_info = get_link_quality()\n",
    "\n",
    "# Add host to graph\n",
    "for host in host_json['hosts']:\n",
    "    dpid_int = mac_to_int(host['port']['dpid'])\n",
    "    host_int = mac_to_int(host['mac'])\n",
    "    # print(f'dpid_int: {dpid_int}, host_int: {host_int}')\n",
    "    \n",
    "    # Add node to graph\n",
    "    graph.add_node(f'h{host_int}', type='host')\n",
    "    # add bi-directional link between host and switch\n",
    "    graph.add_edge(f'h{host_int}', dpid_int, type='host')\n",
    "    graph.add_edge(dpid_int, f'h{host_int}', type='host')\n",
    "\n",
    "# print graph to json\n",
    "# print(nx.node_link_data(graph))\n",
    "\n",
    "# Mapping host h{int} to int\n",
    "mapping = dict(zip(graph.nodes(), range(1, len(graph.nodes())+1)))\n",
    "print(mapping)\n",
    "# Creating adj-matrix of graph\n",
    "number_node = len(graph.nodes())\n",
    "bin_matrix = nx.adjacency_matrix(graph).todense()\n",
    "adj_matrix = [[] for i in range(number_node+1)]\n",
    "for i in range(1, number_node+1):\n",
    "    for j in range(1, number_node+1):\n",
    "        if bin_matrix[i-1][j-1] == 1:\n",
    "            adj_matrix[i].append(j)\n",
    "\n",
    "# Get from data from /link_quality\n",
    "update_delay = []\n",
    "update_link_utilization = []\n",
    "update_loss = []\n",
    "for stat in link_info:\n",
    "    src = mapping[stat['src.dpid']]\n",
    "    dst = mapping[stat['dst.dpid']]\n",
    "    if src != dst:\n",
    "        delay = stat.get('delay', 0)\n",
    "        if delay == None: delay = 0\n",
    "        loss = stat.get('packet_loss', 0)\n",
    "        if loss == None: loss = 0\n",
    "        bandwidth = stat.get('link_utilization', 0)\n",
    "        if bandwidth == None: bandwidth = 0\n",
    "        update_delay.append((src, dst, delay))\n",
    "        update_loss.append((src, dst, loss))\n",
    "        update_link_utilization.append((src, dst, bandwidth))\n",
    "    \n",
    "# # Reading request\n",
    "# routes = task.route\n",
    "# request = []\n",
    "\n",
    "# for route in routes:\n",
    "#     src = f'h{route.src_host}'\n",
    "#     dst = f'h{route.dst_host}'\n",
    "#     src = mapping[src]\n",
    "#     dst = mapping[dst]\n",
    "#     print('reading rq', src, dst)\n",
    "#     request.append((src, dst))\n"
   ]
  },
  {
   "cell_type": "code",
   "execution_count": 21,
   "metadata": {},
   "outputs": [
    {
     "data": {
      "text/plain": [
       "[(1, 4, 0.0878048780487805),\n",
       " (1, 2, 0.08292682926829269),\n",
       " (2, 6, 0.07560975609756097),\n",
       " (2, 1, 0.08292682926829269),\n",
       " (3, 5, 0.03170731707317073),\n",
       " (3, 6, 0.07317073170731708),\n",
       " (4, 1, 0.0878048780487805),\n",
       " (4, 6, 0.03902439024390244),\n",
       " (4, 5, 0.07560975609756097),\n",
       " (5, 3, 0.03170731707317073),\n",
       " (5, 4, 0.07560975609756097),\n",
       " (6, 4, 0.03902439024390244),\n",
       " (6, 2, 0.07560975609756097),\n",
       " (6, 3, 0.07317073170731708)]"
      ]
     },
     "execution_count": 21,
     "metadata": {},
     "output_type": "execute_result"
    }
   ],
   "source": [
    "update_loss"
   ]
  },
  {
   "cell_type": "code",
   "execution_count": 19,
   "metadata": {},
   "outputs": [],
   "source": [
    "a: list[tuple] = [(1,2), (3,4)]"
   ]
  },
  {
   "cell_type": "code",
   "execution_count": 10,
   "metadata": {},
   "outputs": [
    {
     "ename": "KeyError",
     "evalue": "0",
     "output_type": "error",
     "traceback": [
      "\u001b[0;31m---------------------------------------------------------------------------\u001b[0m",
      "\u001b[0;31mKeyError\u001b[0m                                  Traceback (most recent call last)",
      "Cell \u001b[0;32mIn [10], line 2\u001b[0m\n\u001b[1;32m      1\u001b[0m \u001b[38;5;28;01mfrom\u001b[39;00m \u001b[38;5;21;01mroutingapp\u001b[39;00m\u001b[38;5;21;01m.\u001b[39;00m\u001b[38;5;21;01mcommon\u001b[39;00m\u001b[38;5;21;01m.\u001b[39;00m\u001b[38;5;21;01mrouting_utils\u001b[39;00m \u001b[38;5;28;01mimport\u001b[39;00m get_network_stat_legacy\n\u001b[0;32m----> 2\u001b[0m \u001b[38;5;28mtype\u001b[39m(\u001b[43mget_network_stat_legacy\u001b[49m\u001b[43m(\u001b[49m\u001b[43m)\u001b[49m\u001b[43m[\u001b[49m\u001b[38;5;241;43m1\u001b[39;49m\u001b[43m]\u001b[49m\u001b[43m[\u001b[49m\u001b[38;5;241;43m0\u001b[39;49m\u001b[43m]\u001b[49m)\n",
      "\u001b[0;31mKeyError\u001b[0m: 0"
     ]
    }
   ],
   "source": [
    "from routingapp.common.routing_utils import get_network_stat_legacy\n",
    "type(get_network_stat_legacy()[1][0])"
   ]
  }
 ],
 "metadata": {
  "kernelspec": {
   "display_name": "venv11",
   "language": "python",
   "name": "python3"
  },
  "language_info": {
   "codemirror_mode": {
    "name": "ipython",
    "version": 3
   },
   "file_extension": ".py",
   "mimetype": "text/x-python",
   "name": "python",
   "nbconvert_exporter": "python",
   "pygments_lexer": "ipython3",
   "version": "3.11.8"
  }
 },
 "nbformat": 4,
 "nbformat_minor": 2
}
