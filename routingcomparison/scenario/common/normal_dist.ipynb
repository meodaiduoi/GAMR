{
 "cells": [
  {
   "cell_type": "code",
   "execution_count": 2,
   "metadata": {},
   "outputs": [
    {
     "ename": "TypeError",
     "evalue": "'int' object is not callable",
     "output_type": "error",
     "traceback": [
      "\u001b[0;31m---------------------------------------------------------------------------\u001b[0m",
      "\u001b[0;31mTypeError\u001b[0m                                 Traceback (most recent call last)",
      "\u001b[1;32m/home/onos/Desktop/ryu/RoutingComparasion/RoutingComparation/scenario/common/normal_dist.ipynb Cell 1\u001b[0m in \u001b[0;36m7\n\u001b[1;32m      <a href='vscode-notebook-cell:/home/onos/Desktop/ryu/RoutingComparasion/RoutingComparation/scenario/common/normal_dist.ipynb#W0sZmlsZQ%3D%3D?line=3'>4</a>\u001b[0m     \u001b[39mreturn\u001b[39;00m \u001b[39mround\u001b[39m(np\u001b[39m.\u001b[39mrandom\u001b[39m.\u001b[39mnormal(mean, std_dev))\n\u001b[1;32m      <a href='vscode-notebook-cell:/home/onos/Desktop/ryu/RoutingComparasion/RoutingComparation/scenario/common/normal_dist.ipynb#W0sZmlsZQ%3D%3D?line=5'>6</a>\u001b[0m \u001b[39m# Example usage\u001b[39;00m\n\u001b[0;32m----> <a href='vscode-notebook-cell:/home/onos/Desktop/ryu/RoutingComparasion/RoutingComparation/scenario/common/normal_dist.ipynb#W0sZmlsZQ%3D%3D?line=6'>7</a>\u001b[0m loss \u001b[39m=\u001b[39m generate_link_params(\u001b[39m0.1\u001b[39;49m, \u001b[39m0.02\u001b[39;49m)  \u001b[39m# Mean: 0.1, Standard Deviation: 0.02\u001b[39;00m\n\u001b[1;32m      <a href='vscode-notebook-cell:/home/onos/Desktop/ryu/RoutingComparasion/RoutingComparation/scenario/common/normal_dist.ipynb#W0sZmlsZQ%3D%3D?line=7'>8</a>\u001b[0m delay \u001b[39m=\u001b[39m generate_link_params(\u001b[39m10\u001b[39m, \u001b[39m2\u001b[39m)  \u001b[39m# Mean: 10, Standard Deviation: 2\u001b[39;00m\n\u001b[1;32m      <a href='vscode-notebook-cell:/home/onos/Desktop/ryu/RoutingComparasion/RoutingComparation/scenario/common/normal_dist.ipynb#W0sZmlsZQ%3D%3D?line=8'>9</a>\u001b[0m bandwidth \u001b[39m=\u001b[39m generate_link_params(\u001b[39m100\u001b[39m, \u001b[39m20\u001b[39m)  \u001b[39m# Mean: 100, Standard Deviation: 20\u001b[39;00m\n",
      "\u001b[1;32m/home/onos/Desktop/ryu/RoutingComparasion/RoutingComparation/scenario/common/normal_dist.ipynb Cell 1\u001b[0m in \u001b[0;36m4\n\u001b[1;32m      <a href='vscode-notebook-cell:/home/onos/Desktop/ryu/RoutingComparasion/RoutingComparation/scenario/common/normal_dist.ipynb#W0sZmlsZQ%3D%3D?line=2'>3</a>\u001b[0m \u001b[39mdef\u001b[39;00m \u001b[39mgenerate_link_params\u001b[39m(mean, std_dev, \u001b[39mround\u001b[39m\u001b[39m=\u001b[39m\u001b[39m2\u001b[39m):\n\u001b[0;32m----> <a href='vscode-notebook-cell:/home/onos/Desktop/ryu/RoutingComparasion/RoutingComparation/scenario/common/normal_dist.ipynb#W0sZmlsZQ%3D%3D?line=3'>4</a>\u001b[0m     \u001b[39mreturn\u001b[39;00m \u001b[39mround\u001b[39;49m(np\u001b[39m.\u001b[39;49mrandom\u001b[39m.\u001b[39;49mnormal(mean, std_dev))\n",
      "\u001b[0;31mTypeError\u001b[0m: 'int' object is not callable"
     ]
    }
   ],
   "source": [
    "import numpy as np\n",
    "\n",
    "def generate_link_params(mean, std_dev, round=2):\n",
    "    return round(np.random.normal(mean, std_dev))\n",
    "\n",
    "# Example usage\n",
    "loss = generate_link_params(0.1, 0.02)  # Mean: 0.1, Standard Deviation: 0.02\n",
    "delay = generate_link_params(10, 2)  # Mean: 10, Standard Deviation: 2\n",
    "bandwidth = generate_link_params(100, 20)  # Mean: 100, Standard Deviation: 20\n",
    "\n",
    "print(\"Loss:\", loss)\n",
    "print(\"Delay:\", delay)\n",
    "print(\"Bandwidth:\", bandwidth)"
   ]
  },
  {
   "cell_type": "code",
   "execution_count": 8,
   "metadata": {},
   "outputs": [
    {
     "name": "stdout",
     "output_type": "stream",
     "text": [
      "Loss: 0.06601918182518535\n",
      "Delay: 13.094449633513602\n",
      "Bandwidth: 79.53083001875237\n"
     ]
    },
    {
     "data": {
      "text/plain": [
       "0.06601918182518535"
      ]
     },
     "execution_count": 8,
     "metadata": {},
     "output_type": "execute_result"
    }
   ],
   "source": [
    "import numpy as np\n",
    "\n",
    "def generate_link_params(mean, std_dev):\n",
    "    return np.random.normal(mean, std_dev)\n",
    "\n",
    "# Example usage\n",
    "loss = generate_link_params(0.1, 0.02)  # Mean: 0.1, Standard Deviation: 0.02\n",
    "delay = generate_link_params(10, 2)  # Mean: 10, Standard Deviation: 2\n",
    "bandwidth = generate_link_params(100, 20)  # Mean: 100, Standard Deviation: 20\n",
    "\n",
    "print(\"Loss:\", loss)\n",
    "print(\"Delay:\", delay)\n",
    "print(\"Bandwidth:\", bandwidth)\n",
    "loss"
   ]
  },
  {
   "cell_type": "code",
   "execution_count": null,
   "metadata": {},
   "outputs": [
    {
     "name": "stdout",
     "output_type": "stream",
     "text": [
      "[-1.29029023  0.69083903  1.28016065  1.15173294 -0.61873964]\n"
     ]
    }
   ],
   "source": [
    "import numpy as np\n",
    "\n",
    "def generate_normal_distribution(numbers, mean, std_dev):\n",
    "    return np.random.normal(mean, std_dev, size=len(numbers))\n",
    "\n",
    "# Example usage\n",
    "numbers = [1, 2, 3, 4, 5]\n",
    "mean = 0\n",
    "std_dev = 1\n",
    "\n",
    "result = generate_normal_distribution(numbers, mean, std_dev)\n",
    "print(result)"
   ]
  },
  {
   "cell_type": "code",
   "execution_count": 15,
   "metadata": {},
   "outputs": [
    {
     "data": {
      "text/plain": [
       "int"
      ]
     },
     "execution_count": 15,
     "metadata": {},
     "output_type": "execute_result"
    }
   ],
   "source": [
    "type(int(np.random.choice(\n",
    "                        [0, 1, 2, 4, 5, 7],\n",
    "                        p=[0.37, 0.23, 0.15, 0.12, 0.08, 0.05]\n",
    "                    )))"
   ]
  },
  {
   "cell_type": "code",
   "execution_count": 12,
   "metadata": {},
   "outputs": [
    {
     "data": {
      "text/plain": [
       "int"
      ]
     },
     "execution_count": 12,
     "metadata": {},
     "output_type": "execute_result"
    }
   ],
   "source": [
    "from random import normalvariate\n",
    "def normdist_array_genparam(numbers, mean=None, stddev=None):\n",
    "    if mean is None:\n",
    "        # if mean is not specified, use center of list\n",
    "        mean = (len(numbers) - 1) / 2\n",
    "\n",
    "    if stddev is None:\n",
    "        # if stddev is not specified, let list be -3 .. +3 standard deviations\n",
    "        stddev = len(numbers) / 6\n",
    "\n",
    "    while True:\n",
    "        index = int(normalvariate(mean, stddev) + 0.5)\n",
    "        if 0 <= index < len(numbers):\n",
    "            return numbers[index]\n",
    "\n",
    "type(normdist_array_genparam(range(5, 50)))"
   ]
  }
 ],
 "metadata": {
  "kernelspec": {
   "display_name": "venv11",
   "language": "python",
   "name": "python3"
  },
  "language_info": {
   "codemirror_mode": {
    "name": "ipython",
    "version": 3
   },
   "file_extension": ".py",
   "mimetype": "text/x-python",
   "name": "python",
   "nbconvert_exporter": "python",
   "pygments_lexer": "ipython3",
   "version": "3.11.4"
  },
  "orig_nbformat": 4
 },
 "nbformat": 4,
 "nbformat_minor": 2
}
