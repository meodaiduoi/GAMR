{
 "cells": [
  {
   "cell_type": "code",
   "execution_count": null,
   "metadata": {},
   "outputs": [],
   "source": [
    "import random as rd\n",
    "import requests as rq\n",
    "import time\n",
    "import json\n"
   ]
  },
  {
   "cell_type": "code",
   "execution_count": null,
   "metadata": {},
   "outputs": [],
   "source": [
    "def pingHTTP(ping):\n",
    "    print(ping)\n",
    "    print(requests.post('http://0.0.0.0:8000/run_popen', data=json.dumps(ping)).json())\n",
    "    \n",
    "def create_route_list(number_hosts, number_request):\n",
    "    routes = [] \n",
    "    pings = []\n",
    "    \n",
    "    for i in range(number_request):\n",
    "        src_host = rd.randint(1, number_hosts)\n",
    "        dst_host = rd.randint(1, number_hosts)\n",
    "        while src_host == dst_host:\n",
    "            dst_host = rd.randint(1, number_hosts)\n",
    "            \n",
    "        route = {\n",
    "            \"src_host\": src_host,\n",
    "            \"dst_host\": dst_host\n",
    "            }\n",
    "        routes.append(route)\n",
    "        cmd = (\n",
    "            f\"\"\"curl -X 'POST' 'http://0.0.0.0:8001/upload_speed/' -H 'accept: application/json' -H 'Content-Type: application/json' -d '{{\"ip\": \"10.0.0.{dst_host}\", \"port\": 8001, \"size\": 50}}'\"\"\"\n",
    "        )\n",
    "        pings.append(\n",
    "            {\n",
    "                \"hostname\": \"h\" + str(src_host),\n",
    "                \"cmd\": cmd,\n",
    "                \"wait\": True\n",
    "            }\n",
    "        )\n",
    "    return routes, pings\n",
    "\n",
    "def init_host_list(hosts):\n",
    "    initHosts_list = []\n",
    "    \n",
    "    for i_host in hosts:\n",
    "        # hosts.add(\"h\"+str(route[\"src_host\"]))\n",
    "        # hosts.add(\"h\"+str(route[\"dst_host\"]))\n",
    "        initHosts_list.append({\n",
    "            \"hostname\": \"h\"+str(i_host),\n",
    "            \"cmd\": '''\n",
    "                    ../../venv11/bin/python3.11 \\\n",
    "                    mn_app/simplehttpserver/http_file_transfer.py 0.0.0.0 8001\n",
    "                    ''',\n",
    "            \"wait\": False\n",
    "        })\n",
    "    return initHosts_list"
   ]
  },
  {
   "cell_type": "code",
   "execution_count": null,
   "metadata": {},
   "outputs": [],
   "source": [
    "class RandomRequestGen:\n",
    "    def __init__(self, *args, **kwargs) -> None:\n",
    "        self.server_ls = kwargs['server_ls']\n",
    "        self.client_ls = kwargs['client_ls']\n",
    "        self.num_single_rq = kwargs['num_single_rq']\n",
    "        self.routes = [] \n",
    "    \n",
    "\n",
    "    def get_route_single(self):\n",
    "        for i in range(self.num_single_rq):\n",
    "            choice_client = rd.choice(self.client_ls)\n",
    "            choice_server = rd.choice(self.server_ls)\n",
    "            \n",
    "            route = {\n",
    "                'src_host': choice_client,\n",
    "                'dst_host': choice_server,\n",
    "            }\n",
    "            self.routes.append()\n",
    "        \n",
    "    def get_route_multi(self):\n",
    "        for i in range(self.num_single_rq):\n",
    "            choice_client = rd.choice(self.client_ls)\n",
    "            choice_server = rd.choice(self.server_ls)\n",
    "            \n",
    "            route = {\n",
    "                'src_host': choice_client,\n",
    "                'dst_host': choice_server,\n",
    "            }\n",
    "            self.routes.append()\n",
    "    \n",
    "    # Don't have api to implement here\n",
    "    def send_route_request(self):\n",
    "        for i in range(self.num_single_rq):\n",
    "            rq.post('', data=json.dumps())\n",
    "\n"
   ]
  },
  {
   "cell_type": "code",
   "execution_count": null,
   "metadata": {},
   "outputs": [],
   "source": [
    "class PingTraffic:\n",
    "    def __init__(self, *args, **kwargs) -> None:\n",
    "        self.timeout = kwargs['timeout']\n",
    "        self.count = kwargs['count']\n",
    "\n",
    "    def ping_single(self, src_host: str, dst_host: str):\n",
    "        request = {\n",
    "            \"src_hostname\": src_host,\n",
    "            \"dst_hostname\": dst_host,\n",
    "            \"timeout\": '3',\n",
    "            \"count\": '3'\n",
    "        }\n",
    "        return rq.post('http://0.0.0.0:8000/ping_single', json.dumps(request)).json()\n",
    "        \n",
    "    \n",
    "    def ping_multi(self, host_ls: str):\n",
    "        '''\n",
    "           Ping between all host in list\n",
    "           ex input: ['h1', 'h2', 'h3',...] \n",
    "        '''\n",
    "        request = {\n",
    "            \"hostname_list\": host_ls,\n",
    "            \"timeout\": '3'\n",
    "        }\n",
    "        return rq.post('http://0.0.0.0:8000/ping', json.dumps(request)).json()\n",
    "    \n",
    "    def ping_all(self):\n",
    "        return rq.post('http://0.0.0.0:8000/pingall', json.dumps({\"timeout\": \"3\"})).json()\n",
    "\n",
    "# PingTraffic(timeout=3, count=3).ping_single('h2','h3')\n",
    "# PingTraffic(timeout=3, count=3).ping_multi(['h2','h3'])\n",
    "PingTraffic(timeout=3, count=3).ping_all()\n"
   ]
  },
  {
   "cell_type": "code",
   "execution_count": 46,
   "metadata": {},
   "outputs": [
    {
     "data": {
      "text/plain": [
       "<Response [200]>"
      ]
     },
     "execution_count": 46,
     "metadata": {},
     "output_type": "execute_result"
    }
   ],
   "source": [
    "req = {\n",
    "    \"hostname\": f\"h1\",\n",
    "    \"cmd\": '''\n",
    "            ../../venv11/bin/python3.11 \\\n",
    "            mn_app/simplehttpserver/http_file_transfer.py 0.0.0.0 8001\n",
    "            ''',\n",
    "    \"wait\": False\n",
    "}\n",
    "req ={\n",
    "    \"hostname\": \"h1\",\n",
    "    \"cmd\": '''\n",
    "            ../../venv11/bin/python3.11 \\\n",
    "            mn_app/simplehttpserver/http_file_transfer.py 0.0.0.0 8001\n",
    "            ''',\n",
    "}\n",
    "rq.post('http://0.0.0.0:8000/run_xterm', data=json.dumps(req))"
   ]
  },
  {
   "cell_type": "code",
   "execution_count": 56,
   "metadata": {},
   "outputs": [
    {
     "data": {
      "text/plain": [
       "'{\"result\":true}'"
      ]
     },
     "execution_count": 56,
     "metadata": {},
     "output_type": "execute_result"
    }
   ],
   "source": [
    "req = {\n",
    "    \"hostname\": f\"h1\",\n",
    "    \"cmd\": '''\n",
    "        ../../venv11/bin/python3.11 \\\n",
    "        mn_app/simplehttpserver/http_file_transfer.py 0.0.0.0 8001\n",
    "        ''',\n",
    "    \"wait\": False\n",
    "}\n",
    "rq.post('http://0.0.0.0:8000/run_popen', data=json.dumps(req)).text"
   ]
  },
  {
   "cell_type": "code",
   "execution_count": 50,
   "metadata": {},
   "outputs": [
    {
     "ename": "JSONDecodeError",
     "evalue": "Expecting value: line 1 column 1 (char 0)",
     "output_type": "error",
     "traceback": [
      "\u001b[0;31m---------------------------------------------------------------------------\u001b[0m",
      "\u001b[0;31mJSONDecodeError\u001b[0m                           Traceback (most recent call last)",
      "Cell \u001b[0;32mIn [50], line 9\u001b[0m\n\u001b[1;32m      2\u001b[0m req \u001b[38;5;241m=\u001b[39m {\n\u001b[1;32m      3\u001b[0m     \u001b[38;5;124m\"\u001b[39m\u001b[38;5;124mhostname\u001b[39m\u001b[38;5;124m\"\u001b[39m: \u001b[38;5;124m\"\u001b[39m\u001b[38;5;124mh1\u001b[39m\u001b[38;5;124m\"\u001b[39m,\n\u001b[1;32m      4\u001b[0m     \u001b[38;5;124m\"\u001b[39m\u001b[38;5;124mcmd\u001b[39m\u001b[38;5;124m\"\u001b[39m: \u001b[38;5;124m\"\u001b[39m\u001b[38;5;124mcurl -X \u001b[39m\u001b[38;5;124m'\u001b[39m\u001b[38;5;124mGET\u001b[39m\u001b[38;5;124m'\u001b[39m\u001b[38;5;124m \u001b[39m\u001b[38;5;124m'\u001b[39m\u001b[38;5;124mhttp://0.0.0.0:8001/\u001b[39m\u001b[38;5;124m'\u001b[39m\u001b[38;5;124m\"\u001b[39m,\n\u001b[1;32m      5\u001b[0m     \u001b[38;5;124m\"\u001b[39m\u001b[38;5;124mwait\u001b[39m\u001b[38;5;124m\"\u001b[39m: \u001b[38;5;28;01mTrue\u001b[39;00m\n\u001b[1;32m      6\u001b[0m }\n\u001b[1;32m      7\u001b[0m result \u001b[38;5;241m=\u001b[39m rq\u001b[38;5;241m.\u001b[39mpost(\u001b[38;5;124m'\u001b[39m\u001b[38;5;124mhttp://0.0.0.0:8000/run_popen\u001b[39m\u001b[38;5;124m'\u001b[39m, data\u001b[38;5;241m=\u001b[39mjson\u001b[38;5;241m.\u001b[39mdumps(req))\u001b[38;5;241m.\u001b[39mjson()\n\u001b[0;32m----> 9\u001b[0m \u001b[43mjson\u001b[49m\u001b[38;5;241;43m.\u001b[39;49m\u001b[43mloads\u001b[49m\u001b[43m(\u001b[49m\u001b[43mresult\u001b[49m\u001b[43m[\u001b[49m\u001b[38;5;124;43m'\u001b[39;49m\u001b[38;5;124;43mresult\u001b[39;49m\u001b[38;5;124;43m'\u001b[39;49m\u001b[43m]\u001b[49m\u001b[43m)\u001b[49m[\u001b[38;5;124m'\u001b[39m\u001b[38;5;124mstatus\u001b[39m\u001b[38;5;124m'\u001b[39m]\n",
      "File \u001b[0;32m/usr/lib/python3.11/json/__init__.py:346\u001b[0m, in \u001b[0;36mloads\u001b[0;34m(s, cls, object_hook, parse_float, parse_int, parse_constant, object_pairs_hook, **kw)\u001b[0m\n\u001b[1;32m    341\u001b[0m     s \u001b[38;5;241m=\u001b[39m s\u001b[38;5;241m.\u001b[39mdecode(detect_encoding(s), \u001b[38;5;124m'\u001b[39m\u001b[38;5;124msurrogatepass\u001b[39m\u001b[38;5;124m'\u001b[39m)\n\u001b[1;32m    343\u001b[0m \u001b[38;5;28;01mif\u001b[39;00m (\u001b[38;5;28mcls\u001b[39m \u001b[38;5;129;01mis\u001b[39;00m \u001b[38;5;28;01mNone\u001b[39;00m \u001b[38;5;129;01mand\u001b[39;00m object_hook \u001b[38;5;129;01mis\u001b[39;00m \u001b[38;5;28;01mNone\u001b[39;00m \u001b[38;5;129;01mand\u001b[39;00m\n\u001b[1;32m    344\u001b[0m         parse_int \u001b[38;5;129;01mis\u001b[39;00m \u001b[38;5;28;01mNone\u001b[39;00m \u001b[38;5;129;01mand\u001b[39;00m parse_float \u001b[38;5;129;01mis\u001b[39;00m \u001b[38;5;28;01mNone\u001b[39;00m \u001b[38;5;129;01mand\u001b[39;00m\n\u001b[1;32m    345\u001b[0m         parse_constant \u001b[38;5;129;01mis\u001b[39;00m \u001b[38;5;28;01mNone\u001b[39;00m \u001b[38;5;129;01mand\u001b[39;00m object_pairs_hook \u001b[38;5;129;01mis\u001b[39;00m \u001b[38;5;28;01mNone\u001b[39;00m \u001b[38;5;129;01mand\u001b[39;00m \u001b[38;5;129;01mnot\u001b[39;00m kw):\n\u001b[0;32m--> 346\u001b[0m     \u001b[38;5;28;01mreturn\u001b[39;00m \u001b[43m_default_decoder\u001b[49m\u001b[38;5;241;43m.\u001b[39;49m\u001b[43mdecode\u001b[49m\u001b[43m(\u001b[49m\u001b[43ms\u001b[49m\u001b[43m)\u001b[49m\n\u001b[1;32m    347\u001b[0m \u001b[38;5;28;01mif\u001b[39;00m \u001b[38;5;28mcls\u001b[39m \u001b[38;5;129;01mis\u001b[39;00m \u001b[38;5;28;01mNone\u001b[39;00m:\n\u001b[1;32m    348\u001b[0m     \u001b[38;5;28mcls\u001b[39m \u001b[38;5;241m=\u001b[39m JSONDecoder\n",
      "File \u001b[0;32m/usr/lib/python3.11/json/decoder.py:337\u001b[0m, in \u001b[0;36mJSONDecoder.decode\u001b[0;34m(self, s, _w)\u001b[0m\n\u001b[1;32m    332\u001b[0m \u001b[38;5;28;01mdef\u001b[39;00m \u001b[38;5;21mdecode\u001b[39m(\u001b[38;5;28mself\u001b[39m, s, _w\u001b[38;5;241m=\u001b[39mWHITESPACE\u001b[38;5;241m.\u001b[39mmatch):\n\u001b[1;32m    333\u001b[0m     \u001b[38;5;124;03m\"\"\"Return the Python representation of ``s`` (a ``str`` instance\u001b[39;00m\n\u001b[1;32m    334\u001b[0m \u001b[38;5;124;03m    containing a JSON document).\u001b[39;00m\n\u001b[1;32m    335\u001b[0m \n\u001b[1;32m    336\u001b[0m \u001b[38;5;124;03m    \"\"\"\u001b[39;00m\n\u001b[0;32m--> 337\u001b[0m     obj, end \u001b[38;5;241m=\u001b[39m \u001b[38;5;28;43mself\u001b[39;49m\u001b[38;5;241;43m.\u001b[39;49m\u001b[43mraw_decode\u001b[49m\u001b[43m(\u001b[49m\u001b[43ms\u001b[49m\u001b[43m,\u001b[49m\u001b[43m \u001b[49m\u001b[43midx\u001b[49m\u001b[38;5;241;43m=\u001b[39;49m\u001b[43m_w\u001b[49m\u001b[43m(\u001b[49m\u001b[43ms\u001b[49m\u001b[43m,\u001b[49m\u001b[43m \u001b[49m\u001b[38;5;241;43m0\u001b[39;49m\u001b[43m)\u001b[49m\u001b[38;5;241;43m.\u001b[39;49m\u001b[43mend\u001b[49m\u001b[43m(\u001b[49m\u001b[43m)\u001b[49m\u001b[43m)\u001b[49m\n\u001b[1;32m    338\u001b[0m     end \u001b[38;5;241m=\u001b[39m _w(s, end)\u001b[38;5;241m.\u001b[39mend()\n\u001b[1;32m    339\u001b[0m     \u001b[38;5;28;01mif\u001b[39;00m end \u001b[38;5;241m!=\u001b[39m \u001b[38;5;28mlen\u001b[39m(s):\n",
      "File \u001b[0;32m/usr/lib/python3.11/json/decoder.py:355\u001b[0m, in \u001b[0;36mJSONDecoder.raw_decode\u001b[0;34m(self, s, idx)\u001b[0m\n\u001b[1;32m    353\u001b[0m     obj, end \u001b[38;5;241m=\u001b[39m \u001b[38;5;28mself\u001b[39m\u001b[38;5;241m.\u001b[39mscan_once(s, idx)\n\u001b[1;32m    354\u001b[0m \u001b[38;5;28;01mexcept\u001b[39;00m \u001b[38;5;167;01mStopIteration\u001b[39;00m \u001b[38;5;28;01mas\u001b[39;00m err:\n\u001b[0;32m--> 355\u001b[0m     \u001b[38;5;28;01mraise\u001b[39;00m JSONDecodeError(\u001b[38;5;124m\"\u001b[39m\u001b[38;5;124mExpecting value\u001b[39m\u001b[38;5;124m\"\u001b[39m, s, err\u001b[38;5;241m.\u001b[39mvalue) \u001b[38;5;28;01mfrom\u001b[39;00m \u001b[38;5;28mNone\u001b[39m\n\u001b[1;32m    356\u001b[0m \u001b[38;5;28;01mreturn\u001b[39;00m obj, end\n",
      "\u001b[0;31mJSONDecodeError\u001b[0m: Expecting value: line 1 column 1 (char 0)"
     ]
    }
   ],
   "source": [
    "# check status\n",
    "req = {\n",
    "    \"hostname\": \"h1\",\n",
    "    \"cmd\": \"curl -X 'GET' 'http://0.0.0.0:8001/'\",\n",
    "    \"wait\": True\n",
    "}\n",
    "result = rq.post('http://0.0.0.0:8000/run_popen', data=json.dumps(req)).json()\n",
    "\n",
    "json.loads(result['result'])['status']"
   ]
  },
  {
   "cell_type": "code",
   "execution_count": null,
   "metadata": {},
   "outputs": [],
   "source": [
    "host_ls = rq.get('http://0.0.0.0:8000/host').json()\n",
    "\n",
    "class SimpleHttpServer:\n",
    "    def __init__(self, host_ls: dict):\n",
    "\n",
    "        for hostname, host_addr in host_ls.items():\n",
    "            \n",
    "            if self.is_online is True:\n",
    "                continue\n",
    "            \n",
    "            req = {\n",
    "                \"hostname\": f\"h1\",\n",
    "                \"cmd\": \" ../../venv11/bin/python3.11 \\\n",
    "                        mn_app/simplehttpserver/http_file_transfer.py 0.0.0.0 8001 \\\n",
    "                        \",\n",
    "                \"wait\": False\n",
    "            }\n",
    "            rq.post('http://0.0.0.0:8000/run_popen', data=json.dumps(req)).json()\n",
    "\n",
    "    @property\n",
    "    def is_online(self, hostname):\n",
    "        req = {\n",
    "            \"hostname\": \"h1\",\n",
    "            \"cmd\": \"curl -X 'GET' 'http://0.0.0.0:8001/'\",\n",
    "            \"wait\": True\n",
    "        }\n",
    "        result = rq.post('http://0.0.0.0:8000/run_popen', data=json.dumps(req)).json()\n",
    "\n",
    "        return json.loads(result['result'])['status']\n",
    "    \n",
    "    def file_transfer(self):\n",
    "        cmd = (\n",
    "            f\"\"\"curl -X 'POST' 'http://0.0.0.0:8001/upload_speed/' \\\\\n",
    "                -H 'accept: application/json' -H \\\\\n",
    "                    'Content-Type: application/json' -d \\\\\n",
    "                        '{{\"ip\": \"10.0.0.{dst_host}\", \"port\": 8001, \"size\": 50}}'\"\"\"\n",
    "        )\n"
   ]
  }
 ],
 "metadata": {
  "language_info": {
   "name": "python"
  }
 },
 "nbformat": 4,
 "nbformat_minor": 2
}
