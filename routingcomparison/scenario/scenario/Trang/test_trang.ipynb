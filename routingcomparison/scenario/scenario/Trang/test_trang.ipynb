{
 "cells": [
  {
   "cell_type": "code",
   "execution_count": 8,
   "metadata": {},
   "outputs": [
    {
     "name": "stdout",
     "output_type": "stream",
     "text": [
      "[{'status': 200, 'flowrule': {'dpid': 1, 'cookie': 1, 'cookie_mask': 1, 'table_id': 0, 'idle_timeout': 3000, 'hard_timeout': 3000, 'priority': 1, 'flags': 1, 'match': {'in_port': 1, 'dl_src': '00:00:00:00:00:01', 'dl_dst': '00:00:00:00:00:02'}, 'actions': [{'type': 'OUTPUT', 'port': 5}]}}, {'status': 200, 'flowrule': {'dpid': 1, 'cookie': 1, 'cookie_mask': 1, 'table_id': 0, 'idle_timeout': 3000, 'hard_timeout': 3000, 'priority': 1, 'flags': 1, 'match': {'in_port': 5, 'dl_src': '00:00:00:00:00:02', 'dl_dst': '00:00:00:00:00:01'}, 'actions': [{'type': 'OUTPUT', 'port': 1}]}}, {'status': 200, 'flowrule': {'dpid': 5, 'cookie': 1, 'cookie_mask': 1, 'table_id': 0, 'idle_timeout': 3000, 'hard_timeout': 3000, 'priority': 1, 'flags': 1, 'match': {'in_port': 3, 'dl_src': '00:00:00:00:00:01', 'dl_dst': '00:00:00:00:00:02'}, 'actions': [{'type': 'OUTPUT', 'port': 5}]}}, {'status': 200, 'flowrule': {'dpid': 5, 'cookie': 1, 'cookie_mask': 1, 'table_id': 0, 'idle_timeout': 3000, 'hard_timeout': 3000, 'priority': 1, 'flags': 1, 'match': {'in_port': 5, 'dl_src': '00:00:00:00:00:02', 'dl_dst': '00:00:00:00:00:01'}, 'actions': [{'type': 'OUTPUT', 'port': 3}]}}, {'status': 200, 'flowrule': {'dpid': 6, 'cookie': 1, 'cookie_mask': 1, 'table_id': 0, 'idle_timeout': 3000, 'hard_timeout': 3000, 'priority': 1, 'flags': 1, 'match': {'in_port': 4, 'dl_src': '00:00:00:00:00:01', 'dl_dst': '00:00:00:00:00:02'}, 'actions': [{'type': 'OUTPUT', 'port': 3}]}}, {'status': 200, 'flowrule': {'dpid': 6, 'cookie': 1, 'cookie_mask': 1, 'table_id': 0, 'idle_timeout': 3000, 'hard_timeout': 3000, 'priority': 1, 'flags': 1, 'match': {'in_port': 3, 'dl_src': '00:00:00:00:00:02', 'dl_dst': '00:00:00:00:00:01'}, 'actions': [{'type': 'OUTPUT', 'port': 4}]}}, {'status': 200, 'flowrule': {'dpid': 2, 'cookie': 1, 'cookie_mask': 1, 'table_id': 0, 'idle_timeout': 3000, 'hard_timeout': 3000, 'priority': 1, 'flags': 1, 'match': {'in_port': 4, 'dl_src': '00:00:00:00:00:01', 'dl_dst': '00:00:00:00:00:02'}, 'actions': [{'type': 'OUTPUT', 'port': 1}]}}, {'status': 200, 'flowrule': {'dpid': 2, 'cookie': 1, 'cookie_mask': 1, 'table_id': 0, 'idle_timeout': 3000, 'hard_timeout': 3000, 'priority': 1, 'flags': 1, 'match': {'in_port': 1, 'dl_src': '00:00:00:00:00:02', 'dl_dst': '00:00:00:00:00:01'}, 'actions': [{'type': 'OUTPUT', 'port': 4}]}}]\n"
     ]
    },
    {
     "data": {
      "text/plain": [
       "{'src_host': 1, 'dst_host': 2, 'packet_loss': 0.666667, 'delay': 253.0}"
      ]
     },
     "execution_count": 8,
     "metadata": {},
     "output_type": "execute_result"
    }
   ],
   "source": [
    "import requests\n",
    "import time\n",
    "import json\n",
    "import requests as rq\n",
    "\n",
    "from common.traffic_gen_utils import PingTraffic, HttpFileTransferController\n",
    "\n",
    "    # Get list of host\n",
    "    \n",
    "test_rule = {\n",
    "  \"route\": [\n",
    "    {\n",
    "      \"src_host\": 1,\n",
    "      \"dst_host\": 2\n",
    "    }\n",
    "  ]\n",
    "}\n",
    "\n",
    "result = rq.post('http://0.0.0.0:8001/single/rl/sec',\n",
    "        data=json.dumps(test_rule)).json()\n",
    "print(result)\n",
    "PingTraffic().ping_single('h1', 'h2')\n",
    "\n",
    "    "
   ]
  }
 ],
 "metadata": {
  "kernelspec": {
   "display_name": "venv11",
   "language": "python",
   "name": "python3"
  },
  "language_info": {
   "codemirror_mode": {
    "name": "ipython",
    "version": 3
   },
   "file_extension": ".py",
   "mimetype": "text/x-python",
   "name": "python",
   "nbconvert_exporter": "python",
   "pygments_lexer": "ipython3",
   "version": "3.11.7"
  }
 },
 "nbformat": 4,
 "nbformat_minor": 2
}
