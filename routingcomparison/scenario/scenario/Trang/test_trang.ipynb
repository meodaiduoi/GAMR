{
 "cells": [
  {
   "cell_type": "code",
   "execution_count": 1,
   "metadata": {},
   "outputs": [
    {
     "ename": "ModuleNotFoundError",
     "evalue": "No module named 'common'",
     "output_type": "error",
     "traceback": [
      "\u001b[0;31m---------------------------------------------------------------------------\u001b[0m",
      "\u001b[0;31mModuleNotFoundError\u001b[0m                       Traceback (most recent call last)",
      "Cell \u001b[0;32mIn[1], line 6\u001b[0m\n\u001b[1;32m      3\u001b[0m \u001b[38;5;28;01mimport\u001b[39;00m \u001b[38;5;21;01mjson\u001b[39;00m\n\u001b[1;32m      4\u001b[0m \u001b[38;5;28;01mimport\u001b[39;00m \u001b[38;5;21;01mrequests\u001b[39;00m \u001b[38;5;28;01mas\u001b[39;00m \u001b[38;5;21;01mrq\u001b[39;00m\n\u001b[0;32m----> 6\u001b[0m \u001b[38;5;28;01mfrom\u001b[39;00m \u001b[38;5;21;01mcommon\u001b[39;00m\u001b[38;5;21;01m.\u001b[39;00m\u001b[38;5;21;01mtraffic_gen_utils\u001b[39;00m \u001b[38;5;28;01mimport\u001b[39;00m PingTraffic, HttpFileTransferController\n\u001b[1;32m      8\u001b[0m \u001b[38;5;66;03m# test_rule = {\u001b[39;00m\n\u001b[1;32m      9\u001b[0m \u001b[38;5;66;03m#   \"route\": [\u001b[39;00m\n\u001b[1;32m     10\u001b[0m \u001b[38;5;66;03m#     {\u001b[39;00m\n\u001b[0;32m   (...)\u001b[0m\n\u001b[1;32m     16\u001b[0m \n\u001b[1;32m     17\u001b[0m \u001b[38;5;66;03m# Generate list of host\u001b[39;00m\n\u001b[1;32m     18\u001b[0m hosts \u001b[38;5;241m=\u001b[39m [\u001b[38;5;124m'\u001b[39m\u001b[38;5;124mh\u001b[39m\u001b[38;5;132;01m{}\u001b[39;00m\u001b[38;5;124m'\u001b[39m\u001b[38;5;241m.\u001b[39mformat(i) \u001b[38;5;28;01mfor\u001b[39;00m i \u001b[38;5;129;01min\u001b[39;00m \u001b[38;5;28mrange\u001b[39m(\u001b[38;5;241m1\u001b[39m, \u001b[38;5;241m11\u001b[39m)]\n",
      "\u001b[0;31mModuleNotFoundError\u001b[0m: No module named 'common'"
     ]
    }
   ],
   "source": [
    "import requests\n",
    "import time\n",
    "import json\n",
    "import requests as rq\n",
    "\n",
    "from common.traffic_gen_utils import PingTraffic, HttpFileTransferController\n",
    "\n",
    "# test_rule = {\n",
    "#   \"route\": [\n",
    "#     {\n",
    "#       \"src_host\": 1,\n",
    "#       \"dst_host\": 2\n",
    "#     }\n",
    "#   ]\n",
    "# }\n",
    "\n",
    "# Generate list of host\n",
    "hosts = ['h{}'.format(i) for i in range(1, 11)]\n",
    "print(hosts)\n",
    "\n",
    "# Generate list of test rules\n",
    "test_rules = []\n",
    "for i in range(1, 11):\n",
    "    for j in range(1, 11):\n",
    "        if i != j:\n",
    "            test_rule = {\n",
    "                \"route\": [\n",
    "                    {\n",
    "                        \"src_host\": i,\n",
    "                        \"dst_host\": j\n",
    "                    }\n",
    "                ]\n",
    "            }\n",
    "            test_rules.append(test_rule)\n",
    "\n",
    "sec_morl = rq.post('http://0.0.0.0:8001/single/rl/sec',\n",
    "        data=json.dumps(test_rule)).json()\n",
    "print(sec_morl)\n",
    "PingTraffic().ping_single('h1', 'h2')\n",
    "\n",
    "min_hop = rq.post('http://0.0.0.0:8001/single/min_hop',\n",
    "        data=json.dumps(test_rule)).json()\n",
    "print(min_hop)\n",
    "PingTraffic().ping_single('h3', 'h4')\n"
   ]
  }
 ],
 "metadata": {
  "kernelspec": {
   "display_name": "venv11",
   "language": "python",
   "name": "python3"
  },
  "language_info": {
   "codemirror_mode": {
    "name": "ipython",
    "version": 3
   },
   "file_extension": ".py",
   "mimetype": "text/x-python",
   "name": "python",
   "nbconvert_exporter": "python",
   "pygments_lexer": "ipython3",
   "version": "3.11.7"
  }
 },
 "nbformat": 4,
 "nbformat_minor": 2
}
