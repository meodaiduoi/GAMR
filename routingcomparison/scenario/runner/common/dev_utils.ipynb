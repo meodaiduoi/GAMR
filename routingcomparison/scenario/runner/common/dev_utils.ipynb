{
 "cells": [
  {
   "cell_type": "code",
   "execution_count": null,
   "metadata": {},
   "outputs": [],
   "source": [
    "import random as rd\n",
    "import requests as rq\n",
    "import time\n",
    "import json\n"
   ]
  },
  {
   "cell_type": "code",
   "execution_count": null,
   "metadata": {},
   "outputs": [],
   "source": [
    "def pingHTTP(ping):\n",
    "    print(ping)\n",
    "    print(requests.post('http://0.0.0.0:8000/run_popen', data=json.dumps(ping)).json())\n",
    "    \n",
    "def create_route_list(number_hosts, number_request):\n",
    "    routes = [] \n",
    "    pings = []\n",
    "    \n",
    "    for i in range(number_request):\n",
    "        src_host = rd.randint(1, number_hosts)\n",
    "        dst_host = rd.randint(1, number_hosts)\n",
    "        while src_host == dst_host:\n",
    "            dst_host = rd.randint(1, number_hosts)\n",
    "            \n",
    "        route = {\n",
    "            \"src_host\": src_host,\n",
    "            \"dst_host\": dst_host\n",
    "            }\n",
    "        routes.append(route)\n",
    "        cmd = (\n",
    "            f\"\"\"curl -X 'POST' 'http://0.0.0.0:8001/upload_speed/' -H 'accept: application/json' -H 'Content-Type: application/json' -d '{{\"ip\": \"10.0.0.{dst_host}\", \"port\": 8001, \"size\": 50}}'\"\"\"\n",
    "        )\n",
    "        pings.append(\n",
    "            {\n",
    "                \"hostname\": \"h\" + str(src_host),\n",
    "                \"cmd\": cmd,\n",
    "                \"wait\": True\n",
    "            }\n",
    "        )\n",
    "    return routes, pings\n",
    "\n",
    "def init_host_list(hosts):\n",
    "    initHosts_list = []\n",
    "    \n",
    "    for i_host in hosts:\n",
    "        # hosts.add(\"h\"+str(route[\"src_host\"]))\n",
    "        # hosts.add(\"h\"+str(route[\"dst_host\"]))\n",
    "        initHosts_list.append({\n",
    "            \"hostname\": \"h\"+str(i_host),\n",
    "            \"cmd\": '''\n",
    "                    ../../venv11/bin/python3.11 \\\n",
    "                    mn_app/simplehttpserver/http_file_transfer.py 0.0.0.0 8001\n",
    "                    ''',\n",
    "            \"wait\": False\n",
    "        })\n",
    "    return initHosts_list"
   ]
  },
  {
   "cell_type": "code",
   "execution_count": null,
   "metadata": {},
   "outputs": [],
   "source": [
    "class RandomRequestGen:\n",
    "    def __init__(self, *args, **kwargs) -> None:\n",
    "        self.server_ls = kwargs['server_ls']\n",
    "        self.client_ls = kwargs['client_ls']\n",
    "        self.num_single_rq = kwargs['num_single_rq']\n",
    "        self.routes = [] \n",
    "    \n",
    "\n",
    "    def get_route_single(self):\n",
    "        for i in range(self.num_single_rq):\n",
    "            choice_client = rd.choice(self.client_ls)\n",
    "            choice_server = rd.choice(self.server_ls)\n",
    "            \n",
    "            route = {\n",
    "                'src_host': choice_client,\n",
    "                'dst_host': choice_server,\n",
    "            }\n",
    "            self.routes.append()\n",
    "        \n",
    "    def get_route_multi(self):\n",
    "        for i in range(self.num_single_rq):\n",
    "            choice_client = rd.choice(self.client_ls)\n",
    "            choice_server = rd.choice(self.server_ls)\n",
    "            \n",
    "            route = {\n",
    "                'src_host': choice_client,\n",
    "                'dst_host': choice_server,\n",
    "            }\n",
    "            self.routes.append()\n",
    "    \n",
    "    # Don't have api to implement here\n",
    "    def send_route_request(self):\n",
    "        for i in range(self.num_single_rq):\n",
    "            rq.post('', data=json.dumps())\n",
    "\n"
   ]
  },
  {
   "cell_type": "code",
   "execution_count": null,
   "metadata": {},
   "outputs": [],
   "source": [
    "class PingTraffic:\n",
    "    def __init__(self, *args, **kwargs) -> None:\n",
    "        self.timeout = kwargs['timeout']\n",
    "        self.count = kwargs['count']\n",
    "\n",
    "    def ping_single(self, src_host: str, dst_host: str):\n",
    "        request = {\n",
    "            \"src_hostname\": src_host,\n",
    "            \"dst_hostname\": dst_host,\n",
    "            \"timeout\": '3',\n",
    "            \"count\": '3'\n",
    "        }\n",
    "        return rq.post('http://0.0.0.0:8000/ping_single', json.dumps(request)).json()\n",
    "        \n",
    "    \n",
    "    def ping_multi(self, host_ls: str):\n",
    "        '''\n",
    "           Ping between all host in list\n",
    "           ex input: ['h1', 'h2', 'h3',...] \n",
    "        '''\n",
    "        request = {\n",
    "            \"hostname_list\": host_ls,\n",
    "            \"timeout\": '3'\n",
    "        }\n",
    "        return rq.post('http://0.0.0.0:8000/ping', json.dumps(request)).json()\n",
    "    \n",
    "    def ping_all(self):\n",
    "        return rq.post('http://0.0.0.0:8000/pingall', json.dumps({\"timeout\": \"3\"})).json()\n",
    "\n",
    "# PingTraffic(timeout=3, count=3).ping_single('h2','h3')\n",
    "# PingTraffic(timeout=3, count=3).ping_multi(['h2','h3'])\n",
    "PingTraffic(timeout=3, count=3).ping_all()\n"
   ]
  },
  {
   "cell_type": "code",
   "execution_count": 46,
   "metadata": {},
   "outputs": [
    {
     "data": {
      "text/plain": [
       "<Response [200]>"
      ]
     },
     "execution_count": 46,
     "metadata": {},
     "output_type": "execute_result"
    }
   ],
   "source": [
    "req = {\n",
    "    \"hostname\": f\"h1\",\n",
    "    \"cmd\": '''\n",
    "            ../../venv11/bin/python3.11 \\\n",
    "            mn_app/simplehttpserver/http_file_transfer.py 0.0.0.0 8001\n",
    "            ''',\n",
    "    \"wait\": False\n",
    "}\n",
    "req ={\n",
    "    \"hostname\": \"h1\",\n",
    "    \"cmd\": '''\n",
    "            ../../venv11/bin/python3.11 \\\n",
    "            mn_app/simplehttpserver/http_file_transfer.py 0.0.0.0 8001\n",
    "            ''',\n",
    "}\n",
    "rq.post('http://0.0.0.0:8000/run_xterm', data=json.dumps(req))"
   ]
  },
  {
   "cell_type": "code",
   "execution_count": 56,
   "metadata": {},
   "outputs": [
    {
     "data": {
      "text/plain": [
       "'{\"result\":true}'"
      ]
     },
     "execution_count": 56,
     "metadata": {},
     "output_type": "execute_result"
    }
   ],
   "source": [
    "req = {\n",
    "    \"hostname\": f\"h1\",\n",
    "    \"cmd\": '''\n",
    "        ../../venv11/bin/python3.11 \\\n",
    "        mn_app/simplehttpserver/http_file_transfer.py 0.0.0.0 8001\n",
    "        ''',\n",
    "    \"wait\": False\n",
    "}\n",
    "rq.post('http://0.0.0.0:8000/run_popen', data=json.dumps(req)).text"
   ]
  },
  {
   "cell_type": "code",
   "execution_count": 58,
   "metadata": {},
   "outputs": [
    {
     "data": {
      "text/plain": [
       "True"
      ]
     },
     "execution_count": 58,
     "metadata": {},
     "output_type": "execute_result"
    }
   ],
   "source": [
    "# check status\n",
    "req = {\n",
    "    \"hostname\": \"h1\",\n",
    "    \"cmd\": \"curl -X 'GET' 'http://0.0.0.0:8001/'\",\n",
    "    \"wait\": True\n",
    "}\n",
    "result = rq.post('http://0.0.0.0:8000/run_popen', data=json.dumps(req)).json()\n",
    "\n",
    "json.loads(result['result'])['status']"
   ]
  },
  {
   "cell_type": "code",
   "execution_count": 60,
   "metadata": {},
   "outputs": [],
   "source": [
    "host_ls = rq.get('http://0.0.0.0:8000/host').json()\n",
    "\n",
    "class HttpFileTransferController:\n",
    "    def __init__(self, \n",
    "                 \n",
    "                 host_ls: dict, app_port: int):\n",
    "        self.app_port = app_port\n",
    "        self.host_ls = host_ls\n",
    "        \n",
    "        for hostname, host_addr in host_ls.items():\n",
    "            \n",
    "            if self.is_online(hostname) is True:\n",
    "                continue\n",
    "            \n",
    "            req = {\n",
    "                \"hostname\": f\"h1\",\n",
    "                \"cmd\": f\" ../../venv11/bin/python3.11 \\\n",
    "                        mn_app/simplehttpserver/http_file_transfer.py 0.0.0.0 {self.app_port} \\\n",
    "                        \",\n",
    "                \"wait\": False\n",
    "            }\n",
    "            rq.post('http://0.0.0.0:8000/run_popen', data=json.dumps(req)).json()\n",
    "\n",
    "    @property\n",
    "    def is_online(self, hostname):\n",
    "        req = {\n",
    "            \"hostname\": f\"{hostname}\",\n",
    "            \"cmd\": f\"curl -X 'GET' 'http://0.0.0.0:{self.app_port}'\",\n",
    "            \"wait\": True\n",
    "        }\n",
    "        result = rq.post('http://0.0.0.0:8000/run_popen', data=json.dumps(req)).json()\n",
    "        return json.loads(result['result'])['status']\n",
    "    \n",
    "    def file_upload(self, src_hostname: str, dst_hostname, size: int | None = 10):\n",
    "        req = ({\n",
    "            \"hostname\": f\"{src_hostname}\",\n",
    "            \"cmd\":f\"\"\"curl -X 'POST' 'http://0.0.0.0:{self.app_port}/upload_speed/' \\\n",
    "                 -H 'accept: application/json' -H \\\n",
    "                 'Content-Type: application/json' -d \\\n",
    "                 '{{\"ip\": \"{self.host_ls[dst_hostname][\"ip\"]}\", \\\n",
    "                 \"port\": {self.app_port}, \"size\": 50}}'\"\"\",\n",
    "            \"wait\": False\n",
    "        })\n",
    "    \n",
    "    def file_download(self, src_hostname: str, dst_hostname, size: int | None = 10):\n",
    "        req = ({\n",
    "            \"hostname\": f\"{src_hostname}\",\n",
    "            \"cmd\":f\"\"\"curl -X 'POST' 'http://0.0.0.0:{self.app_port}/download_speed/' \\\n",
    "                 -H 'accept: application/json' -H \\\n",
    "                 'Content-Type: application/json' -d \\\n",
    "                 '{{\"ip\": \"{self.host_ls[dst_hostname][\"ip\"]}\", \\\n",
    "                 \"port\": {self.app_port}, \"size\": 50}}'\"\"\",\n",
    "            \"wait\": False\n",
    "        })\n",
    "        result = rq.post('http://0.0.0.0:8000/run_popen', data=json.dumps(req)).json()\n",
    "        return json.loads(result['result'])['status']\n",
    "    \n",
    "    def respone_time(self, src_hostname, dst_hostname):\n",
    "        req = ({\n",
    "            \"hostname\": f\"{src_hostname}\",\n",
    "            \"cmd\":f\"\"\"curl -X 'POST' 'http://0.0.0.0:{self.app_port}/download_speed/' \\\n",
    "                 -H 'accept: application/json' -H \\\n",
    "                 'Content-Type: application/json' -d \\\n",
    "                 '{{\"ip\": \"{self.host_ls[dst_hostname][\"ip\"]}\", \\\n",
    "                 \"port\": {self.app_port}}}'\"\"\",\n",
    "            \"wait\": False\n",
    "        })\n",
    "        result = rq.post('http://0.0.0.0:8000/run_popen', data=json.dumps(req)).json()\n",
    "        return json.loads(result['result'])['status']"
   ]
  }
 ],
 "metadata": {
  "kernelspec": {
   "display_name": "venv11",
   "language": "python",
   "name": "python3"
  },
  "language_info": {
   "name": "python",
   "version": "3.11.8"
  }
 },
 "nbformat": 4,
 "nbformat_minor": 2
}
