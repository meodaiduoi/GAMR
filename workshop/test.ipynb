{
 "cells": [
  {
   "cell_type": "code",
   "execution_count": 77,
   "metadata": {},
   "outputs": [],
   "source": [
    "import requests as rq\n",
    "import numpy as np"
   ]
  },
  {
   "cell_type": "code",
   "execution_count": 60,
   "metadata": {},
   "outputs": [
    {
     "data": {
      "text/plain": [
       "{'directed': True,\n",
       " 'multigraph': False,\n",
       " 'graph': {},\n",
       " 'nodes': [{'id': 3}, {'id': 2}, {'id': 1}],\n",
       " 'links': [{'weight': 0,\n",
       "   'delay': 0,\n",
       "   'packet_loss': 0,\n",
       "   'source': 3,\n",
       "   'target': 3},\n",
       "  {'weight': 1,\n",
       "   'lldpdelay': 0.001767873764038086,\n",
       "   'delay': 0.0010770559310913086,\n",
       "   'free_bandwith': 9999.998880373209,\n",
       "   'link_usage': 0.0011192538307793283,\n",
       "   'packet_loss': 0.0,\n",
       "   'source': 3,\n",
       "   'target': 2},\n",
       "  {'weight': 0, 'delay': 0, 'packet_loss': 0, 'source': 2, 'target': 2},\n",
       "  {'weight': 1,\n",
       "   'lldpdelay': 0.0015859603881835938,\n",
       "   'delay': 0.0010770559310913086,\n",
       "   'free_bandwith': 9999.998880373209,\n",
       "   'link_usage': 0.0011192538307793283,\n",
       "   'packet_loss': 0.0,\n",
       "   'source': 2,\n",
       "   'target': 3},\n",
       "  {'weight': 1,\n",
       "   'delay': 0.0008786916732788086,\n",
       "   'lldpdelay': 0.0016460418701171875,\n",
       "   'free_bandwith': 9999.998720426525,\n",
       "   'link_usage': 0.0012795734755080771,\n",
       "   'packet_loss': 0.0,\n",
       "   'source': 2,\n",
       "   'target': 1},\n",
       "  {'weight': 0, 'delay': 0, 'packet_loss': 0, 'source': 1, 'target': 1},\n",
       "  {'weight': 1,\n",
       "   'delay': 0.0008786916732788086,\n",
       "   'lldpdelay': 0.0014302730560302734,\n",
       "   'free_bandwith': 9999.998720426525,\n",
       "   'link_usage': 0.0012795734755080771,\n",
       "   'packet_loss': 0.0,\n",
       "   'source': 1,\n",
       "   'target': 2}]}"
      ]
     },
     "execution_count": 60,
     "metadata": {},
     "output_type": "execute_result"
    }
   ],
   "source": [
    "rquest = rq.get('http://0.0.0.0:8080/topology_graph')\n",
    "json_graph = rquest.json()\n",
    "json_graph"
   ]
  },
  {
   "cell_type": "code",
   "execution_count": 22,
   "metadata": {},
   "outputs": [],
   "source": [
    "import networkx as nx\n",
    "import json\n",
    "\n",
    "# json to networkx object\n",
    "graph = nx.json_graph.node_link_graph(json_graph)"
   ]
  },
  {
   "cell_type": "code",
   "execution_count": 23,
   "metadata": {},
   "outputs": [
    {
     "data": {
      "image/png": "[encoded data removed]",
      "text/plain": [
       "<Figure size 640x480 with 1 Axes>"
      ]
     },
     "metadata": {},
     "output_type": "display_data"
    }
   ],
   "source": [
    "# plot graph\n",
    "import matplotlib.pyplot as plt\n",
    "nx.draw(graph, with_labels=True, font_weight='bold')\n",
    "plt.show()"
   ]
  },
  {
   "cell_type": "code",
   "execution_count": 28,
   "metadata": {},
   "outputs": [
    {
     "name": "stdout",
     "output_type": "stream",
     "text": [
      "Number of nodes:  3\n",
      "Number of edges:  7\n",
      "Adjacent matrix:  [[0 1 0]\n",
      " [1 0 1]\n",
      " [0 1 0]]\n"
     ]
    }
   ],
   "source": [
    "# number of nodes and edges\n",
    "print('Number of nodes: ', graph.number_of_nodes())\n",
    "print('Number of edges: ', graph.number_of_edges())\n",
    "# adjacent matrix\n",
    "print('Adjacent matrix: ', nx.adjacency_matrix(graph).todense())"
   ]
  },
  {
   "cell_type": "code",
   "execution_count": 34,
   "metadata": {},
   "outputs": [
    {
     "data": {
      "text/plain": [
       "matrix([[0, 1, 0],\n",
       "        [1, 0, 1],\n",
       "        [0, 1, 0]])"
      ]
     },
     "execution_count": 34,
     "metadata": {},
     "output_type": "execute_result"
    }
   ],
   "source": [
    "# adjacency matrix of graph\n",
    "adjacency_matrix = nx.adjacency_matrix(graph).todense()\n",
    "adjacency_matrix"
   ]
  },
  {
   "cell_type": "code",
   "execution_count": 50,
   "metadata": {},
   "outputs": [
    {
     "name": "stdout",
     "output_type": "stream",
     "text": [
      "[[], [2], [1, 3], [2]]\n"
     ]
    }
   ],
   "source": [
    "number_node = graph.number_of_nodes()\n",
    "bin_matrix = nx.adjacency_matrix(graph).todense().tolist()\n",
    "adj_matrix = [[] for i in range(number_node+1)]\n",
    "for i in range(1, number_node+1):\n",
    "    for j in range(1, number_node+1):\n",
    "        if bin_matrix[i-1][j-1] == 1:\n",
    "            adj_matrix[i].append(j)"
   ]
  },
  {
   "cell_type": "code",
   "execution_count": 80,
   "metadata": {},
   "outputs": [
    {
     "name": "stdout",
     "output_type": "stream",
     "text": [
      "predict_delay:  [[0.         0.         0.         0.        ]\n",
      " [0.         0.         0.         0.        ]\n",
      " [0.         0.         0.         0.00074029]\n",
      " [0.         0.         0.00074029 0.        ]]\n"
     ]
    }
   ],
   "source": [
    "# get atrributes of link of nodes\n",
    "def update_state():\n",
    "    infor_edges = list(graph.edges(data=True))\n",
    "    predict_delay =np.zeros((number_node+1, number_node+1))\n",
    "    predict_packet_loss = np.zeros((number_node+1, number_node+1))\n",
    "    predict_bandwidth = np.zeros((number_node+1, number_node+1))\n",
    "    for i in range(len(infor_edges)):\n",
    "        src = infor_edges[i][0]\n",
    "        dst = infor_edges[i][1]\n",
    "        predict_delay[src][dst] = infor_edges[i][2]['delay']\n",
    "        predict_packet_loss[src][dst] = infor_edges[i][2]['packet_loss']\n",
    "    return predict_delay, predict_packet_loss, predict_bandwidth"
   ]
  },
  {
   "cell_type": "code",
   "execution_count": null,
   "metadata": {},
   "outputs": [],
   "source": []
  }
 ],
 "metadata": {
  "kernelspec": {
   "display_name": "venv7",
   "language": "python",
   "name": "python3"
  },
  "language_info": {
   "codemirror_mode": {
    "name": "ipython",
    "version": 3
   },
   "file_extension": ".py",
   "mimetype": "text/x-python",
   "name": "python",
   "nbconvert_exporter": "python",
   "pygments_lexer": "ipython3",
   "version": "3.7.17"
  },
  "orig_nbformat": 4
 },
 "nbformat": 4,
 "nbformat_minor": 2
}
