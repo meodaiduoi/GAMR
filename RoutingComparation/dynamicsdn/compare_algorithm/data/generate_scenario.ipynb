{
 "cells": [
  {
   "cell_type": "code",
   "execution_count": 15,
   "metadata": {},
   "outputs": [],
   "source": [
    "import networkx as nx\n",
    "import random\n",
    "import json"
   ]
  },
  {
   "cell_type": "code",
   "execution_count": 16,
   "metadata": {},
   "outputs": [],
   "source": [
    "def genearate_scenarios(data_path, path_store,  number_server, number_run):\n",
    "    G = nx.read_graphml(data_path)\n",
    "    nx_nodes = list(G.nodes())\n",
    "    nx_edges = list(G.edges())\n",
    "    data = {}\n",
    "    node = []\n",
    "    edges = []\n",
    "    for n in nx_nodes:\n",
    "        node.append(int(n))\n",
    "    for e in nx_edges:\n",
    "        edges.append((int(e[0]), int(e[1])))\n",
    "    data[\"nodes\"] = node\n",
    "    data[\"edges\"] = edges\n",
    "\n",
    "    server_list = random.sample(node, number_server)\n",
    "    client_list = list(set(node) - set(server_list))\n",
    "    switch_list = client_list\n",
    "    data[\"server\"] = server_list\n",
    "    data[\"client\"] = client_list\n",
    "    data[\"switch\"] = switch_list\n",
    "\n",
    "    scenario = []\n",
    "    for i in range(number_run):\n",
    "        data_scenario = {}\n",
    "        delay_list = []\n",
    "        loss_list = []\n",
    "        bandwidth_list = []\n",
    "        for e in edges:\n",
    "            delay = random.uniform(5, 100)\n",
    "            loss = random.choice([0.001, 0.005, 0.01, 0.02, 0.03, 0.04, 0.05, 0.07, 0.09, 0.10 ])\n",
    "            bandwidth = random.uniform(30, 200)\n",
    "            delay_list.append((e[0], e[1], delay))\n",
    "            loss_list.append((e[0], e[1], loss))\n",
    "            bandwidth_list.append((e[0], e[1], bandwidth))\n",
    "        data_scenario[\"delay\"] = delay_list\n",
    "        data_scenario[\"loss\"] = loss_list\n",
    "        data_scenario[\"bandwidth\"] = bandwidth_list\n",
    "\n",
    "        request = []\n",
    "        num_request = random.choice([2,5, 15])\n",
    "        for j in range(num_request):\n",
    "            src = random.choice(client_list)\n",
    "            dst = random.choice(server_list)\n",
    "            request.append((src, dst))\n",
    "        data_scenario[\"request\"] = request\n",
    "        scenario.append(data_scenario)\n",
    "    data[\"scenario\"] = scenario\n",
    "    with open(path_store, 'w') as f:\n",
    "        json.dump(data, f)\n",
    "        \n",
    "\n"
   ]
  },
  {
   "cell_type": "code",
   "execution_count": 23,
   "metadata": {},
   "outputs": [],
   "source": [
    "\n",
    "genearate_scenarios(\"Chinanet.graphml\", \"chinanet/2_server.json\", 2, 50)"
   ]
  }
 ],
 "metadata": {
  "kernelspec": {
   "display_name": "Python 3",
   "language": "python",
   "name": "python3"
  },
  "language_info": {
   "codemirror_mode": {
    "name": "ipython",
    "version": 3
   },
   "file_extension": ".py",
   "mimetype": "text/x-python",
   "name": "python",
   "nbconvert_exporter": "python",
   "pygments_lexer": "ipython3",
   "version": "3.12.0"
  }
 },
 "nbformat": 4,
 "nbformat_minor": 2
}
