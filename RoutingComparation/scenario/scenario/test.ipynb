{
 "cells": [
  {
   "cell_type": "code",
   "execution_count": 2,
   "metadata": {},
   "outputs": [],
   "source": [
    "import requests as rq\n",
    "import json"
   ]
  },
  {
   "cell_type": "code",
   "execution_count": 5,
   "metadata": {},
   "outputs": [],
   "source": [
    "# data = {\n",
    "#   \"hostname\": \"h1\",\n",
    "#   \"cmd\": 'pwd'\n",
    "# }\n",
    "# cmd = 'curl -X \"POST\" \"http://0.0.0.0:8001/upload_speed\" -H \"accept: application/json\" -H \"Content-Type: application/json\" -d \"{ \"ip\": \"10.0.0.2\", \"port\": 8001, \"size\": 100 }\"'\n",
    " \n",
    "#Khoi dong host ao\n",
    "datas = [\n",
    "  {\n",
    "    \"hostname\": \"h1\",\n",
    "    \"cmd\": '''\n",
    "            ../../venv11/bin/python3.11 \\\n",
    "            mn_app/simplehttpserver/http_file_transfer.py 0.0.0.0 8001\n",
    "            ''',\n",
    "    \"wait\": False\n",
    "  },\n",
    "  {\n",
    "    \"hostname\": \"h2\",\n",
    "    \"cmd\": '''\n",
    "            ../../venv11/bin/python3.11 \\\n",
    "            mn_app/simplehttpserver/http_file_transfer.py 0.0.0.0 8001 \\\n",
    "            ''',\n",
    "    \"wait\": False # De chay ngam\n",
    "  },\n",
    "]\n",
    "for data in datas:\n",
    "  rq.post('http://0.0.0.0:8000/run_xterm', data=json.dumps(data))\n",
    "  # rq.post('http://0.0.0.0:8000/run_popen', data=json.dumps(data))"
   ]
  },
  {
   "cell_type": "code",
   "execution_count": 6,
   "metadata": {},
   "outputs": [
    {
     "name": "stdout",
     "output_type": "stream",
     "text": [
      "{\"upload_speed\":-1}\n"
     ]
    }
   ],
   "source": [
    "cmd = \"\"\"curl -X 'POST' 'http://0.0.0.0:8001/upload_speed/' -H 'accept: application/json' -H 'Content-Type: application/json' -d '{\"ip\": \"10.0.0.2\", \"port\": 8001, \"size\": 50}'\"\"\"\n",
    "# cmd = \"\"\"curl -X 'POST' '0.0.0.0:8001/upload_speed/' -H 'accept: application/json' -H 'Content-Type: application/json' -d '{\"ip\": \"10.0.0.2\", \"port\": 8001, \"size\": 100}\"\"\"\n",
    "\n",
    "data  =  {\n",
    "    \"hostname\": \"h1\",\n",
    "    \"cmd\": cmd,\n",
    "    \"wait\": True\n",
    "}\n",
    "\n",
    "# rq.post('http://0.0.0.0:8000/run_cmd', data=json.dumps(data))\n",
    "\n",
    "print(rq.post('http://0.0.0.0:8000/run_popen', data=json.dumps(data)).json()['result'])\n",
    "\n",
    "# rq.post('http://0.0.0.0:8000/open_xterm', data=json.dumps(data))\n"
   ]
  },
  {
   "cell_type": "code",
   "execution_count": 53,
   "metadata": {},
   "outputs": [
    {
     "name": "stdout",
     "output_type": "stream",
     "text": [
      "  % Total    % Received % Xferd  Average Speed   Time    Time     Time  Current\n",
      "                                 Dload  Upload   Total   Spent    Left  Speed\n",
      "  0     0    0     0    0     0      0      0 --:--:-- --:--:-- --:--:--     0curl: (6) Could not resolve host: 'http\n",
      "  % Total    % Received % Xferd  Average Speed   Time    Time     Time  Current\n",
      "                                 Dload  Upload   Total   Spent    Left  Speed\n",
      "  0     0    0     0    0     0      0      0 --:--:-- --:--:-- --:--:--     0curl: (6) Could not resolve host: application\n",
      "  % Total    % Received % Xferd  Average Speed   Time    Time     Time  Current\n",
      "                                 Dload  Upload   Total   Spent    Left  Speed\n",
      "  0     0    0     0    0     0      0      0 --:--:-- --:--:-- --:--:--     0curl: (6) Could not resolve host: application\n",
      "  % Total    % Received % Xferd  Average Speed   Time    Time     Time  Current\n",
      "                                 Dload  Upload   Total   Spent    Left  Speed\n",
      "  0     0    0     0    0     0      0      0 --:--:-- --:--:-- --:--:--     0curl: (6) Could not resolve host: 10.0.0.2,\n",
      "  % Total    % Received % Xferd  Average Speed   Time    Time     Time  Current\n",
      "                                 Dload  Upload   Total   Spent    Left  Speed\n",
      "  0     0    0     0    0     0      0      0 --:--:-- --:--:-- --:--:--     0curl: (6) Could not resolve host: \"port\"\n",
      "  % Total    % Received % Xferd  Average Speed   Time    Time     Time  Current\n",
      "                                 Dload  Upload   Total   Spent    Left  Speed\n",
      "  0     0    0     0    0     0      0      0 --:--:-- --:--:-- --:--:--     0curl: (6) Could not resolve host: 8001,\n",
      "  % Total    % Received % Xferd  Average Speed   Time    Time     Time  Current\n",
      "                                 Dload  Upload   Total   Spent    Left  Speed\n",
      "  0     0    0     0    0     0      0      0 --:--:-- --:--:-- --:--:--     0curl: (6) Could not resolve host: \"size\"\n",
      "curl: (3) unmatched close brace/bracket in URL position 4:\n",
      "100}'\n",
      "   ^\n",
      "\n"
     ]
    }
   ],
   "source": [
    "# cmd = \"\"\"curl -X 'POST' \\\n",
    "# 'http://0.0.0.0:8001/upload_speed/' \\\n",
    "# -H 'accept: application/json' \\\n",
    "# -H 'Content-Type: application/json' -d '{\"ip\": \"10.0.0.2\", \"port\": 8001, \"size\": 100}'\"\"\"\n",
    "cmd = \"\"\"curl -X 'POST' 'http://0.0.0.0:8001/upload_speed/' -H 'accept: application/json' -H 'Content-Type: application/json' -d '{\"ip\": 10.0.0.2, \"port\": 8001, \"size\": 100}'\"\"\"\n",
    "# cmd = 'read -p \"123\"'\n",
    "data = {\n",
    "  \"hostname\": \"h1\",\n",
    "  \"cmd\": cmd,\n",
    "  \"wait\": True\n",
    "}\n",
    "# rq.post('http://0.0.0.0:8000/open_xterm', data=json.dumps(data))\n",
    "print(rq.post('http://0.0.0.0:8000/run_popen', data=json.dumps(data)).json()['error'])\n",
    "# a = json.dumps(\"\"\"curl -X 'POST' 'http://0.0.0.0:8001/upload_speed/' -H 'accept: application/json' -H 'Content-Type: application/json' -d '{\"ip\": \"10.0.0.2\", \"port\": 8001, \"size\": 100}'\"\"\")"
   ]
  },
  {
   "cell_type": "code",
   "execution_count": 54,
   "metadata": {},
   "outputs": [
    {
     "data": {
      "text/plain": [
       "'\"curl -X POST http://0.0.0.0:8001/upload_speed/ -H accept: application/json -H Content-Type: application/json -d {\"ip\": 10.0.0.2, \"port\": 8001, \"size\": 100}'"
      ]
     },
     "execution_count": 54,
     "metadata": {},
     "output_type": "execute_result"
    }
   ],
   "source": [
    "import re\n",
    "import subprocess\n",
    "cmd = \"\"\"curl -X 'POST' \\\n",
    "  'http://0.0.0.0:8001/upload_speed/' \\\n",
    "  -H 'accept: application/json' \\\n",
    "  -H 'Content-Type: application/json' \\\n",
    "  -d '{\"ip\": \"0.0.0.0\", \"port\": 8002, \"size\": 1\n",
    "}'\"\"\"\n",
    "cmd = \"\"\"\"curl -X 'POST' 'http://0.0.0.0:8001/upload_speed/' -H 'accept: application/json' -H 'Content-Type: application/json' -d '{\"ip\": 10.0.0.2, \"port\": 8001, \"size\": 100}'\"\"\"\n",
    "cmd_set = json.loads(json.dumps(cmd)).replace('\\'', '')\n",
    "re.sub(r\"\"\"\\\\|\\s\\s\\**\"\"\", '', cmd_set)\n",
    "# subprocess.Popen(cmd, stderr=subprocess.PIPE, stdout=subprocess.PIPE, shell=True).communicate()"
   ]
  },
  {
   "cell_type": "code",
   "execution_count": 77,
   "metadata": {},
   "outputs": [
    {
     "data": {
      "text/plain": [
       "(b'{\"upload_speed\":-1}',\n",
       " b'  % Total    % Received % Xferd  Average Speed   Time    Time     Time  Current\\n                                 Dload  Upload   Total   Spent    Left  Speed\\n\\r  0     0    0     0    0     0      0      0 --:--:-- --:--:-- --:--:--     0\\r100    61  100    19  100    42   4750  10500 --:--:-- --:--:-- --:--:-- 15250\\n')"
      ]
     },
     "execution_count": 77,
     "metadata": {},
     "output_type": "execute_result"
    }
   ],
   "source": [
    "import json, re\n",
    "import requests as rq\n",
    "\n",
    "cmd = \"\"\"curl -X 'POST' \\\n",
    "  'http://0.0.0.0:8001/upload_speed/' \\\n",
    "  -H 'accept: application/json' \\\n",
    "  -H 'Content-Type: application/json' \\\n",
    "  -d '{\"ip\": \"0.0.0.0\", \"port\": 8002, \"size\": 1\n",
    "}'\"\"\"\n",
    "\n",
    "data = {\n",
    "  \"hostname\": \"h1\",\n",
    "  \"cmd\": cmd,\n",
    "  \"wait\": True\n",
    "}\n",
    "\n",
    "cmd_json = json.loads(json.dumps(data))\n",
    "\n",
    "def command_sanitization_2(cmd: str):\n",
    "  # remove json format \n",
    "  cmd = re.sub(r'\\n|\\\\|\\s\\s\\**', '', cmd)\n",
    "  cmd = cmd.replace(r'\\\"', r'\\\"')\n",
    "  # cmd = cmd.replace(r'\"', r'\\\"')\n",
    "  # cmd \n",
    "  # convert char \" ' \" and \" \" \" into \\' and \\\"\n",
    "  return cmd\n",
    "command_sanitization_2(cmd_json[\"cmd\"])\n",
    "# print(command_sanitization_2(cmd_json[\"cmd\"]))\n",
    "subprocess.Popen(f'{command_sanitization_2(cmd_json[\"cmd\"])}', \n",
    "                 shell=True, stdout=subprocess.PIPE, stderr=subprocess.PIPE).communicate()\n",
    "\n",
    "# subprocess.Popen(f'xterm -e \"{command_sanitization_2(cmd_json[\"cmd\"])}; bash\" &', \n",
    "#                  shell=True, stdout=subprocess.PIPE, stderr=subprocess.PIPE)"
   ]
  },
  {
   "cell_type": "code",
   "execution_count": 6,
   "metadata": {},
   "outputs": [
    {
     "data": {
      "text/plain": [
       "(b'', b'')"
      ]
     },
     "execution_count": 6,
     "metadata": {},
     "output_type": "execute_result"
    }
   ],
   "source": [
    "import subprocess\n",
    "# cmd = \"\"\"curl -X \\'POST\\' \\'http://0.0.0.0:8001/upload_speed/\\' -H \\'accept: application/json\\' -H \\'Content-Type: application/json\\' -d \\'{\"ip\": \"0.0.0.0\", \"port\": 8002, \"size\": 1}\\'\"\"\"\n",
    "# subprocess.Popen(f'{cmd}; bash &', \n",
    "#                  shell=True, stdout=subprocess.PIPE, stderr=subprocess.PIPE).communicate()\n",
    "\n",
    "\n",
    "cmd = \"\"\"curl -X 'POST' 'http://0.0.0.0:8001/upload_speed/' -H 'accept: application/json' -H 'Content-Type: application/json' -d '{\\\\\"ip\\\\\": \\\\\"0.0.0.0\\\\\", \\\\\"port\\\\\": 8002, \\\\\"size\\\\\": 1}'\"\"\"\n",
    "subprocess.Popen(f'xterm -e \"{cmd}; bash\" &', \n",
    "                 shell=True, stdout=subprocess.PIPE, stderr=subprocess.PIPE).communicate()"
   ]
  },
  {
   "cell_type": "code",
   "execution_count": 159,
   "metadata": {},
   "outputs": [
    {
     "data": {
      "text/plain": [
       "'PING google.com (172.217.24.78) 56(84) bytes of data.\\n64 bytes from sin10s06-in-f14.1e100.net (172.217.24.78): icmp_seq=1 ttl=59 time=20.3 ms\\n64 bytes from sin10s06-in-f14.1e100.net (172.217.24.78): icmp_seq=2 ttl=59 time=20.2 ms\\n64 bytes from sin10s06-in-f14.1e100.net (172.217.24.78): icmp_seq=3 ttl=59 time=20.2 ms\\n\\n--- google.com ping statistics ---\\n3 packets transmitted, 3 received, 0% packet loss, time 2003ms\\nrtt min/avg/max/mdev = 20.170/20.226/20.285/0.046 ms\\n'"
      ]
     },
     "execution_count": 159,
     "metadata": {},
     "output_type": "execute_result"
    }
   ],
   "source": [
    "import subprocess\n",
    "\n",
    "dst_host = 'google.com'\n",
    "\n",
    "a = subprocess.Popen(f'ping {dst_host} -c 3',\n",
    "                     shell=True, stderr=subprocess.PIPE,\n",
    "                     stdout=subprocess.PIPE).communicate()\n",
    "a[0].decode('latin-1')"
   ]
  },
  {
   "cell_type": "code",
   "execution_count": 158,
   "metadata": {},
   "outputs": [
    {
     "name": "stdout",
     "output_type": "stream",
     "text": [
      "Packet Loss Percentage: 0\n",
      "Average RTT: 20.061 ms\n"
     ]
    }
   ],
   "source": [
    "import re\n",
    "\n",
    "output = 'PING google.com (172.217.24.78) 56(84) bytes of data.\\n64 bytes from sin10s06-in-f14.1e100.net (172.217.24.78): icmp_seq=1 ttl=59 time=20.1 ms\\n64 bytes from sin10s06-in-f14.1e100.net (172.217.24.78): icmp_seq=2 ttl=59 time=20.1 ms\\n64 bytes from sin10s06-in-f14.1e100.net (172.217.24.78): icmp_seq=3 ttl=59 time=20.3 ms\\n\\n--- google.com ping statistics ---\\n3 packets transmitted, 3 received, 0% packet loss, time 2003ms\\nrtt min/avg/max/mdev = 20.061/20.169/20.346/0.125 ms\\n'\n",
    "\n",
    "\n",
    "# Extract packet loss percentage\n",
    "packet_loss = re.search(r\"(\\d+)% packet loss\", output).group(1)\n",
    "print(\"Packet Loss Percentage:\", packet_loss)\n",
    "\n",
    "# Extract average RTT\n",
    "avg_rtt = re.search(r\"avg\\/max\\/mdev = (\\d+\\.\\d+)\", output).group(1)\n",
    "print(\"Average RTT:\", avg_rtt, \"ms\")"
   ]
  },
  {
   "cell_type": "code",
   "execution_count": 1,
   "metadata": {},
   "outputs": [
    {
     "data": {
      "text/plain": [
       "{'s2': ['h2', 'h2000', 's3'],\n",
       " 's3': ['h3', 'h3000', 's4'],\n",
       " 's4': ['h4', 'h4000', 's5'],\n",
       " 's5': ['h5', 'h5000']}"
      ]
     },
     "execution_count": 1,
     "metadata": {},
     "output_type": "execute_result"
    }
   ],
   "source": [
    "test = {'s2': ['h2', 'h2000', 's3'], 'h2': ['s2'], 'h2000': ['s2'], 's3': ['s2', 'h3', 'h3000', 's4'], 'h3': ['s3'], 'h3000': ['s3'], 's4': ['s3', 'h4', 'h4000', 's5'], 'h4': ['s4'], 'h4000': ['s4'], 's5': ['s4', 'h5', 'h5000'], 'h5': ['s5'], 'h5000': ['s5']}\n",
    "def gen_dict(dict): \n",
    "    key_list = dict.keys()\n",
    "    edge_list_visted = []\n",
    "    \n",
    "    filter_dict = {}\n",
    "    for key in key_list:\n",
    "        for item in dict[key]:\n",
    "            if ((item, key) not in edge_list_visted) and ((key, item) not in edge_list_visted):\n",
    "                edge_list_visted.append((key, item))\n",
    "                if key not in filter_dict.keys():\n",
    "                    filter_dict[key] = [item]\n",
    "                else:\n",
    "                    filter_dict[key].append(item)\n",
    "    return filter_dict\n",
    "gen_dict(test)"
   ]
  }
 ],
 "metadata": {
  "kernelspec": {
   "display_name": "venv11",
   "language": "python",
   "name": "python3"
  },
  "language_info": {
   "codemirror_mode": {
    "name": "ipython",
    "version": 3
   },
   "file_extension": ".py",
   "mimetype": "text/x-python",
   "name": "python",
   "nbconvert_exporter": "python",
   "pygments_lexer": "ipython3",
   "version": "3.11.4"
  },
  "orig_nbformat": 4
 },
 "nbformat": 4,
 "nbformat_minor": 2
}
