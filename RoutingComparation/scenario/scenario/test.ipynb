{
 "cells": [
  {
   "cell_type": "code",
   "execution_count": 59,
   "metadata": {},
   "outputs": [],
   "source": [
    "import requests as rq\n",
    "import json"
   ]
  },
  {
   "cell_type": "code",
   "execution_count": 139,
   "metadata": {},
   "outputs": [],
   "source": [
    "# data = {\n",
    "#   \"hostname\": \"h1\",\n",
    "#   \"cmd\": 'pwd'\n",
    "# }\n",
    "# cmd = 'curl -X \"POST\" \"http://0.0.0.0:8001/upload_speed\" -H \"accept: application/json\" -H \"Content-Type: application/json\" -d \"{ \"ip\": \"10.0.0.2\", \"port\": 8001, \"size\": 100 }\"'\n",
    "\n",
    "datas = [\n",
    "  {\n",
    "    \"hostname\": \"h1\",\n",
    "    \"cmd\": '''\n",
    "            ../../venv11/bin/python3.11 \\\n",
    "            mn_app/simplehttpserver/http_file_transfer.py 0.0.0.0 8001\n",
    "            '''\n",
    "  },\n",
    "  {\n",
    "    \"hostname\": \"h2\",\n",
    "    \"cmd\": '''\n",
    "            ../../venv11/bin/python3.11 \\\n",
    "            mn_app/simplehttpserver/http_file_transfer.py 0.0.0.0 8001 \\\n",
    "            '''\n",
    "  },\n",
    "]\n",
    "for data in datas:\n",
    "  rq.post('http://0.0.0.0:8000/open_xterm', data=json.dumps(data))"
   ]
  },
  {
   "cell_type": "code",
   "execution_count": 144,
   "metadata": {},
   "outputs": [
    {
     "data": {
      "text/plain": [
       "<Response [200]>"
      ]
     },
     "execution_count": 144,
     "metadata": {},
     "output_type": "execute_result"
    }
   ],
   "source": [
    "cmd = \"\"\"curl -X 'POST' 'http://0.0.0.0:8001/upload_speed/' -H 'accept: application/json' -H 'Content-Type: application/json' -d '{\"ip\": \"10.0.0.2\", \"port\": 8001, \"size\": 100}'\"\"\"\n",
    "# cmd = \"\"\"curl -X 'POST' '0.0.0.0:8001/upload_speed/' -H 'accept: application/json' -H 'Content-Type: application/json' -d '{\"ip\": \"10.0.0.2\", \"port\": 8001, \"size\": 100}\"\"\"\n",
    "\n",
    "data  =  {\n",
    "    \"hostname\": \"h1\",\n",
    "    \"cmd\": cmd,\n",
    "    \"wait\": True\n",
    "}\n",
    "rq.post('http://0.0.0.0:8000/run_cmd', data=json.dumps(data))\n",
    "# print(\n",
    "#     rq.post('http://0.0.0.0:8000/run_popen', data=json.dumps(data)).json()['error'])\n",
    "#     # rq.post('http://0.0.0.0:8000/run_popen', data=json.dumps(data)).json()['result'])\n",
    "\n",
    "\n",
    "# rq.post('http://0.0.0.0:8000/open_xterm', data=json.dumps(data))\n"
   ]
  },
  {
   "cell_type": "code",
   "execution_count": 53,
   "metadata": {},
   "outputs": [
    {
     "name": "stdout",
     "output_type": "stream",
     "text": [
      "  % Total    % Received % Xferd  Average Speed   Time    Time     Time  Current\n",
      "                                 Dload  Upload   Total   Spent    Left  Speed\n",
      "  0     0    0     0    0     0      0      0 --:--:-- --:--:-- --:--:--     0curl: (6) Could not resolve host: 'http\n",
      "  % Total    % Received % Xferd  Average Speed   Time    Time     Time  Current\n",
      "                                 Dload  Upload   Total   Spent    Left  Speed\n",
      "  0     0    0     0    0     0      0      0 --:--:-- --:--:-- --:--:--     0curl: (6) Could not resolve host: application\n",
      "  % Total    % Received % Xferd  Average Speed   Time    Time     Time  Current\n",
      "                                 Dload  Upload   Total   Spent    Left  Speed\n",
      "  0     0    0     0    0     0      0      0 --:--:-- --:--:-- --:--:--     0curl: (6) Could not resolve host: application\n",
      "  % Total    % Received % Xferd  Average Speed   Time    Time     Time  Current\n",
      "                                 Dload  Upload   Total   Spent    Left  Speed\n",
      "  0     0    0     0    0     0      0      0 --:--:-- --:--:-- --:--:--     0curl: (6) Could not resolve host: 10.0.0.2,\n",
      "  % Total    % Received % Xferd  Average Speed   Time    Time     Time  Current\n",
      "                                 Dload  Upload   Total   Spent    Left  Speed\n",
      "  0     0    0     0    0     0      0      0 --:--:-- --:--:-- --:--:--     0curl: (6) Could not resolve host: \"port\"\n",
      "  % Total    % Received % Xferd  Average Speed   Time    Time     Time  Current\n",
      "                                 Dload  Upload   Total   Spent    Left  Speed\n",
      "  0     0    0     0    0     0      0      0 --:--:-- --:--:-- --:--:--     0curl: (6) Could not resolve host: 8001,\n",
      "  % Total    % Received % Xferd  Average Speed   Time    Time     Time  Current\n",
      "                                 Dload  Upload   Total   Spent    Left  Speed\n",
      "  0     0    0     0    0     0      0      0 --:--:-- --:--:-- --:--:--     0curl: (6) Could not resolve host: \"size\"\n",
      "curl: (3) unmatched close brace/bracket in URL position 4:\n",
      "100}'\n",
      "   ^\n",
      "\n"
     ]
    }
   ],
   "source": [
    "# cmd = \"\"\"curl -X 'POST' \\\n",
    "# 'http://0.0.0.0:8001/upload_speed/' \\\n",
    "# -H 'accept: application/json' \\\n",
    "# -H 'Content-Type: application/json' -d '{\"ip\": \"10.0.0.2\", \"port\": 8001, \"size\": 100}'\"\"\"\n",
    "cmd = \"\"\"curl -X 'POST' 'http://0.0.0.0:8001/upload_speed/' -H 'accept: application/json' -H 'Content-Type: application/json' -d '{\"ip\": 10.0.0.2, \"port\": 8001, \"size\": 100}'\"\"\"\n",
    "# cmd = 'read -p \"123\"'\n",
    "data = {\n",
    "  \"hostname\": \"h1\",\n",
    "  \"cmd\": cmd,\n",
    "  \"wait\": True\n",
    "}\n",
    "# rq.post('http://0.0.0.0:8000/open_xterm', data=json.dumps(data))\n",
    "print(rq.post('http://0.0.0.0:8000/run_popen', data=json.dumps(data)).json()['error'])\n",
    "# a = json.dumps(\"\"\"curl -X 'POST' 'http://0.0.0.0:8001/upload_speed/' -H 'accept: application/json' -H 'Content-Type: application/json' -d '{\"ip\": \"10.0.0.2\", \"port\": 8001, \"size\": 100}'\"\"\")"
   ]
  },
  {
   "cell_type": "code",
   "execution_count": 54,
   "metadata": {},
   "outputs": [
    {
     "data": {
      "text/plain": [
       "'\"curl -X POST http://0.0.0.0:8001/upload_speed/ -H accept: application/json -H Content-Type: application/json -d {\"ip\": 10.0.0.2, \"port\": 8001, \"size\": 100}'"
      ]
     },
     "execution_count": 54,
     "metadata": {},
     "output_type": "execute_result"
    }
   ],
   "source": [
    "import re\n",
    "import subprocess\n",
    "cmd = \"\"\"curl -X 'POST' \\\n",
    "  'http://0.0.0.0:8001/upload_speed/' \\\n",
    "  -H 'accept: application/json' \\\n",
    "  -H 'Content-Type: application/json' \\\n",
    "  -d '{\"ip\": \"0.0.0.0\", \"port\": 8002, \"size\": 1\n",
    "}'\"\"\"\n",
    "cmd = \"\"\"\"curl -X 'POST' 'http://0.0.0.0:8001/upload_speed/' -H 'accept: application/json' -H 'Content-Type: application/json' -d '{\"ip\": 10.0.0.2, \"port\": 8001, \"size\": 100}'\"\"\"\n",
    "cmd_set = json.loads(json.dumps(cmd)).replace('\\'', '')\n",
    "re.sub(r\"\"\"\\\\|\\s\\s\\**\"\"\", '', cmd_set)\n",
    "# subprocess.Popen(cmd, stderr=subprocess.PIPE, stdout=subprocess.PIPE, shell=True).communicate()"
   ]
  },
  {
   "cell_type": "code",
   "execution_count": 77,
   "metadata": {},
   "outputs": [
    {
     "data": {
      "text/plain": [
       "(b'{\"upload_speed\":-1}',\n",
       " b'  % Total    % Received % Xferd  Average Speed   Time    Time     Time  Current\\n                                 Dload  Upload   Total   Spent    Left  Speed\\n\\r  0     0    0     0    0     0      0      0 --:--:-- --:--:-- --:--:--     0\\r100    61  100    19  100    42   4750  10500 --:--:-- --:--:-- --:--:-- 15250\\n')"
      ]
     },
     "execution_count": 77,
     "metadata": {},
     "output_type": "execute_result"
    }
   ],
   "source": [
    "import json, re\n",
    "import requests as rq\n",
    "\n",
    "cmd = \"\"\"curl -X 'POST' \\\n",
    "  'http://0.0.0.0:8001/upload_speed/' \\\n",
    "  -H 'accept: application/json' \\\n",
    "  -H 'Content-Type: application/json' \\\n",
    "  -d '{\"ip\": \"0.0.0.0\", \"port\": 8002, \"size\": 1\n",
    "}'\"\"\"\n",
    "\n",
    "data = {\n",
    "  \"hostname\": \"h1\",\n",
    "  \"cmd\": cmd,\n",
    "  \"wait\": True\n",
    "}\n",
    "\n",
    "cmd_json = json.loads(json.dumps(data))\n",
    "\n",
    "def command_sanitization_2(cmd: str):\n",
    "  # remove json format \n",
    "  cmd = re.sub(r'\\n|\\\\|\\s\\s\\**', '', cmd)\n",
    "  cmd = cmd.replace(r'\\\"', r'\\\"')\n",
    "  # cmd = cmd.replace(r'\"', r'\\\"')\n",
    "  # cmd \n",
    "  # convert char \" ' \" and \" \" \" into \\' and \\\"\n",
    "  return cmd\n",
    "command_sanitization_2(cmd_json[\"cmd\"])\n",
    "# print(command_sanitization_2(cmd_json[\"cmd\"]))\n",
    "subprocess.Popen(f'{command_sanitization_2(cmd_json[\"cmd\"])}', \n",
    "                 shell=True, stdout=subprocess.PIPE, stderr=subprocess.PIPE).communicate()\n",
    "\n",
    "# subprocess.Popen(f'xterm -e \"{command_sanitization_2(cmd_json[\"cmd\"])}; bash\" &', \n",
    "#                  shell=True, stdout=subprocess.PIPE, stderr=subprocess.PIPE)"
   ]
  },
  {
   "cell_type": "code",
   "execution_count": 6,
   "metadata": {},
   "outputs": [
    {
     "data": {
      "text/plain": [
       "(b'', b'')"
      ]
     },
     "execution_count": 6,
     "metadata": {},
     "output_type": "execute_result"
    }
   ],
   "source": [
    "import subprocess\n",
    "# cmd = \"\"\"curl -X \\'POST\\' \\'http://0.0.0.0:8001/upload_speed/\\' -H \\'accept: application/json\\' -H \\'Content-Type: application/json\\' -d \\'{\"ip\": \"0.0.0.0\", \"port\": 8002, \"size\": 1}\\'\"\"\"\n",
    "# subprocess.Popen(f'{cmd}; bash &', \n",
    "#                  shell=True, stdout=subprocess.PIPE, stderr=subprocess.PIPE).communicate()\n",
    "\n",
    "\n",
    "cmd = \"\"\"curl -X 'POST' 'http://0.0.0.0:8001/upload_speed/' -H 'accept: application/json' -H 'Content-Type: application/json' -d '{\\\\\"ip\\\\\": \\\\\"0.0.0.0\\\\\", \\\\\"port\\\\\": 8002, \\\\\"size\\\\\": 1}'\"\"\"\n",
    "subprocess.Popen(f'xterm -e \"{cmd}; bash\" &', \n",
    "                 shell=True, stdout=subprocess.PIPE, stderr=subprocess.PIPE).communicate()"
   ]
  }
 ],
 "metadata": {
  "kernelspec": {
   "display_name": "venv11",
   "language": "python",
   "name": "python3"
  },
  "language_info": {
   "codemirror_mode": {
    "name": "ipython",
    "version": 3
   },
   "file_extension": ".py",
   "mimetype": "text/x-python",
   "name": "python",
   "nbconvert_exporter": "python",
   "pygments_lexer": "ipython3",
   "version": "3.11.4"
  },
  "orig_nbformat": 4
 },
 "nbformat": 4,
 "nbformat_minor": 2
}
