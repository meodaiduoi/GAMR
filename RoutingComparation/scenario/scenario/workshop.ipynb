{
 "cells": [
  {
   "cell_type": "code",
   "execution_count": 5,
   "metadata": {},
   "outputs": [
    {
     "name": "stdout",
     "output_type": "stream",
     "text": [
      "00:00:00:00:00:02\n"
     ]
    }
   ],
   "source": [
    "def int_to_mac(num):\n",
    "    mac = ':'.join(format((num >> i) & 0xFF, '02x') for i in (40, 32, 24, 16, 8, 0))\n",
    "    return mac\n",
    "\n",
    "# Example usage\n",
    "number = 2\n",
    "mac_address = int_to_mac(number)\n",
    "print(mac_address)"
   ]
  },
  {
   "cell_type": "code",
   "execution_count": 8,
   "metadata": {},
   "outputs": [
    {
     "data": {
      "text/plain": [
       "[{'mac': 'aa:4a:27:76:4d:a1',\n",
       "  'ipv4': [],\n",
       "  'ipv6': ['::', 'fe80::a84a:27ff:fe76:4da1'],\n",
       "  'port': {'dpid': '0000000000000003',\n",
       "   'port_no': '00000002',\n",
       "   'hw_addr': '46:be:ed:a0:7f:0a',\n",
       "   'name': 's3-eth2'}},\n",
       " {'mac': '00:00:00:00:00:03',\n",
       "  'ipv4': ['10.0.0.3'],\n",
       "  'ipv6': ['::', 'fe80::200:ff:fe00:3'],\n",
       "  'port': {'dpid': '0000000000000003',\n",
       "   'port_no': '00000001',\n",
       "   'hw_addr': 'ea:17:65:7d:5f:13',\n",
       "   'name': 's3-eth1'}},\n",
       " {'mac': 'a2:67:7a:9b:1e:56',\n",
       "  'ipv4': [],\n",
       "  'ipv6': ['::', 'fe80::a067:7aff:fe9b:1e56'],\n",
       "  'port': {'dpid': '0000000000000002',\n",
       "   'port_no': '00000002',\n",
       "   'hw_addr': 'e6:05:26:86:06:1e',\n",
       "   'name': 's2-eth2'}},\n",
       " {'mac': 'a2:f8:cf:ad:69:eb',\n",
       "  'ipv4': [],\n",
       "  'ipv6': ['::', 'fe80::a0f8:cfff:fead:69eb'],\n",
       "  'port': {'dpid': '0000000000000004',\n",
       "   'port_no': '00000002',\n",
       "   'hw_addr': 'ee:27:2f:8c:08:58',\n",
       "   'name': 's4-eth2'}},\n",
       " {'mac': '00:00:00:00:00:01',\n",
       "  'ipv4': ['10.0.0.1'],\n",
       "  'ipv6': ['fe80::200:ff:fe00:1'],\n",
       "  'port': {'dpid': '0000000000000001',\n",
       "   'port_no': '00000001',\n",
       "   'hw_addr': 'ba:9d:9f:32:b5:87',\n",
       "   'name': 's1-eth1'}},\n",
       " {'mac': '12:1b:0a:6a:b0:b3',\n",
       "  'ipv4': [],\n",
       "  'ipv6': ['fe80::101b:aff:fe6a:b0b3'],\n",
       "  'port': {'dpid': '0000000000000001',\n",
       "   'port_no': '00000003',\n",
       "   'hw_addr': 'e2:9e:5f:40:a1:eb',\n",
       "   'name': 's1-eth3'}},\n",
       " {'mac': '4e:8a:1f:8a:37:5b',\n",
       "  'ipv4': [],\n",
       "  'ipv6': ['fe80::4c8a:1fff:fe8a:375b'],\n",
       "  'port': {'dpid': '0000000000000002',\n",
       "   'port_no': '00000006',\n",
       "   'hw_addr': 'be:9c:15:d1:bc:19',\n",
       "   'name': 's2-eth6'}},\n",
       " {'mac': '42:4e:08:91:1a:78',\n",
       "  'ipv4': [],\n",
       "  'ipv6': ['fe80::404e:8ff:fe91:1a78'],\n",
       "  'port': {'dpid': '0000000000000002',\n",
       "   'port_no': '00000007',\n",
       "   'hw_addr': '6a:b2:84:b3:09:09',\n",
       "   'name': 's2-eth7'}},\n",
       " {'mac': '26:27:07:cc:f2:6e',\n",
       "  'ipv4': [],\n",
       "  'ipv6': ['fe80::2427:7ff:fecc:f26e'],\n",
       "  'port': {'dpid': '0000000000000001',\n",
       "   'port_no': '00000004',\n",
       "   'hw_addr': '36:ef:18:01:1c:1a',\n",
       "   'name': 's1-eth4'}},\n",
       " {'mac': 'a2:50:7d:0c:0d:2f',\n",
       "  'ipv4': [],\n",
       "  'ipv6': ['fe80::a050:7dff:fe0c:d2f'],\n",
       "  'port': {'dpid': '0000000000000004',\n",
       "   'port_no': '00000003',\n",
       "   'hw_addr': 'a2:90:a5:10:70:6a',\n",
       "   'name': 's4-eth3'}},\n",
       " {'mac': '9a:70:b9:1d:1b:6d',\n",
       "  'ipv4': [],\n",
       "  'ipv6': ['fe80::9870:b9ff:fe1d:1b6d'],\n",
       "  'port': {'dpid': '0000000000000001',\n",
       "   'port_no': '00000002',\n",
       "   'hw_addr': 'ce:8a:df:79:68:83',\n",
       "   'name': 's1-eth2'}},\n",
       " {'mac': '00:00:00:00:00:02',\n",
       "  'ipv4': ['10.0.0.2'],\n",
       "  'ipv6': ['fe80::200:ff:fe00:2'],\n",
       "  'port': {'dpid': '0000000000000002',\n",
       "   'port_no': '00000001',\n",
       "   'hw_addr': 'e6:44:3f:cc:17:bf',\n",
       "   'name': 's2-eth1'}},\n",
       " {'mac': '00:00:00:00:00:04',\n",
       "  'ipv4': ['10.0.0.4'],\n",
       "  'ipv6': ['fe80::200:ff:fe00:4'],\n",
       "  'port': {'dpid': '0000000000000004',\n",
       "   'port_no': '00000001',\n",
       "   'hw_addr': '32:0c:78:4f:d8:34',\n",
       "   'name': 's4-eth1'}}]"
      ]
     },
     "execution_count": 8,
     "metadata": {},
     "output_type": "execute_result"
    }
   ],
   "source": [
    "import requests as rq\n",
    "hosts = rq.get('http://0.0.0.0:8080/hosts').json()\n",
    "\n",
    "hosts['hosts']"
   ]
  },
  {
   "cell_type": "code",
   "execution_count": 10,
   "metadata": {},
   "outputs": [
    {
     "data": {
      "text/plain": [
       "[{'mac': '00:00:00:00:00:03',\n",
       "  'ipv4': ['10.0.0.3'],\n",
       "  'ipv6': ['::', 'fe80::200:ff:fe00:3'],\n",
       "  'port': {'dpid': '0000000000000003',\n",
       "   'port_no': '00000001',\n",
       "   'hw_addr': 'ea:17:65:7d:5f:13',\n",
       "   'name': 's3-eth1'}}]"
      ]
     },
     "execution_count": 10,
     "metadata": {},
     "output_type": "execute_result"
    }
   ],
   "source": [
    "data = [{'mac': 'aa:4a:27:76:4d:a1',\n",
    "         'ipv4': [],\n",
    "         'ipv6': ['::', 'fe80::a84a:27ff:fe76:4da1'],\n",
    "         'port': {'dpid': '0000000000000003',\n",
    "                  'port_no': '00000002',\n",
    "                  'hw_addr': '46:be:ed:a0:7f:0a',\n",
    "                  'name': 's3-eth2'}},\n",
    "        {'mac': '00:00:00:00:00:03',\n",
    "         'ipv4': ['10.0.0.3'],\n",
    "         'ipv6': ['::', 'fe80::200:ff:fe00:3'],\n",
    "         'port': {'dpid': '0000000000000003',\n",
    "                  'port_no': '00000001',\n",
    "                  'hw_addr': 'ea:17:65:7d:5f:13',\n",
    "                  'name': 's3-eth1'}}]\n",
    "\n",
    "data = [item for item in data if item['ipv4']]\n",
    "data"
   ]
  }
 ],
 "metadata": {
  "kernelspec": {
   "display_name": "venv11",
   "language": "python",
   "name": "python3"
  },
  "language_info": {
   "codemirror_mode": {
    "name": "ipython",
    "version": 3
   },
   "file_extension": ".py",
   "mimetype": "text/x-python",
   "name": "python",
   "nbconvert_exporter": "python",
   "pygments_lexer": "ipython3",
   "version": "3.11.4"
  },
  "orig_nbformat": 4
 },
 "nbformat": 4,
 "nbformat_minor": 2
}
