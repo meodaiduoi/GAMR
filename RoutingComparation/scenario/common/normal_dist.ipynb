{
 "cells": [
  {
   "cell_type": "code",
   "execution_count": 13,
   "metadata": {},
   "outputs": [
    {
     "name": "stdout",
     "output_type": "stream",
     "text": [
      "Loss: 0.14153466689745278\n",
      "Delay: 10.119633805648512\n",
      "Bandwidth: 88.22177015999583\n"
     ]
    }
   ],
   "source": [
    "import numpy as np\n",
    "\n",
    "def generate_link_params(mean, std_dev, round=2):\n",
    "    return round(np.random.normal(mean, std_dev))\n",
    "\n",
    "# Example usage\n",
    "loss = generate_link_params(0.1, 0.02)  # Mean: 0.1, Standard Deviation: 0.02\n",
    "delay = generate_link_params(10, 2)  # Mean: 10, Standard Deviation: 2\n",
    "bandwidth = generate_link_params(100, 20)  # Mean: 100, Standard Deviation: 20\n",
    "\n",
    "print(\"Loss:\", loss)\n",
    "print(\"Delay:\", delay)\n",
    "print(\"Bandwidth:\", bandwidth)"
   ]
  },
  {
   "cell_type": "code",
   "execution_count": 99,
   "metadata": {},
   "outputs": [
    {
     "name": "stdout",
     "output_type": "stream",
     "text": [
      "Loss: 0.10301375708888709\n",
      "Delay: 8.799445744617463\n",
      "Bandwidth: 101.35812206587859\n"
     ]
    }
   ],
   "source": [
    "import numpy as np\n",
    "\n",
    "def generate_link_params(mean, std_dev):\n",
    "    return np.random.normal(mean, std_dev)\n",
    "\n",
    "# Example usage\n",
    "loss = generate_link_params(0.1, 0.02)  # Mean: 0.1, Standard Deviation: 0.02\n",
    "delay = generate_link_params(10, 2)  # Mean: 10, Standard Deviation: 2\n",
    "bandwidth = generate_link_params(100, 20)  # Mean: 100, Standard Deviation: 20\n",
    "\n",
    "print(\"Loss:\", loss)\n",
    "print(\"Delay:\", delay)\n",
    "print(\"Bandwidth:\", bandwidth)"
   ]
  },
  {
   "cell_type": "code",
   "execution_count": 2,
   "metadata": {},
   "outputs": [
    {
     "name": "stdout",
     "output_type": "stream",
     "text": [
      "[-1.29029023  0.69083903  1.28016065  1.15173294 -0.61873964]\n"
     ]
    }
   ],
   "source": [
    "import numpy as np\n",
    "\n",
    "def generate_normal_distribution(numbers, mean, std_dev):\n",
    "    return np.random.normal(mean, std_dev, size=len(numbers))\n",
    "\n",
    "# Example usage\n",
    "numbers = [1, 2, 3, 4, 5]\n",
    "mean = 0\n",
    "std_dev = 1\n",
    "\n",
    "result = generate_normal_distribution(numbers, mean, std_dev)\n",
    "print(result)"
   ]
  },
  {
   "cell_type": "code",
   "execution_count": 164,
   "metadata": {},
   "outputs": [
    {
     "data": {
      "text/plain": [
       "2"
      ]
     },
     "execution_count": 164,
     "metadata": {},
     "output_type": "execute_result"
    }
   ],
   "source": [
    "np.random.choice([0, 1, 2, 4, 5, 7],\n",
    "                 p=[0.37, 0.23, 0.15, 0.12, 0.08, 0.05])"
   ]
  },
  {
   "cell_type": "code",
   "execution_count": 283,
   "metadata": {},
   "outputs": [
    {
     "data": {
      "text/plain": [
       "34"
      ]
     },
     "execution_count": 283,
     "metadata": {},
     "output_type": "execute_result"
    }
   ],
   "source": [
    "from random import normalvariate\n",
    "def normdist_array_genparam(numbers, mean=None, stddev=None):\n",
    "    if mean is None:\n",
    "        # if mean is not specified, use center of list\n",
    "        mean = (len(numbers) - 1) / 2\n",
    "\n",
    "    if stddev is None:\n",
    "        # if stddev is not specified, let list be -3 .. +3 standard deviations\n",
    "        stddev = len(numbers) / 6\n",
    "\n",
    "    while True:\n",
    "        index = int(normalvariate(mean, stddev) + 0.5)\n",
    "        if 0 <= index < len(numbers):\n",
    "            return numbers[index]\n",
    "\n",
    "normdist_array_genparam(range(5, 50))"
   ]
  }
 ],
 "metadata": {
  "kernelspec": {
   "display_name": "venv11",
   "language": "python",
   "name": "python3"
  },
  "language_info": {
   "codemirror_mode": {
    "name": "ipython",
    "version": 3
   },
   "file_extension": ".py",
   "mimetype": "text/x-python",
   "name": "python",
   "nbconvert_exporter": "python",
   "pygments_lexer": "ipython3",
   "version": "3.11.4"
  },
  "orig_nbformat": 4
 },
 "nbformat": 4,
 "nbformat_minor": 2
}
