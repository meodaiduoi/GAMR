{
 "cells": [
  {
   "cell_type": "code",
   "execution_count": 2,
   "metadata": {},
   "outputs": [
    {
     "ename": "AttributeError",
     "evalue": "'NoneType' object has no attribute 'get'",
     "output_type": "error",
     "traceback": [
      "\u001b[0;31m---------------------------------------------------------------------------\u001b[0m",
      "\u001b[0;31mAttributeError\u001b[0m                            Traceback (most recent call last)",
      "Cell \u001b[0;32mIn[2], line 46\u001b[0m\n\u001b[1;32m     34\u001b[0m         link_quality\u001b[39m.\u001b[39mappend({\n\u001b[1;32m     35\u001b[0m             \u001b[39m'\u001b[39m\u001b[39msrc.dpid\u001b[39m\u001b[39m'\u001b[39m: key[\u001b[39m0\u001b[39m],\n\u001b[1;32m     36\u001b[0m             \u001b[39m'\u001b[39m\u001b[39mdst.dpid\u001b[39m\u001b[39m'\u001b[39m: key[\u001b[39m1\u001b[39m],\n\u001b[0;32m   (...)\u001b[0m\n\u001b[1;32m     41\u001b[0m             \u001b[39m'\u001b[39m\u001b[39mlink_utilization\u001b[39m\u001b[39m'\u001b[39m: lqc_value\u001b[39m.\u001b[39mget(\u001b[39m'\u001b[39m\u001b[39mlink_usage\u001b[39m\u001b[39m'\u001b[39m, \u001b[39m0\u001b[39m) \u001b[39m/\u001b[39m lqm_value\u001b[39m.\u001b[39mget(\u001b[39m'\u001b[39m\u001b[39mbandwidth\u001b[39m\u001b[39m'\u001b[39m, \u001b[39m1\u001b[39m) \u001b[39m*\u001b[39m \u001b[39m100\u001b[39m,\n\u001b[1;32m     42\u001b[0m         })\n\u001b[1;32m     44\u001b[0m     \u001b[39mreturn\u001b[39;00m link_quality\n\u001b[0;32m---> 46\u001b[0m get_link_quality()\n",
      "Cell \u001b[0;32mIn[2], line 37\u001b[0m, in \u001b[0;36mget_link_quality\u001b[0;34m()\u001b[0m\n\u001b[1;32m     32\u001b[0m     lps_value \u001b[39m=\u001b[39m lps_hmap\u001b[39m.\u001b[39mget(key)\n\u001b[1;32m     33\u001b[0m     \u001b[39mif\u001b[39;00m lqm_value \u001b[39m==\u001b[39m \u001b[39mNone\u001b[39;00m: \u001b[39mcontinue\u001b[39;00m  \n\u001b[1;32m     34\u001b[0m     link_quality\u001b[39m.\u001b[39mappend({\n\u001b[1;32m     35\u001b[0m         \u001b[39m'\u001b[39m\u001b[39msrc.dpid\u001b[39m\u001b[39m'\u001b[39m: key[\u001b[39m0\u001b[39m],\n\u001b[1;32m     36\u001b[0m         \u001b[39m'\u001b[39m\u001b[39mdst.dpid\u001b[39m\u001b[39m'\u001b[39m: key[\u001b[39m1\u001b[39m],\n\u001b[0;32m---> 37\u001b[0m         \u001b[39m'\u001b[39m\u001b[39mpacket_loss\u001b[39m\u001b[39m'\u001b[39m: lps_value\u001b[39m.\u001b[39;49mget(\u001b[39m'\u001b[39m\u001b[39mpacket_loss\u001b[39m\u001b[39m'\u001b[39m, \u001b[39mNone\u001b[39;00m),\n\u001b[1;32m     38\u001b[0m         \u001b[39m'\u001b[39m\u001b[39mdelay\u001b[39m\u001b[39m'\u001b[39m: lps_value\u001b[39m.\u001b[39mget(\u001b[39m'\u001b[39m\u001b[39mdelay\u001b[39m\u001b[39m'\u001b[39m, \u001b[39mNone\u001b[39;00m),\n\u001b[1;32m     39\u001b[0m         \u001b[39m'\u001b[39m\u001b[39mbandwidth\u001b[39m\u001b[39m'\u001b[39m: lqm_value\u001b[39m.\u001b[39mget(\u001b[39m'\u001b[39m\u001b[39mbandwidth\u001b[39m\u001b[39m'\u001b[39m, \u001b[39m1\u001b[39m),\n\u001b[1;32m     40\u001b[0m         \u001b[39m'\u001b[39m\u001b[39mlink_usage\u001b[39m\u001b[39m'\u001b[39m: lqc_value\u001b[39m.\u001b[39mget(\u001b[39m'\u001b[39m\u001b[39mlink_usage\u001b[39m\u001b[39m'\u001b[39m, \u001b[39m0\u001b[39m),\n\u001b[1;32m     41\u001b[0m         \u001b[39m'\u001b[39m\u001b[39mlink_utilization\u001b[39m\u001b[39m'\u001b[39m: lqc_value\u001b[39m.\u001b[39mget(\u001b[39m'\u001b[39m\u001b[39mlink_usage\u001b[39m\u001b[39m'\u001b[39m, \u001b[39m0\u001b[39m) \u001b[39m/\u001b[39m lqm_value\u001b[39m.\u001b[39mget(\u001b[39m'\u001b[39m\u001b[39mbandwidth\u001b[39m\u001b[39m'\u001b[39m, \u001b[39m1\u001b[39m) \u001b[39m*\u001b[39m \u001b[39m100\u001b[39m,\n\u001b[1;32m     42\u001b[0m     })\n\u001b[1;32m     44\u001b[0m \u001b[39mreturn\u001b[39;00m link_quality\n",
      "\u001b[0;31mAttributeError\u001b[0m: 'NoneType' object has no attribute 'get'"
     ]
    }
   ],
   "source": [
    "import requests as rq\n",
    "def get_link_quality():\n",
    "    '''\n",
    "        Get from data from /link_quality\n",
    "        currently working as a workaround \n",
    "        for link utilization\n",
    "    '''\n",
    "\n",
    "    link_quality_controller = rq.get('http://0.0.0.0:8080/link_quality').json()\n",
    "    link_quality_mininet = rq.get('http://0.0.0.0:8000/link_quality').json()\n",
    "    link_ping_stat = rq.get('http://0.0.0.0:8000/link_ping_stat').json()\n",
    "    \n",
    "    lqc_hmap = {}\n",
    "    lqm_hmap = {}\n",
    "    lps_hmap = {}\n",
    "    \n",
    "    for d in link_quality_controller:\n",
    "        key = (d['src.dpid'], d['dst.dpid'])\n",
    "        lqc_hmap[key] = d\n",
    "\n",
    "    for d in link_quality_mininet:\n",
    "        key = (d['src.dpid'], d['dst.dpid'])\n",
    "        lqm_hmap[key] = d\n",
    "    \n",
    "    for d in link_ping_stat:\n",
    "        key = (d['src.host'], d['dst.host'])\n",
    "        lps_hmap[key] = d\n",
    "\n",
    "    link_quality = []\n",
    "    for key, lqc_value in lqc_hmap.items():\n",
    "        lqm_value = lqm_hmap.get(key)\n",
    "        lps_value = lps_hmap.get(key)\n",
    "        if lqm_value == None: continue  \n",
    "        link_quality.append({\n",
    "            'src.dpid': key[0],\n",
    "            'dst.dpid': key[1],\n",
    "            'packet_loss': lps_value.get('packet_loss', None),\n",
    "            'delay': lps_value.get('delay', None),\n",
    "            'bandwidth': lqm_value.get('bandwidth', 1),\n",
    "            'link_usage': lqc_value.get('link_usage', 0),\n",
    "            'link_utilization': lqc_value.get('link_usage', 0) / lqm_value.get('bandwidth', 1) * 100,\n",
    "        })\n",
    "        \n",
    "    return link_quality\n",
    "\n",
    "get_link_quality()"
   ]
  },
  {
   "cell_type": "code",
   "execution_count": 4,
   "metadata": {},
   "outputs": [
    {
     "data": {
      "text/plain": [
       "(1, 2)"
      ]
     },
     "execution_count": 4,
     "metadata": {},
     "output_type": "execute_result"
    }
   ],
   "source": [
    "from extras.utils import get_endpoint_info, get_host\n",
    "# 00:00:00:00:03:e8 00:00:00:00:0f:a0\n",
    "host_json = get_host()\n",
    "get_endpoint_info('00:00:00:00:03:e8', host_json)"
   ]
  }
 ],
 "metadata": {
  "kernelspec": {
   "display_name": "venv11",
   "language": "python",
   "name": "python3"
  },
  "language_info": {
   "codemirror_mode": {
    "name": "ipython",
    "version": 3
   },
   "file_extension": ".py",
   "mimetype": "text/x-python",
   "name": "python",
   "nbconvert_exporter": "python",
   "pygments_lexer": "ipython3",
   "version": "3.11.4"
  },
  "orig_nbformat": 4
 },
 "nbformat": 4,
 "nbformat_minor": 2
}
