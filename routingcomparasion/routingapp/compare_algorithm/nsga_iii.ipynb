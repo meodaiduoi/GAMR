{
 "cells": [
  {
   "cell_type": "code",
   "execution_count": 3,
   "metadata": {},
   "outputs": [],
   "source": [
    "import json\n",
    "\n",
    "from nsga_iii.graph_nsga_iii import *\n",
    "from nsga_iii.function_nsga_iii import *\n",
    "from nsga_iii.population_nsga_iii import *\n",
    "from nsga_iii.evole_nsga_iii import *\n",
    "from nsga_iii.individual_nsga_iii import *\n",
    "\n",
    "def read_data(filename):\n",
    "    with open(filename) as f:\n",
    "        data = json.load(f)\n",
    "    return data\n",
    "\n",
    "def run_nsga_ii(data_path,result_store, population_size, generations, mutation_rate, crossover_rate, run_time_def):\n",
    "    data = read_data(data_path)\n",
    "    nodes = data['nodes']\n",
    "    servers = data['server']\n",
    "    clients = data['client']\n",
    "    edges = data['edges']\n",
    "    adj_matrix = [[] for _ in range(len(nodes))]\n",
    "    for edge in edges:\n",
    "        adj_matrix[edge[0]].append(edge[1])\n",
    "        adj_matrix[edge[1]].append(edge[0])\n",
    "    graph = Graph(len(nodes), len(clients), len(servers), len(clients), clients, servers, adj_matrix)\n",
    "    func = Function()\n",
    "    scenario_list = data['scenario']\n",
    "    result = {}\n",
    "    run_time = 1\n",
    "    for scenario in scenario_list:\n",
    "        sum_delay_topo = 0\n",
    "        delay_update = scenario[\"delay\"]\n",
    "        for delay in delay_update:\n",
    "            sum_delay_topo  = sum_delay_topo + delay[2]\n",
    "        bandwidth_update = scenario[\"bandwidth\"]\n",
    "        loss_update = scenario[\"loss\"]\n",
    "        request = scenario[\"request\"]\n",
    "\n",
    "        graph.updateGraph(delay_update, loss_update, bandwidth_update)\n",
    "\n",
    "        pop = Population()\n",
    "        pop.generate_population(graph, func, population_size, len(request), request)\n",
    "        evole = Evolutionary()\n",
    "        solutions = evole.evolve(pop, func, graph, generations, population_size, mutation_rate, crossover_rate, 2, 10)\n",
    "        # print(solutions)\n",
    "        Pareto = []\n",
    "\n",
    "        for indi in solutions:\n",
    "            objective = []\n",
    "            objective.append(indi.objectives[0]/sum_delay_topo)\n",
    "            objective.append(1+ indi.objectives[1]/200)\n",
    "            objective.append(indi.objectives[2])\n",
    "            Pareto.append(objective)\n",
    "        result[run_time] = Pareto\n",
    "        run_time = run_time + 1\n",
    "        if run_time == run_time_def + 1:\n",
    "            break\n",
    "    with open(result_store, 'w') as f:\n",
    "        json.dump(result, f)"
   ]
  },
  {
   "cell_type": "code",
   "execution_count": 4,
   "metadata": {},
   "outputs": [],
   "source": [
    "run_nsga_ii(r\"data\\oxford\\2_server.json\",r'result\\nsga_iii\\oxford_2_server_2.json', 100, 100, 0.1, 0.8, 50)"
   ]
  },
  {
   "cell_type": "code",
   "execution_count": 5,
   "metadata": {},
   "outputs": [],
   "source": [
    "run_nsga_ii(r\"data\\oxford\\2_server.json\",r'result\\nsga_iii\\oxford_5_server_2.json', 100, 100, 0.1, 0.8, 50)"
   ]
  },
  {
   "cell_type": "code",
   "execution_count": 6,
   "metadata": {},
   "outputs": [],
   "source": [
    "run_nsga_ii(r\"data\\oxford\\2_server.json\",r'result\\nsga_iii\\oxford_15_server_2.json', 100, 100, 0.1, 0.8, 50)"
   ]
  },
  {
   "cell_type": "code",
   "execution_count": 7,
   "metadata": {},
   "outputs": [],
   "source": [
    "run_nsga_ii(r\"data\\oxford\\2_server.json\",r'result\\nsga_iii\\chinanet_2_server_2.json', 100, 100, 0.1, 0.8, 50)"
   ]
  },
  {
   "cell_type": "code",
   "execution_count": 8,
   "metadata": {},
   "outputs": [],
   "source": [
    "run_nsga_ii(r\"data\\oxford\\2_server.json\",r'result\\nsga_iii\\chinanet_5_server_2.json', 100, 100, 0.1, 0.8, 50)"
   ]
  },
  {
   "cell_type": "code",
   "execution_count": 9,
   "metadata": {},
   "outputs": [],
   "source": [
    "run_nsga_ii(r\"data\\oxford\\2_server.json\",r'result\\nsga_iii\\chinanet_15_server_2.json', 100, 100, 0.1, 0.8, 50)"
   ]
  }
 ],
 "metadata": {
  "kernelspec": {
   "display_name": "Python 3",
   "language": "python",
   "name": "python3"
  },
  "language_info": {
   "codemirror_mode": {
    "name": "ipython",
    "version": 3
   },
   "file_extension": ".py",
   "mimetype": "text/x-python",
   "name": "python",
   "nbconvert_exporter": "python",
   "pygments_lexer": "ipython3",
   "version": "3.12.0"
  }
 },
 "nbformat": 4,
 "nbformat_minor": 2
}
